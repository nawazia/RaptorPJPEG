{
 "cells": [
  {
   "cell_type": "code",
   "execution_count": 1,
   "metadata": {},
   "outputs": [],
   "source": [
    "%load_ext autoreload\n",
    "%autoreload 2"
   ]
  },
  {
   "cell_type": "code",
   "execution_count": 2,
   "metadata": {},
   "outputs": [],
   "source": [
    "from utils import (\n",
    "    create_fasta_file, create_random_strand, reverse_complement,\n",
    "    read_synthesized_strands_from_file, get_fastq_records, get_badread_strand_id,\n",
    ")\n",
    "from checksum import CheckSum4\n",
    "import random\n",
    "from clustering import Clustering\n",
    "import numpy as np\n",
    "from strand_reconstruction import align\n",
    "import sys\n",
    "from utils import reverse_complement\n",
    "np.set_printoptions(threshold=sys.maxsize)\n",
    "import os"
   ]
  },
  {
   "cell_type": "code",
   "execution_count": 3,
   "metadata": {},
   "outputs": [
    {
     "name": "stdout",
     "output_type": "stream",
     "text": [
      "Checksum encoded strands saved to /Users/i/Downloads/DNA_STorage/code/libjpeg/cat_FFDX_checksum.fasta\n"
     ]
    }
   ],
   "source": [
    "# Read cat.fasta - add encoding\n",
    "# write fasta\n",
    "# badread\n",
    "# do clustering get candidates\n",
    "# decode without apriori\n",
    "\n",
    "RU10_path = \"/Users/i/Downloads/DNA_STorage/code/libjpeg/cat_FFDX.jpg_RU10.fasta\"\n",
    "checksum_path = os.path.join(os.path.dirname(RU10_path), \"cat_FFDX_checksum.fasta\")\n",
    "recovered_path = os.path.join(os.path.dirname(RU10_path), \"cat_FFDX_rec.fasta\")\n",
    "oligoLen = 204\n",
    "\n",
    "checksum = CheckSum4(reference_length=oligoLen)\n",
    "original_strands, original_strand_ids = read_synthesized_strands_from_file(file_path=RU10_path)\n",
    "encoded_strands = checksum.encode(original_strands)\n",
    "create_fasta_file(ids=original_strand_ids, strands=encoded_strands, output_filepath=checksum_path)\n",
    "print(\"Checksum encoded strands saved to\", checksum_path)"
   ]
  },
  {
   "cell_type": "markdown",
   "metadata": {},
   "source": [
    "### BADREAD & unzip"
   ]
  },
  {
   "cell_type": "code",
   "execution_count": 135,
   "metadata": {},
   "outputs": [
    {
     "name": "stderr",
     "output_type": "stream",
     "text": [
      "18521it [00:00, 48750.99it/s] \n"
     ]
    },
    {
     "name": "stdout",
     "output_type": "stream",
     "text": [
      "Filtering strands by length\n",
      "0.042438313266022355 strands filtered out\n",
      "Removing adapters\n"
     ]
    },
    {
     "name": "stderr",
     "output_type": "stream",
     "text": [
      "100%|██████████| 17735/17735 [00:00<00:00, 38058.85it/s]\n"
     ]
    },
    {
     "name": "stdout",
     "output_type": "stream",
     "text": [
      "Clustering strands\n",
      "Total strands 17735\n"
     ]
    },
    {
     "name": "stderr",
     "output_type": "stream",
     "text": [
      "100%|██████████| 17735/17735 [00:43<00:00, 406.03it/s]\n"
     ]
    },
    {
     "name": "stdout",
     "output_type": "stream",
     "text": [
      "Number of clusters = 1042\n",
      "Clusters are sorted\n",
      "Orientation fixed in the strand pool\n",
      "Generating 959 candidates\n"
     ]
    },
    {
     "name": "stderr",
     "output_type": "stream",
     "text": [
      "100%|██████████| 959/959 [01:32<00:00, 10.32it/s]\n"
     ]
    },
    {
     "name": "stdout",
     "output_type": "stream",
     "text": [
      "Evaluating candidates\n"
     ]
    },
    {
     "name": "stderr",
     "output_type": "stream",
     "text": [
      "959it [00:04, 196.76it/s]"
     ]
    },
    {
     "name": "stdout",
     "output_type": "stream",
     "text": [
      "histt\n"
     ]
    },
    {
     "name": "stderr",
     "output_type": "stream",
     "text": [
      "\n"
     ]
    },
    {
     "data": {
      "application/vnd.plotly.v1+json": {
       "config": {
        "plotlyServerURL": "https://plot.ly"
       },
       "data": [
        {
         "autobinx": false,
         "histnorm": "probability density",
         "legendgroup": "label",
         "marker": {
          "color": "#333F44"
         },
         "name": "label",
         "opacity": 0.7,
         "type": "histogram",
         "x": {
          "bdata": "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",
          "dtype": "f8"
         },
         "xaxis": "x",
         "xbins": {
          "end": 1,
          "size": 0.05,
          "start": 0
         },
         "yaxis": "y"
        },
        {
         "legendgroup": "label",
         "marker": {
          "color": "#333F44"
         },
         "mode": "lines",
         "name": "label",
         "showlegend": false,
         "type": "scatter",
         "x": [
          0,
          0.002,
          0.004,
          0.006,
          0.008,
          0.01,
          0.012,
          0.014,
          0.016,
          0.018,
          0.02,
          0.022,
          0.024,
          0.026,
          0.028,
          0.03,
          0.032,
          0.034,
          0.036,
          0.038,
          0.04,
          0.042,
          0.044,
          0.046,
          0.048,
          0.05,
          0.052,
          0.054,
          0.056,
          0.058,
          0.06,
          0.062,
          0.064,
          0.066,
          0.068,
          0.07,
          0.072,
          0.074,
          0.076,
          0.078,
          0.08,
          0.082,
          0.084,
          0.086,
          0.088,
          0.09,
          0.092,
          0.094,
          0.096,
          0.098,
          0.1,
          0.102,
          0.104,
          0.106,
          0.108,
          0.11,
          0.112,
          0.114,
          0.116,
          0.118,
          0.12,
          0.122,
          0.124,
          0.126,
          0.128,
          0.13,
          0.132,
          0.134,
          0.136,
          0.138,
          0.14,
          0.142,
          0.144,
          0.146,
          0.148,
          0.15,
          0.152,
          0.154,
          0.156,
          0.158,
          0.16,
          0.162,
          0.164,
          0.166,
          0.168,
          0.17,
          0.172,
          0.174,
          0.176,
          0.178,
          0.18,
          0.182,
          0.184,
          0.186,
          0.188,
          0.19,
          0.192,
          0.194,
          0.196,
          0.198,
          0.2,
          0.202,
          0.204,
          0.206,
          0.208,
          0.21,
          0.212,
          0.214,
          0.216,
          0.218,
          0.22,
          0.222,
          0.224,
          0.226,
          0.228,
          0.23,
          0.232,
          0.234,
          0.236,
          0.238,
          0.24,
          0.242,
          0.244,
          0.246,
          0.248,
          0.25,
          0.252,
          0.254,
          0.256,
          0.258,
          0.26,
          0.262,
          0.264,
          0.266,
          0.268,
          0.27,
          0.272,
          0.274,
          0.276,
          0.278,
          0.28,
          0.282,
          0.284,
          0.286,
          0.288,
          0.29,
          0.292,
          0.294,
          0.296,
          0.298,
          0.3,
          0.302,
          0.304,
          0.306,
          0.308,
          0.31,
          0.312,
          0.314,
          0.316,
          0.318,
          0.32,
          0.322,
          0.324,
          0.326,
          0.328,
          0.33,
          0.332,
          0.334,
          0.336,
          0.338,
          0.34,
          0.342,
          0.344,
          0.346,
          0.348,
          0.35,
          0.352,
          0.354,
          0.356,
          0.358,
          0.36,
          0.362,
          0.364,
          0.366,
          0.368,
          0.37,
          0.372,
          0.374,
          0.376,
          0.378,
          0.38,
          0.382,
          0.384,
          0.386,
          0.388,
          0.39,
          0.392,
          0.394,
          0.396,
          0.398,
          0.4,
          0.402,
          0.404,
          0.406,
          0.408,
          0.41,
          0.412,
          0.414,
          0.416,
          0.418,
          0.42,
          0.422,
          0.424,
          0.426,
          0.428,
          0.43,
          0.432,
          0.434,
          0.436,
          0.438,
          0.44,
          0.442,
          0.444,
          0.446,
          0.448,
          0.45,
          0.452,
          0.454,
          0.456,
          0.458,
          0.46,
          0.462,
          0.464,
          0.466,
          0.468,
          0.47,
          0.472,
          0.474,
          0.476,
          0.478,
          0.48,
          0.482,
          0.484,
          0.486,
          0.488,
          0.49,
          0.492,
          0.494,
          0.496,
          0.498,
          0.5,
          0.502,
          0.504,
          0.506,
          0.508,
          0.51,
          0.512,
          0.514,
          0.516,
          0.518,
          0.52,
          0.522,
          0.524,
          0.526,
          0.528,
          0.53,
          0.532,
          0.534,
          0.536,
          0.538,
          0.54,
          0.542,
          0.544,
          0.546,
          0.548,
          0.55,
          0.552,
          0.554,
          0.556,
          0.558,
          0.56,
          0.562,
          0.564,
          0.566,
          0.568,
          0.57,
          0.572,
          0.574,
          0.576,
          0.578,
          0.58,
          0.582,
          0.584,
          0.586,
          0.588,
          0.59,
          0.592,
          0.594,
          0.596,
          0.598,
          0.6,
          0.602,
          0.604,
          0.606,
          0.608,
          0.61,
          0.612,
          0.614,
          0.616,
          0.618,
          0.62,
          0.622,
          0.624,
          0.626,
          0.628,
          0.63,
          0.632,
          0.634,
          0.636,
          0.638,
          0.64,
          0.642,
          0.644,
          0.646,
          0.648,
          0.65,
          0.652,
          0.654,
          0.656,
          0.658,
          0.66,
          0.662,
          0.664,
          0.666,
          0.668,
          0.67,
          0.672,
          0.674,
          0.676,
          0.678,
          0.68,
          0.682,
          0.684,
          0.686,
          0.688,
          0.69,
          0.692,
          0.694,
          0.696,
          0.698,
          0.7,
          0.702,
          0.704,
          0.706,
          0.708,
          0.71,
          0.712,
          0.714,
          0.716,
          0.718,
          0.72,
          0.722,
          0.724,
          0.726,
          0.728,
          0.73,
          0.732,
          0.734,
          0.736,
          0.738,
          0.74,
          0.742,
          0.744,
          0.746,
          0.748,
          0.75,
          0.752,
          0.754,
          0.756,
          0.758,
          0.76,
          0.762,
          0.764,
          0.766,
          0.768,
          0.77,
          0.772,
          0.774,
          0.776,
          0.778,
          0.78,
          0.782,
          0.784,
          0.786,
          0.788,
          0.79,
          0.792,
          0.794,
          0.796,
          0.798,
          0.8,
          0.802,
          0.804,
          0.806,
          0.808,
          0.81,
          0.812,
          0.814,
          0.816,
          0.818,
          0.82,
          0.822,
          0.824,
          0.826,
          0.828,
          0.83,
          0.832,
          0.834,
          0.836,
          0.838,
          0.84,
          0.842,
          0.844,
          0.846,
          0.848,
          0.85,
          0.852,
          0.854,
          0.856,
          0.858,
          0.86,
          0.862,
          0.864,
          0.866,
          0.868,
          0.87,
          0.872,
          0.874,
          0.876,
          0.878,
          0.88,
          0.882,
          0.884,
          0.886,
          0.888,
          0.89,
          0.892,
          0.894,
          0.896,
          0.898,
          0.9,
          0.902,
          0.904,
          0.906,
          0.908,
          0.91,
          0.912,
          0.914,
          0.916,
          0.918,
          0.92,
          0.922,
          0.924,
          0.926,
          0.928,
          0.93,
          0.932,
          0.934,
          0.936,
          0.938,
          0.94,
          0.942,
          0.944,
          0.946,
          0.948,
          0.95,
          0.952,
          0.954,
          0.956,
          0.958,
          0.96,
          0.962,
          0.964,
          0.966,
          0.968,
          0.97,
          0.972,
          0.974,
          0.976,
          0.978,
          0.98,
          0.982,
          0.984,
          0.986,
          0.988,
          0.99,
          0.992,
          0.994,
          0.996,
          0.998
         ],
         "xaxis": "x",
         "y": {
          "bdata": "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",
          "dtype": "f8"
         },
         "yaxis": "y"
        }
       ],
       "layout": {
        "barmode": "overlay",
        "hovermode": "closest",
        "legend": {
         "traceorder": "reversed"
        },
        "template": {
         "data": {
          "bar": [
           {
            "error_x": {
             "color": "#2a3f5f"
            },
            "error_y": {
             "color": "#2a3f5f"
            },
            "marker": {
             "line": {
              "color": "#E5ECF6",
              "width": 0.5
             },
             "pattern": {
              "fillmode": "overlay",
              "size": 10,
              "solidity": 0.2
             }
            },
            "type": "bar"
           }
          ],
          "barpolar": [
           {
            "marker": {
             "line": {
              "color": "#E5ECF6",
              "width": 0.5
             },
             "pattern": {
              "fillmode": "overlay",
              "size": 10,
              "solidity": 0.2
             }
            },
            "type": "barpolar"
           }
          ],
          "carpet": [
           {
            "aaxis": {
             "endlinecolor": "#2a3f5f",
             "gridcolor": "white",
             "linecolor": "white",
             "minorgridcolor": "white",
             "startlinecolor": "#2a3f5f"
            },
            "baxis": {
             "endlinecolor": "#2a3f5f",
             "gridcolor": "white",
             "linecolor": "white",
             "minorgridcolor": "white",
             "startlinecolor": "#2a3f5f"
            },
            "type": "carpet"
           }
          ],
          "choropleth": [
           {
            "colorbar": {
             "outlinewidth": 0,
             "ticks": ""
            },
            "type": "choropleth"
           }
          ],
          "contour": [
           {
            "colorbar": {
             "outlinewidth": 0,
             "ticks": ""
            },
            "colorscale": [
             [
              0,
              "#0d0887"
             ],
             [
              0.1111111111111111,
              "#46039f"
             ],
             [
              0.2222222222222222,
              "#7201a8"
             ],
             [
              0.3333333333333333,
              "#9c179e"
             ],
             [
              0.4444444444444444,
              "#bd3786"
             ],
             [
              0.5555555555555556,
              "#d8576b"
             ],
             [
              0.6666666666666666,
              "#ed7953"
             ],
             [
              0.7777777777777778,
              "#fb9f3a"
             ],
             [
              0.8888888888888888,
              "#fdca26"
             ],
             [
              1,
              "#f0f921"
             ]
            ],
            "type": "contour"
           }
          ],
          "contourcarpet": [
           {
            "colorbar": {
             "outlinewidth": 0,
             "ticks": ""
            },
            "type": "contourcarpet"
           }
          ],
          "heatmap": [
           {
            "colorbar": {
             "outlinewidth": 0,
             "ticks": ""
            },
            "colorscale": [
             [
              0,
              "#0d0887"
             ],
             [
              0.1111111111111111,
              "#46039f"
             ],
             [
              0.2222222222222222,
              "#7201a8"
             ],
             [
              0.3333333333333333,
              "#9c179e"
             ],
             [
              0.4444444444444444,
              "#bd3786"
             ],
             [
              0.5555555555555556,
              "#d8576b"
             ],
             [
              0.6666666666666666,
              "#ed7953"
             ],
             [
              0.7777777777777778,
              "#fb9f3a"
             ],
             [
              0.8888888888888888,
              "#fdca26"
             ],
             [
              1,
              "#f0f921"
             ]
            ],
            "type": "heatmap"
           }
          ],
          "histogram": [
           {
            "marker": {
             "pattern": {
              "fillmode": "overlay",
              "size": 10,
              "solidity": 0.2
             }
            },
            "type": "histogram"
           }
          ],
          "histogram2d": [
           {
            "colorbar": {
             "outlinewidth": 0,
             "ticks": ""
            },
            "colorscale": [
             [
              0,
              "#0d0887"
             ],
             [
              0.1111111111111111,
              "#46039f"
             ],
             [
              0.2222222222222222,
              "#7201a8"
             ],
             [
              0.3333333333333333,
              "#9c179e"
             ],
             [
              0.4444444444444444,
              "#bd3786"
             ],
             [
              0.5555555555555556,
              "#d8576b"
             ],
             [
              0.6666666666666666,
              "#ed7953"
             ],
             [
              0.7777777777777778,
              "#fb9f3a"
             ],
             [
              0.8888888888888888,
              "#fdca26"
             ],
             [
              1,
              "#f0f921"
             ]
            ],
            "type": "histogram2d"
           }
          ],
          "histogram2dcontour": [
           {
            "colorbar": {
             "outlinewidth": 0,
             "ticks": ""
            },
            "colorscale": [
             [
              0,
              "#0d0887"
             ],
             [
              0.1111111111111111,
              "#46039f"
             ],
             [
              0.2222222222222222,
              "#7201a8"
             ],
             [
              0.3333333333333333,
              "#9c179e"
             ],
             [
              0.4444444444444444,
              "#bd3786"
             ],
             [
              0.5555555555555556,
              "#d8576b"
             ],
             [
              0.6666666666666666,
              "#ed7953"
             ],
             [
              0.7777777777777778,
              "#fb9f3a"
             ],
             [
              0.8888888888888888,
              "#fdca26"
             ],
             [
              1,
              "#f0f921"
             ]
            ],
            "type": "histogram2dcontour"
           }
          ],
          "mesh3d": [
           {
            "colorbar": {
             "outlinewidth": 0,
             "ticks": ""
            },
            "type": "mesh3d"
           }
          ],
          "parcoords": [
           {
            "line": {
             "colorbar": {
              "outlinewidth": 0,
              "ticks": ""
             }
            },
            "type": "parcoords"
           }
          ],
          "pie": [
           {
            "automargin": true,
            "type": "pie"
           }
          ],
          "scatter": [
           {
            "fillpattern": {
             "fillmode": "overlay",
             "size": 10,
             "solidity": 0.2
            },
            "type": "scatter"
           }
          ],
          "scatter3d": [
           {
            "line": {
             "colorbar": {
              "outlinewidth": 0,
              "ticks": ""
             }
            },
            "marker": {
             "colorbar": {
              "outlinewidth": 0,
              "ticks": ""
             }
            },
            "type": "scatter3d"
           }
          ],
          "scattercarpet": [
           {
            "marker": {
             "colorbar": {
              "outlinewidth": 0,
              "ticks": ""
             }
            },
            "type": "scattercarpet"
           }
          ],
          "scattergeo": [
           {
            "marker": {
             "colorbar": {
              "outlinewidth": 0,
              "ticks": ""
             }
            },
            "type": "scattergeo"
           }
          ],
          "scattergl": [
           {
            "marker": {
             "colorbar": {
              "outlinewidth": 0,
              "ticks": ""
             }
            },
            "type": "scattergl"
           }
          ],
          "scattermap": [
           {
            "marker": {
             "colorbar": {
              "outlinewidth": 0,
              "ticks": ""
             }
            },
            "type": "scattermap"
           }
          ],
          "scattermapbox": [
           {
            "marker": {
             "colorbar": {
              "outlinewidth": 0,
              "ticks": ""
             }
            },
            "type": "scattermapbox"
           }
          ],
          "scatterpolar": [
           {
            "marker": {
             "colorbar": {
              "outlinewidth": 0,
              "ticks": ""
             }
            },
            "type": "scatterpolar"
           }
          ],
          "scatterpolargl": [
           {
            "marker": {
             "colorbar": {
              "outlinewidth": 0,
              "ticks": ""
             }
            },
            "type": "scatterpolargl"
           }
          ],
          "scatterternary": [
           {
            "marker": {
             "colorbar": {
              "outlinewidth": 0,
              "ticks": ""
             }
            },
            "type": "scatterternary"
           }
          ],
          "surface": [
           {
            "colorbar": {
             "outlinewidth": 0,
             "ticks": ""
            },
            "colorscale": [
             [
              0,
              "#0d0887"
             ],
             [
              0.1111111111111111,
              "#46039f"
             ],
             [
              0.2222222222222222,
              "#7201a8"
             ],
             [
              0.3333333333333333,
              "#9c179e"
             ],
             [
              0.4444444444444444,
              "#bd3786"
             ],
             [
              0.5555555555555556,
              "#d8576b"
             ],
             [
              0.6666666666666666,
              "#ed7953"
             ],
             [
              0.7777777777777778,
              "#fb9f3a"
             ],
             [
              0.8888888888888888,
              "#fdca26"
             ],
             [
              1,
              "#f0f921"
             ]
            ],
            "type": "surface"
           }
          ],
          "table": [
           {
            "cells": {
             "fill": {
              "color": "#EBF0F8"
             },
             "line": {
              "color": "white"
             }
            },
            "header": {
             "fill": {
              "color": "#C8D4E3"
             },
             "line": {
              "color": "white"
             }
            },
            "type": "table"
           }
          ]
         },
         "layout": {
          "annotationdefaults": {
           "arrowcolor": "#2a3f5f",
           "arrowhead": 0,
           "arrowwidth": 1
          },
          "autotypenumbers": "strict",
          "coloraxis": {
           "colorbar": {
            "outlinewidth": 0,
            "ticks": ""
           }
          },
          "colorscale": {
           "diverging": [
            [
             0,
             "#8e0152"
            ],
            [
             0.1,
             "#c51b7d"
            ],
            [
             0.2,
             "#de77ae"
            ],
            [
             0.3,
             "#f1b6da"
            ],
            [
             0.4,
             "#fde0ef"
            ],
            [
             0.5,
             "#f7f7f7"
            ],
            [
             0.6,
             "#e6f5d0"
            ],
            [
             0.7,
             "#b8e186"
            ],
            [
             0.8,
             "#7fbc41"
            ],
            [
             0.9,
             "#4d9221"
            ],
            [
             1,
             "#276419"
            ]
           ],
           "sequential": [
            [
             0,
             "#0d0887"
            ],
            [
             0.1111111111111111,
             "#46039f"
            ],
            [
             0.2222222222222222,
             "#7201a8"
            ],
            [
             0.3333333333333333,
             "#9c179e"
            ],
            [
             0.4444444444444444,
             "#bd3786"
            ],
            [
             0.5555555555555556,
             "#d8576b"
            ],
            [
             0.6666666666666666,
             "#ed7953"
            ],
            [
             0.7777777777777778,
             "#fb9f3a"
            ],
            [
             0.8888888888888888,
             "#fdca26"
            ],
            [
             1,
             "#f0f921"
            ]
           ],
           "sequentialminus": [
            [
             0,
             "#0d0887"
            ],
            [
             0.1111111111111111,
             "#46039f"
            ],
            [
             0.2222222222222222,
             "#7201a8"
            ],
            [
             0.3333333333333333,
             "#9c179e"
            ],
            [
             0.4444444444444444,
             "#bd3786"
            ],
            [
             0.5555555555555556,
             "#d8576b"
            ],
            [
             0.6666666666666666,
             "#ed7953"
            ],
            [
             0.7777777777777778,
             "#fb9f3a"
            ],
            [
             0.8888888888888888,
             "#fdca26"
            ],
            [
             1,
             "#f0f921"
            ]
           ]
          },
          "colorway": [
           "#636efa",
           "#EF553B",
           "#00cc96",
           "#ab63fa",
           "#FFA15A",
           "#19d3f3",
           "#FF6692",
           "#B6E880",
           "#FF97FF",
           "#FECB52"
          ],
          "font": {
           "color": "#2a3f5f"
          },
          "geo": {
           "bgcolor": "white",
           "lakecolor": "white",
           "landcolor": "#E5ECF6",
           "showlakes": true,
           "showland": true,
           "subunitcolor": "white"
          },
          "hoverlabel": {
           "align": "left"
          },
          "hovermode": "closest",
          "mapbox": {
           "style": "light"
          },
          "paper_bgcolor": "white",
          "plot_bgcolor": "#E5ECF6",
          "polar": {
           "angularaxis": {
            "gridcolor": "white",
            "linecolor": "white",
            "ticks": ""
           },
           "bgcolor": "#E5ECF6",
           "radialaxis": {
            "gridcolor": "white",
            "linecolor": "white",
            "ticks": ""
           }
          },
          "scene": {
           "xaxis": {
            "backgroundcolor": "#E5ECF6",
            "gridcolor": "white",
            "gridwidth": 2,
            "linecolor": "white",
            "showbackground": true,
            "ticks": "",
            "zerolinecolor": "white"
           },
           "yaxis": {
            "backgroundcolor": "#E5ECF6",
            "gridcolor": "white",
            "gridwidth": 2,
            "linecolor": "white",
            "showbackground": true,
            "ticks": "",
            "zerolinecolor": "white"
           },
           "zaxis": {
            "backgroundcolor": "#E5ECF6",
            "gridcolor": "white",
            "gridwidth": 2,
            "linecolor": "white",
            "showbackground": true,
            "ticks": "",
            "zerolinecolor": "white"
           }
          },
          "shapedefaults": {
           "line": {
            "color": "#2a3f5f"
           }
          },
          "ternary": {
           "aaxis": {
            "gridcolor": "white",
            "linecolor": "white",
            "ticks": ""
           },
           "baxis": {
            "gridcolor": "white",
            "linecolor": "white",
            "ticks": ""
           },
           "bgcolor": "#E5ECF6",
           "caxis": {
            "gridcolor": "white",
            "linecolor": "white",
            "ticks": ""
           }
          },
          "title": {
           "x": 0.05
          },
          "xaxis": {
           "automargin": true,
           "gridcolor": "white",
           "linecolor": "white",
           "ticks": "",
           "title": {
            "standoff": 15
           },
           "zerolinecolor": "white",
           "zerolinewidth": 2
          },
          "yaxis": {
           "automargin": true,
           "gridcolor": "white",
           "linecolor": "white",
           "ticks": "",
           "title": {
            "standoff": 15
           },
           "zerolinecolor": "white",
           "zerolinewidth": 2
          }
         }
        },
        "title": {
         "text": "Recovery of reference strands for candidates using identity"
        },
        "xaxis": {
         "anchor": "y2",
         "domain": [
          0,
          1
         ],
         "zeroline": false
        },
        "yaxis": {
         "anchor": "free",
         "domain": [
          0,
          1
         ],
         "position": 0
        }
       }
      }
     },
     "metadata": {},
     "output_type": "display_data"
    },
    {
     "name": "stderr",
     "output_type": "stream",
     "text": [
      "100%|██████████| 959/959 [00:00<00:00, 7025.27it/s]\n"
     ]
    },
    {
     "name": "stdout",
     "output_type": "stream",
     "text": [
      "484 direct checksum matches found\n",
      "Making guesses\n"
     ]
    },
    {
     "name": "stderr",
     "output_type": "stream",
     "text": [
      "100%|██████████| 475/475 [01:18<00:00,  6.09it/s]"
     ]
    },
    {
     "name": "stdout",
     "output_type": "stream",
     "text": [
      "229 extra found after guessing\n",
      "0.48807854137447404 were reversed\n",
      "713 Valid checksum strands found\n"
     ]
    },
    {
     "name": "stderr",
     "output_type": "stream",
     "text": [
      "\n"
     ]
    }
   ],
   "source": [
    "# Raptor\n",
    "records = get_fastq_records(fastq_filepath=\"/Users/i/Downloads/DNA_STorage/code/libjpeg/reads.fastq\")\n",
    "\n",
    "reads = [str(i.seq) for i in records]\n",
    "ids = [get_badread_strand_id(i) for i in records]\n",
    "\n",
    "clustering = Clustering(strand_pool=reads, reference_length=oligoLen+4, original_strands=encoded_strands, strand_pool_ids=ids, distance_threshold=40)\n",
    "clustering.run_pipeline(eval=True)\n",
    "# We want to recover the original strands after checksum\n",
    "decoded_strands = checksum.decode(candidates=clustering.candidates, n_reference_strands=len(original_strands), clustered_seqs=clustering.clustered_seqs, n_guesses=5, guesses=True)\n",
    "ids = [\"\" for i in range(len(decoded_strands))]\n",
    "create_fasta_file(ids, decoded_strands, output_filepath=recovered_path)"
   ]
  },
  {
   "cell_type": "code",
   "execution_count": 136,
   "metadata": {},
   "outputs": [
    {
     "name": "stderr",
     "output_type": "stream",
     "text": [
      "959it [00:04, 196.02it/s]\n"
     ]
    },
    {
     "data": {
      "application/vnd.plotly.v1+json": {
       "config": {
        "plotlyServerURL": "https://plot.ly"
       },
       "data": [
        {
         "autobinx": false,
         "histnorm": "probability density",
         "legendgroup": "",
         "marker": {
          "color": "#835AF1"
         },
         "name": "",
         "opacity": 0.7,
         "type": "histogram",
         "x": {
          "bdata": "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",
          "dtype": "f8"
         },
         "xaxis": "x",
         "xbins": {
          "end": 1,
          "size": 0.05,
          "start": 0
         },
         "yaxis": "y"
        },
        {
         "legendgroup": "",
         "marker": {
          "color": "#835AF1"
         },
         "mode": "lines",
         "name": "",
         "showlegend": false,
         "type": "scatter",
         "x": [
          0,
          0.002,
          0.004,
          0.006,
          0.008,
          0.01,
          0.012,
          0.014,
          0.016,
          0.018,
          0.02,
          0.022,
          0.024,
          0.026,
          0.028,
          0.03,
          0.032,
          0.034,
          0.036,
          0.038,
          0.04,
          0.042,
          0.044,
          0.046,
          0.048,
          0.05,
          0.052,
          0.054,
          0.056,
          0.058,
          0.06,
          0.062,
          0.064,
          0.066,
          0.068,
          0.07,
          0.072,
          0.074,
          0.076,
          0.078,
          0.08,
          0.082,
          0.084,
          0.086,
          0.088,
          0.09,
          0.092,
          0.094,
          0.096,
          0.098,
          0.1,
          0.102,
          0.104,
          0.106,
          0.108,
          0.11,
          0.112,
          0.114,
          0.116,
          0.118,
          0.12,
          0.122,
          0.124,
          0.126,
          0.128,
          0.13,
          0.132,
          0.134,
          0.136,
          0.138,
          0.14,
          0.142,
          0.144,
          0.146,
          0.148,
          0.15,
          0.152,
          0.154,
          0.156,
          0.158,
          0.16,
          0.162,
          0.164,
          0.166,
          0.168,
          0.17,
          0.172,
          0.174,
          0.176,
          0.178,
          0.18,
          0.182,
          0.184,
          0.186,
          0.188,
          0.19,
          0.192,
          0.194,
          0.196,
          0.198,
          0.2,
          0.202,
          0.204,
          0.206,
          0.208,
          0.21,
          0.212,
          0.214,
          0.216,
          0.218,
          0.22,
          0.222,
          0.224,
          0.226,
          0.228,
          0.23,
          0.232,
          0.234,
          0.236,
          0.238,
          0.24,
          0.242,
          0.244,
          0.246,
          0.248,
          0.25,
          0.252,
          0.254,
          0.256,
          0.258,
          0.26,
          0.262,
          0.264,
          0.266,
          0.268,
          0.27,
          0.272,
          0.274,
          0.276,
          0.278,
          0.28,
          0.282,
          0.284,
          0.286,
          0.288,
          0.29,
          0.292,
          0.294,
          0.296,
          0.298,
          0.3,
          0.302,
          0.304,
          0.306,
          0.308,
          0.31,
          0.312,
          0.314,
          0.316,
          0.318,
          0.32,
          0.322,
          0.324,
          0.326,
          0.328,
          0.33,
          0.332,
          0.334,
          0.336,
          0.338,
          0.34,
          0.342,
          0.344,
          0.346,
          0.348,
          0.35,
          0.352,
          0.354,
          0.356,
          0.358,
          0.36,
          0.362,
          0.364,
          0.366,
          0.368,
          0.37,
          0.372,
          0.374,
          0.376,
          0.378,
          0.38,
          0.382,
          0.384,
          0.386,
          0.388,
          0.39,
          0.392,
          0.394,
          0.396,
          0.398,
          0.4,
          0.402,
          0.404,
          0.406,
          0.408,
          0.41,
          0.412,
          0.414,
          0.416,
          0.418,
          0.42,
          0.422,
          0.424,
          0.426,
          0.428,
          0.43,
          0.432,
          0.434,
          0.436,
          0.438,
          0.44,
          0.442,
          0.444,
          0.446,
          0.448,
          0.45,
          0.452,
          0.454,
          0.456,
          0.458,
          0.46,
          0.462,
          0.464,
          0.466,
          0.468,
          0.47,
          0.472,
          0.474,
          0.476,
          0.478,
          0.48,
          0.482,
          0.484,
          0.486,
          0.488,
          0.49,
          0.492,
          0.494,
          0.496,
          0.498,
          0.5,
          0.502,
          0.504,
          0.506,
          0.508,
          0.51,
          0.512,
          0.514,
          0.516,
          0.518,
          0.52,
          0.522,
          0.524,
          0.526,
          0.528,
          0.53,
          0.532,
          0.534,
          0.536,
          0.538,
          0.54,
          0.542,
          0.544,
          0.546,
          0.548,
          0.55,
          0.552,
          0.554,
          0.556,
          0.558,
          0.56,
          0.562,
          0.564,
          0.566,
          0.568,
          0.57,
          0.572,
          0.574,
          0.576,
          0.578,
          0.58,
          0.582,
          0.584,
          0.586,
          0.588,
          0.59,
          0.592,
          0.594,
          0.596,
          0.598,
          0.6,
          0.602,
          0.604,
          0.606,
          0.608,
          0.61,
          0.612,
          0.614,
          0.616,
          0.618,
          0.62,
          0.622,
          0.624,
          0.626,
          0.628,
          0.63,
          0.632,
          0.634,
          0.636,
          0.638,
          0.64,
          0.642,
          0.644,
          0.646,
          0.648,
          0.65,
          0.652,
          0.654,
          0.656,
          0.658,
          0.66,
          0.662,
          0.664,
          0.666,
          0.668,
          0.67,
          0.672,
          0.674,
          0.676,
          0.678,
          0.68,
          0.682,
          0.684,
          0.686,
          0.688,
          0.69,
          0.692,
          0.694,
          0.696,
          0.698,
          0.7,
          0.702,
          0.704,
          0.706,
          0.708,
          0.71,
          0.712,
          0.714,
          0.716,
          0.718,
          0.72,
          0.722,
          0.724,
          0.726,
          0.728,
          0.73,
          0.732,
          0.734,
          0.736,
          0.738,
          0.74,
          0.742,
          0.744,
          0.746,
          0.748,
          0.75,
          0.752,
          0.754,
          0.756,
          0.758,
          0.76,
          0.762,
          0.764,
          0.766,
          0.768,
          0.77,
          0.772,
          0.774,
          0.776,
          0.778,
          0.78,
          0.782,
          0.784,
          0.786,
          0.788,
          0.79,
          0.792,
          0.794,
          0.796,
          0.798,
          0.8,
          0.802,
          0.804,
          0.806,
          0.808,
          0.81,
          0.812,
          0.814,
          0.816,
          0.818,
          0.82,
          0.822,
          0.824,
          0.826,
          0.828,
          0.83,
          0.832,
          0.834,
          0.836,
          0.838,
          0.84,
          0.842,
          0.844,
          0.846,
          0.848,
          0.85,
          0.852,
          0.854,
          0.856,
          0.858,
          0.86,
          0.862,
          0.864,
          0.866,
          0.868,
          0.87,
          0.872,
          0.874,
          0.876,
          0.878,
          0.88,
          0.882,
          0.884,
          0.886,
          0.888,
          0.89,
          0.892,
          0.894,
          0.896,
          0.898,
          0.9,
          0.902,
          0.904,
          0.906,
          0.908,
          0.91,
          0.912,
          0.914,
          0.916,
          0.918,
          0.92,
          0.922,
          0.924,
          0.926,
          0.928,
          0.93,
          0.932,
          0.934,
          0.936,
          0.938,
          0.94,
          0.942,
          0.944,
          0.946,
          0.948,
          0.95,
          0.952,
          0.954,
          0.956,
          0.958,
          0.96,
          0.962,
          0.964,
          0.966,
          0.968,
          0.97,
          0.972,
          0.974,
          0.976,
          0.978,
          0.98,
          0.982,
          0.984,
          0.986,
          0.988,
          0.99,
          0.992,
          0.994,
          0.996,
          0.998
         ],
         "xaxis": "x",
         "y": {
          "bdata": "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",
          "dtype": "f8"
         },
         "yaxis": "y"
        }
       ],
       "layout": {
        "barmode": "overlay",
        "hovermode": "closest",
        "legend": {
         "traceorder": "reversed"
        },
        "template": {
         "data": {
          "bar": [
           {
            "error_x": {
             "color": "#2a3f5f"
            },
            "error_y": {
             "color": "#2a3f5f"
            },
            "marker": {
             "line": {
              "color": "#E5ECF6",
              "width": 0.5
             },
             "pattern": {
              "fillmode": "overlay",
              "size": 10,
              "solidity": 0.2
             }
            },
            "type": "bar"
           }
          ],
          "barpolar": [
           {
            "marker": {
             "line": {
              "color": "#E5ECF6",
              "width": 0.5
             },
             "pattern": {
              "fillmode": "overlay",
              "size": 10,
              "solidity": 0.2
             }
            },
            "type": "barpolar"
           }
          ],
          "carpet": [
           {
            "aaxis": {
             "endlinecolor": "#2a3f5f",
             "gridcolor": "white",
             "linecolor": "white",
             "minorgridcolor": "white",
             "startlinecolor": "#2a3f5f"
            },
            "baxis": {
             "endlinecolor": "#2a3f5f",
             "gridcolor": "white",
             "linecolor": "white",
             "minorgridcolor": "white",
             "startlinecolor": "#2a3f5f"
            },
            "type": "carpet"
           }
          ],
          "choropleth": [
           {
            "colorbar": {
             "outlinewidth": 0,
             "ticks": ""
            },
            "type": "choropleth"
           }
          ],
          "contour": [
           {
            "colorbar": {
             "outlinewidth": 0,
             "ticks": ""
            },
            "colorscale": [
             [
              0,
              "#0d0887"
             ],
             [
              0.1111111111111111,
              "#46039f"
             ],
             [
              0.2222222222222222,
              "#7201a8"
             ],
             [
              0.3333333333333333,
              "#9c179e"
             ],
             [
              0.4444444444444444,
              "#bd3786"
             ],
             [
              0.5555555555555556,
              "#d8576b"
             ],
             [
              0.6666666666666666,
              "#ed7953"
             ],
             [
              0.7777777777777778,
              "#fb9f3a"
             ],
             [
              0.8888888888888888,
              "#fdca26"
             ],
             [
              1,
              "#f0f921"
             ]
            ],
            "type": "contour"
           }
          ],
          "contourcarpet": [
           {
            "colorbar": {
             "outlinewidth": 0,
             "ticks": ""
            },
            "type": "contourcarpet"
           }
          ],
          "heatmap": [
           {
            "colorbar": {
             "outlinewidth": 0,
             "ticks": ""
            },
            "colorscale": [
             [
              0,
              "#0d0887"
             ],
             [
              0.1111111111111111,
              "#46039f"
             ],
             [
              0.2222222222222222,
              "#7201a8"
             ],
             [
              0.3333333333333333,
              "#9c179e"
             ],
             [
              0.4444444444444444,
              "#bd3786"
             ],
             [
              0.5555555555555556,
              "#d8576b"
             ],
             [
              0.6666666666666666,
              "#ed7953"
             ],
             [
              0.7777777777777778,
              "#fb9f3a"
             ],
             [
              0.8888888888888888,
              "#fdca26"
             ],
             [
              1,
              "#f0f921"
             ]
            ],
            "type": "heatmap"
           }
          ],
          "histogram": [
           {
            "marker": {
             "pattern": {
              "fillmode": "overlay",
              "size": 10,
              "solidity": 0.2
             }
            },
            "type": "histogram"
           }
          ],
          "histogram2d": [
           {
            "colorbar": {
             "outlinewidth": 0,
             "ticks": ""
            },
            "colorscale": [
             [
              0,
              "#0d0887"
             ],
             [
              0.1111111111111111,
              "#46039f"
             ],
             [
              0.2222222222222222,
              "#7201a8"
             ],
             [
              0.3333333333333333,
              "#9c179e"
             ],
             [
              0.4444444444444444,
              "#bd3786"
             ],
             [
              0.5555555555555556,
              "#d8576b"
             ],
             [
              0.6666666666666666,
              "#ed7953"
             ],
             [
              0.7777777777777778,
              "#fb9f3a"
             ],
             [
              0.8888888888888888,
              "#fdca26"
             ],
             [
              1,
              "#f0f921"
             ]
            ],
            "type": "histogram2d"
           }
          ],
          "histogram2dcontour": [
           {
            "colorbar": {
             "outlinewidth": 0,
             "ticks": ""
            },
            "colorscale": [
             [
              0,
              "#0d0887"
             ],
             [
              0.1111111111111111,
              "#46039f"
             ],
             [
              0.2222222222222222,
              "#7201a8"
             ],
             [
              0.3333333333333333,
              "#9c179e"
             ],
             [
              0.4444444444444444,
              "#bd3786"
             ],
             [
              0.5555555555555556,
              "#d8576b"
             ],
             [
              0.6666666666666666,
              "#ed7953"
             ],
             [
              0.7777777777777778,
              "#fb9f3a"
             ],
             [
              0.8888888888888888,
              "#fdca26"
             ],
             [
              1,
              "#f0f921"
             ]
            ],
            "type": "histogram2dcontour"
           }
          ],
          "mesh3d": [
           {
            "colorbar": {
             "outlinewidth": 0,
             "ticks": ""
            },
            "type": "mesh3d"
           }
          ],
          "parcoords": [
           {
            "line": {
             "colorbar": {
              "outlinewidth": 0,
              "ticks": ""
             }
            },
            "type": "parcoords"
           }
          ],
          "pie": [
           {
            "automargin": true,
            "type": "pie"
           }
          ],
          "scatter": [
           {
            "fillpattern": {
             "fillmode": "overlay",
             "size": 10,
             "solidity": 0.2
            },
            "type": "scatter"
           }
          ],
          "scatter3d": [
           {
            "line": {
             "colorbar": {
              "outlinewidth": 0,
              "ticks": ""
             }
            },
            "marker": {
             "colorbar": {
              "outlinewidth": 0,
              "ticks": ""
             }
            },
            "type": "scatter3d"
           }
          ],
          "scattercarpet": [
           {
            "marker": {
             "colorbar": {
              "outlinewidth": 0,
              "ticks": ""
             }
            },
            "type": "scattercarpet"
           }
          ],
          "scattergeo": [
           {
            "marker": {
             "colorbar": {
              "outlinewidth": 0,
              "ticks": ""
             }
            },
            "type": "scattergeo"
           }
          ],
          "scattergl": [
           {
            "marker": {
             "colorbar": {
              "outlinewidth": 0,
              "ticks": ""
             }
            },
            "type": "scattergl"
           }
          ],
          "scattermap": [
           {
            "marker": {
             "colorbar": {
              "outlinewidth": 0,
              "ticks": ""
             }
            },
            "type": "scattermap"
           }
          ],
          "scattermapbox": [
           {
            "marker": {
             "colorbar": {
              "outlinewidth": 0,
              "ticks": ""
             }
            },
            "type": "scattermapbox"
           }
          ],
          "scatterpolar": [
           {
            "marker": {
             "colorbar": {
              "outlinewidth": 0,
              "ticks": ""
             }
            },
            "type": "scatterpolar"
           }
          ],
          "scatterpolargl": [
           {
            "marker": {
             "colorbar": {
              "outlinewidth": 0,
              "ticks": ""
             }
            },
            "type": "scatterpolargl"
           }
          ],
          "scatterternary": [
           {
            "marker": {
             "colorbar": {
              "outlinewidth": 0,
              "ticks": ""
             }
            },
            "type": "scatterternary"
           }
          ],
          "surface": [
           {
            "colorbar": {
             "outlinewidth": 0,
             "ticks": ""
            },
            "colorscale": [
             [
              0,
              "#0d0887"
             ],
             [
              0.1111111111111111,
              "#46039f"
             ],
             [
              0.2222222222222222,
              "#7201a8"
             ],
             [
              0.3333333333333333,
              "#9c179e"
             ],
             [
              0.4444444444444444,
              "#bd3786"
             ],
             [
              0.5555555555555556,
              "#d8576b"
             ],
             [
              0.6666666666666666,
              "#ed7953"
             ],
             [
              0.7777777777777778,
              "#fb9f3a"
             ],
             [
              0.8888888888888888,
              "#fdca26"
             ],
             [
              1,
              "#f0f921"
             ]
            ],
            "type": "surface"
           }
          ],
          "table": [
           {
            "cells": {
             "fill": {
              "color": "#EBF0F8"
             },
             "line": {
              "color": "white"
             }
            },
            "header": {
             "fill": {
              "color": "#C8D4E3"
             },
             "line": {
              "color": "white"
             }
            },
            "type": "table"
           }
          ]
         },
         "layout": {
          "annotationdefaults": {
           "arrowcolor": "#2a3f5f",
           "arrowhead": 0,
           "arrowwidth": 1
          },
          "autotypenumbers": "strict",
          "coloraxis": {
           "colorbar": {
            "outlinewidth": 0,
            "ticks": ""
           }
          },
          "colorscale": {
           "diverging": [
            [
             0,
             "#8e0152"
            ],
            [
             0.1,
             "#c51b7d"
            ],
            [
             0.2,
             "#de77ae"
            ],
            [
             0.3,
             "#f1b6da"
            ],
            [
             0.4,
             "#fde0ef"
            ],
            [
             0.5,
             "#f7f7f7"
            ],
            [
             0.6,
             "#e6f5d0"
            ],
            [
             0.7,
             "#b8e186"
            ],
            [
             0.8,
             "#7fbc41"
            ],
            [
             0.9,
             "#4d9221"
            ],
            [
             1,
             "#276419"
            ]
           ],
           "sequential": [
            [
             0,
             "#0d0887"
            ],
            [
             0.1111111111111111,
             "#46039f"
            ],
            [
             0.2222222222222222,
             "#7201a8"
            ],
            [
             0.3333333333333333,
             "#9c179e"
            ],
            [
             0.4444444444444444,
             "#bd3786"
            ],
            [
             0.5555555555555556,
             "#d8576b"
            ],
            [
             0.6666666666666666,
             "#ed7953"
            ],
            [
             0.7777777777777778,
             "#fb9f3a"
            ],
            [
             0.8888888888888888,
             "#fdca26"
            ],
            [
             1,
             "#f0f921"
            ]
           ],
           "sequentialminus": [
            [
             0,
             "#0d0887"
            ],
            [
             0.1111111111111111,
             "#46039f"
            ],
            [
             0.2222222222222222,
             "#7201a8"
            ],
            [
             0.3333333333333333,
             "#9c179e"
            ],
            [
             0.4444444444444444,
             "#bd3786"
            ],
            [
             0.5555555555555556,
             "#d8576b"
            ],
            [
             0.6666666666666666,
             "#ed7953"
            ],
            [
             0.7777777777777778,
             "#fb9f3a"
            ],
            [
             0.8888888888888888,
             "#fdca26"
            ],
            [
             1,
             "#f0f921"
            ]
           ]
          },
          "colorway": [
           "#636efa",
           "#EF553B",
           "#00cc96",
           "#ab63fa",
           "#FFA15A",
           "#19d3f3",
           "#FF6692",
           "#B6E880",
           "#FF97FF",
           "#FECB52"
          ],
          "font": {
           "color": "#2a3f5f"
          },
          "geo": {
           "bgcolor": "white",
           "lakecolor": "white",
           "landcolor": "#E5ECF6",
           "showlakes": true,
           "showland": true,
           "subunitcolor": "white"
          },
          "hoverlabel": {
           "align": "left"
          },
          "hovermode": "closest",
          "mapbox": {
           "style": "light"
          },
          "paper_bgcolor": "white",
          "plot_bgcolor": "#E5ECF6",
          "polar": {
           "angularaxis": {
            "gridcolor": "white",
            "linecolor": "white",
            "ticks": ""
           },
           "bgcolor": "#E5ECF6",
           "radialaxis": {
            "gridcolor": "white",
            "linecolor": "white",
            "ticks": ""
           }
          },
          "scene": {
           "xaxis": {
            "backgroundcolor": "#E5ECF6",
            "gridcolor": "white",
            "gridwidth": 2,
            "linecolor": "white",
            "showbackground": true,
            "ticks": "",
            "zerolinecolor": "white"
           },
           "yaxis": {
            "backgroundcolor": "#E5ECF6",
            "gridcolor": "white",
            "gridwidth": 2,
            "linecolor": "white",
            "showbackground": true,
            "ticks": "",
            "zerolinecolor": "white"
           },
           "zaxis": {
            "backgroundcolor": "#E5ECF6",
            "gridcolor": "white",
            "gridwidth": 2,
            "linecolor": "white",
            "showbackground": true,
            "ticks": "",
            "zerolinecolor": "white"
           }
          },
          "shapedefaults": {
           "line": {
            "color": "#2a3f5f"
           }
          },
          "ternary": {
           "aaxis": {
            "gridcolor": "white",
            "linecolor": "white",
            "ticks": ""
           },
           "baxis": {
            "gridcolor": "white",
            "linecolor": "white",
            "ticks": ""
           },
           "bgcolor": "#E5ECF6",
           "caxis": {
            "gridcolor": "white",
            "linecolor": "white",
            "ticks": ""
           }
          },
          "title": {
           "x": 0.05
          },
          "xaxis": {
           "automargin": true,
           "gridcolor": "white",
           "linecolor": "white",
           "ticks": "",
           "title": {
            "standoff": 15
           },
           "zerolinecolor": "white",
           "zerolinewidth": 2
          },
          "yaxis": {
           "automargin": true,
           "gridcolor": "white",
           "linecolor": "white",
           "ticks": "",
           "title": {
            "standoff": 15
           },
           "zerolinecolor": "white",
           "zerolinewidth": 2
          }
         }
        },
        "xaxis": {
         "anchor": "y2",
         "domain": [
          0,
          1
         ],
         "zeroline": false
        },
        "yaxis": {
         "anchor": "free",
         "domain": [
          0,
          1
         ],
         "position": 0
        }
       }
      }
     },
     "metadata": {},
     "output_type": "display_data"
    }
   ],
   "source": [
    "# BEFORE CHECKSUM\n",
    "import plotly.figure_factory as ff\n",
    "\n",
    "df_50 = clustering.evaluate_candidates(None, hist=False)\n",
    "fig = ff.create_distplot([df_50[\"reference_recoveries\"]], [\"\"], colors=['#835AF1'], bin_size=0.05, show_rug=False, show_hist=True, curve_type=\"kde\")\n",
    "fig.show()"
   ]
  },
  {
   "cell_type": "code",
   "execution_count": 134,
   "metadata": {},
   "outputs": [
    {
     "name": "stderr",
     "output_type": "stream",
     "text": [
      "959it [00:04, 194.71it/s]\n"
     ]
    },
    {
     "data": {
      "application/vnd.plotly.v1+json": {
       "config": {
        "plotlyServerURL": "https://plot.ly"
       },
       "data": [
        {
         "autobinx": false,
         "histnorm": "probability density",
         "legendgroup": "",
         "marker": {
          "color": "#835AF1"
         },
         "name": "",
         "opacity": 0.7,
         "type": "histogram",
         "x": {
          "bdata": "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",
          "dtype": "f8"
         },
         "xaxis": "x",
         "xbins": {
          "end": 1,
          "size": 0.05,
          "start": 0
         },
         "yaxis": "y"
        },
        {
         "legendgroup": "",
         "marker": {
          "color": "#835AF1"
         },
         "mode": "lines",
         "name": "",
         "showlegend": false,
         "type": "scatter",
         "x": [
          0,
          0.002,
          0.004,
          0.006,
          0.008,
          0.01,
          0.012,
          0.014,
          0.016,
          0.018,
          0.02,
          0.022,
          0.024,
          0.026,
          0.028,
          0.03,
          0.032,
          0.034,
          0.036,
          0.038,
          0.04,
          0.042,
          0.044,
          0.046,
          0.048,
          0.05,
          0.052,
          0.054,
          0.056,
          0.058,
          0.06,
          0.062,
          0.064,
          0.066,
          0.068,
          0.07,
          0.072,
          0.074,
          0.076,
          0.078,
          0.08,
          0.082,
          0.084,
          0.086,
          0.088,
          0.09,
          0.092,
          0.094,
          0.096,
          0.098,
          0.1,
          0.102,
          0.104,
          0.106,
          0.108,
          0.11,
          0.112,
          0.114,
          0.116,
          0.118,
          0.12,
          0.122,
          0.124,
          0.126,
          0.128,
          0.13,
          0.132,
          0.134,
          0.136,
          0.138,
          0.14,
          0.142,
          0.144,
          0.146,
          0.148,
          0.15,
          0.152,
          0.154,
          0.156,
          0.158,
          0.16,
          0.162,
          0.164,
          0.166,
          0.168,
          0.17,
          0.172,
          0.174,
          0.176,
          0.178,
          0.18,
          0.182,
          0.184,
          0.186,
          0.188,
          0.19,
          0.192,
          0.194,
          0.196,
          0.198,
          0.2,
          0.202,
          0.204,
          0.206,
          0.208,
          0.21,
          0.212,
          0.214,
          0.216,
          0.218,
          0.22,
          0.222,
          0.224,
          0.226,
          0.228,
          0.23,
          0.232,
          0.234,
          0.236,
          0.238,
          0.24,
          0.242,
          0.244,
          0.246,
          0.248,
          0.25,
          0.252,
          0.254,
          0.256,
          0.258,
          0.26,
          0.262,
          0.264,
          0.266,
          0.268,
          0.27,
          0.272,
          0.274,
          0.276,
          0.278,
          0.28,
          0.282,
          0.284,
          0.286,
          0.288,
          0.29,
          0.292,
          0.294,
          0.296,
          0.298,
          0.3,
          0.302,
          0.304,
          0.306,
          0.308,
          0.31,
          0.312,
          0.314,
          0.316,
          0.318,
          0.32,
          0.322,
          0.324,
          0.326,
          0.328,
          0.33,
          0.332,
          0.334,
          0.336,
          0.338,
          0.34,
          0.342,
          0.344,
          0.346,
          0.348,
          0.35,
          0.352,
          0.354,
          0.356,
          0.358,
          0.36,
          0.362,
          0.364,
          0.366,
          0.368,
          0.37,
          0.372,
          0.374,
          0.376,
          0.378,
          0.38,
          0.382,
          0.384,
          0.386,
          0.388,
          0.39,
          0.392,
          0.394,
          0.396,
          0.398,
          0.4,
          0.402,
          0.404,
          0.406,
          0.408,
          0.41,
          0.412,
          0.414,
          0.416,
          0.418,
          0.42,
          0.422,
          0.424,
          0.426,
          0.428,
          0.43,
          0.432,
          0.434,
          0.436,
          0.438,
          0.44,
          0.442,
          0.444,
          0.446,
          0.448,
          0.45,
          0.452,
          0.454,
          0.456,
          0.458,
          0.46,
          0.462,
          0.464,
          0.466,
          0.468,
          0.47,
          0.472,
          0.474,
          0.476,
          0.478,
          0.48,
          0.482,
          0.484,
          0.486,
          0.488,
          0.49,
          0.492,
          0.494,
          0.496,
          0.498,
          0.5,
          0.502,
          0.504,
          0.506,
          0.508,
          0.51,
          0.512,
          0.514,
          0.516,
          0.518,
          0.52,
          0.522,
          0.524,
          0.526,
          0.528,
          0.53,
          0.532,
          0.534,
          0.536,
          0.538,
          0.54,
          0.542,
          0.544,
          0.546,
          0.548,
          0.55,
          0.552,
          0.554,
          0.556,
          0.558,
          0.56,
          0.562,
          0.564,
          0.566,
          0.568,
          0.57,
          0.572,
          0.574,
          0.576,
          0.578,
          0.58,
          0.582,
          0.584,
          0.586,
          0.588,
          0.59,
          0.592,
          0.594,
          0.596,
          0.598,
          0.6,
          0.602,
          0.604,
          0.606,
          0.608,
          0.61,
          0.612,
          0.614,
          0.616,
          0.618,
          0.62,
          0.622,
          0.624,
          0.626,
          0.628,
          0.63,
          0.632,
          0.634,
          0.636,
          0.638,
          0.64,
          0.642,
          0.644,
          0.646,
          0.648,
          0.65,
          0.652,
          0.654,
          0.656,
          0.658,
          0.66,
          0.662,
          0.664,
          0.666,
          0.668,
          0.67,
          0.672,
          0.674,
          0.676,
          0.678,
          0.68,
          0.682,
          0.684,
          0.686,
          0.688,
          0.69,
          0.692,
          0.694,
          0.696,
          0.698,
          0.7,
          0.702,
          0.704,
          0.706,
          0.708,
          0.71,
          0.712,
          0.714,
          0.716,
          0.718,
          0.72,
          0.722,
          0.724,
          0.726,
          0.728,
          0.73,
          0.732,
          0.734,
          0.736,
          0.738,
          0.74,
          0.742,
          0.744,
          0.746,
          0.748,
          0.75,
          0.752,
          0.754,
          0.756,
          0.758,
          0.76,
          0.762,
          0.764,
          0.766,
          0.768,
          0.77,
          0.772,
          0.774,
          0.776,
          0.778,
          0.78,
          0.782,
          0.784,
          0.786,
          0.788,
          0.79,
          0.792,
          0.794,
          0.796,
          0.798,
          0.8,
          0.802,
          0.804,
          0.806,
          0.808,
          0.81,
          0.812,
          0.814,
          0.816,
          0.818,
          0.82,
          0.822,
          0.824,
          0.826,
          0.828,
          0.83,
          0.832,
          0.834,
          0.836,
          0.838,
          0.84,
          0.842,
          0.844,
          0.846,
          0.848,
          0.85,
          0.852,
          0.854,
          0.856,
          0.858,
          0.86,
          0.862,
          0.864,
          0.866,
          0.868,
          0.87,
          0.872,
          0.874,
          0.876,
          0.878,
          0.88,
          0.882,
          0.884,
          0.886,
          0.888,
          0.89,
          0.892,
          0.894,
          0.896,
          0.898,
          0.9,
          0.902,
          0.904,
          0.906,
          0.908,
          0.91,
          0.912,
          0.914,
          0.916,
          0.918,
          0.92,
          0.922,
          0.924,
          0.926,
          0.928,
          0.93,
          0.932,
          0.934,
          0.936,
          0.938,
          0.94,
          0.942,
          0.944,
          0.946,
          0.948,
          0.95,
          0.952,
          0.954,
          0.956,
          0.958,
          0.96,
          0.962,
          0.964,
          0.966,
          0.968,
          0.97,
          0.972,
          0.974,
          0.976,
          0.978,
          0.98,
          0.982,
          0.984,
          0.986,
          0.988,
          0.99,
          0.992,
          0.994,
          0.996,
          0.998
         ],
         "xaxis": "x",
         "y": {
          "bdata": "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",
          "dtype": "f8"
         },
         "yaxis": "y"
        }
       ],
       "layout": {
        "barmode": "overlay",
        "hovermode": "closest",
        "legend": {
         "traceorder": "reversed"
        },
        "template": {
         "data": {
          "bar": [
           {
            "error_x": {
             "color": "#2a3f5f"
            },
            "error_y": {
             "color": "#2a3f5f"
            },
            "marker": {
             "line": {
              "color": "#E5ECF6",
              "width": 0.5
             },
             "pattern": {
              "fillmode": "overlay",
              "size": 10,
              "solidity": 0.2
             }
            },
            "type": "bar"
           }
          ],
          "barpolar": [
           {
            "marker": {
             "line": {
              "color": "#E5ECF6",
              "width": 0.5
             },
             "pattern": {
              "fillmode": "overlay",
              "size": 10,
              "solidity": 0.2
             }
            },
            "type": "barpolar"
           }
          ],
          "carpet": [
           {
            "aaxis": {
             "endlinecolor": "#2a3f5f",
             "gridcolor": "white",
             "linecolor": "white",
             "minorgridcolor": "white",
             "startlinecolor": "#2a3f5f"
            },
            "baxis": {
             "endlinecolor": "#2a3f5f",
             "gridcolor": "white",
             "linecolor": "white",
             "minorgridcolor": "white",
             "startlinecolor": "#2a3f5f"
            },
            "type": "carpet"
           }
          ],
          "choropleth": [
           {
            "colorbar": {
             "outlinewidth": 0,
             "ticks": ""
            },
            "type": "choropleth"
           }
          ],
          "contour": [
           {
            "colorbar": {
             "outlinewidth": 0,
             "ticks": ""
            },
            "colorscale": [
             [
              0,
              "#0d0887"
             ],
             [
              0.1111111111111111,
              "#46039f"
             ],
             [
              0.2222222222222222,
              "#7201a8"
             ],
             [
              0.3333333333333333,
              "#9c179e"
             ],
             [
              0.4444444444444444,
              "#bd3786"
             ],
             [
              0.5555555555555556,
              "#d8576b"
             ],
             [
              0.6666666666666666,
              "#ed7953"
             ],
             [
              0.7777777777777778,
              "#fb9f3a"
             ],
             [
              0.8888888888888888,
              "#fdca26"
             ],
             [
              1,
              "#f0f921"
             ]
            ],
            "type": "contour"
           }
          ],
          "contourcarpet": [
           {
            "colorbar": {
             "outlinewidth": 0,
             "ticks": ""
            },
            "type": "contourcarpet"
           }
          ],
          "heatmap": [
           {
            "colorbar": {
             "outlinewidth": 0,
             "ticks": ""
            },
            "colorscale": [
             [
              0,
              "#0d0887"
             ],
             [
              0.1111111111111111,
              "#46039f"
             ],
             [
              0.2222222222222222,
              "#7201a8"
             ],
             [
              0.3333333333333333,
              "#9c179e"
             ],
             [
              0.4444444444444444,
              "#bd3786"
             ],
             [
              0.5555555555555556,
              "#d8576b"
             ],
             [
              0.6666666666666666,
              "#ed7953"
             ],
             [
              0.7777777777777778,
              "#fb9f3a"
             ],
             [
              0.8888888888888888,
              "#fdca26"
             ],
             [
              1,
              "#f0f921"
             ]
            ],
            "type": "heatmap"
           }
          ],
          "histogram": [
           {
            "marker": {
             "pattern": {
              "fillmode": "overlay",
              "size": 10,
              "solidity": 0.2
             }
            },
            "type": "histogram"
           }
          ],
          "histogram2d": [
           {
            "colorbar": {
             "outlinewidth": 0,
             "ticks": ""
            },
            "colorscale": [
             [
              0,
              "#0d0887"
             ],
             [
              0.1111111111111111,
              "#46039f"
             ],
             [
              0.2222222222222222,
              "#7201a8"
             ],
             [
              0.3333333333333333,
              "#9c179e"
             ],
             [
              0.4444444444444444,
              "#bd3786"
             ],
             [
              0.5555555555555556,
              "#d8576b"
             ],
             [
              0.6666666666666666,
              "#ed7953"
             ],
             [
              0.7777777777777778,
              "#fb9f3a"
             ],
             [
              0.8888888888888888,
              "#fdca26"
             ],
             [
              1,
              "#f0f921"
             ]
            ],
            "type": "histogram2d"
           }
          ],
          "histogram2dcontour": [
           {
            "colorbar": {
             "outlinewidth": 0,
             "ticks": ""
            },
            "colorscale": [
             [
              0,
              "#0d0887"
             ],
             [
              0.1111111111111111,
              "#46039f"
             ],
             [
              0.2222222222222222,
              "#7201a8"
             ],
             [
              0.3333333333333333,
              "#9c179e"
             ],
             [
              0.4444444444444444,
              "#bd3786"
             ],
             [
              0.5555555555555556,
              "#d8576b"
             ],
             [
              0.6666666666666666,
              "#ed7953"
             ],
             [
              0.7777777777777778,
              "#fb9f3a"
             ],
             [
              0.8888888888888888,
              "#fdca26"
             ],
             [
              1,
              "#f0f921"
             ]
            ],
            "type": "histogram2dcontour"
           }
          ],
          "mesh3d": [
           {
            "colorbar": {
             "outlinewidth": 0,
             "ticks": ""
            },
            "type": "mesh3d"
           }
          ],
          "parcoords": [
           {
            "line": {
             "colorbar": {
              "outlinewidth": 0,
              "ticks": ""
             }
            },
            "type": "parcoords"
           }
          ],
          "pie": [
           {
            "automargin": true,
            "type": "pie"
           }
          ],
          "scatter": [
           {
            "fillpattern": {
             "fillmode": "overlay",
             "size": 10,
             "solidity": 0.2
            },
            "type": "scatter"
           }
          ],
          "scatter3d": [
           {
            "line": {
             "colorbar": {
              "outlinewidth": 0,
              "ticks": ""
             }
            },
            "marker": {
             "colorbar": {
              "outlinewidth": 0,
              "ticks": ""
             }
            },
            "type": "scatter3d"
           }
          ],
          "scattercarpet": [
           {
            "marker": {
             "colorbar": {
              "outlinewidth": 0,
              "ticks": ""
             }
            },
            "type": "scattercarpet"
           }
          ],
          "scattergeo": [
           {
            "marker": {
             "colorbar": {
              "outlinewidth": 0,
              "ticks": ""
             }
            },
            "type": "scattergeo"
           }
          ],
          "scattergl": [
           {
            "marker": {
             "colorbar": {
              "outlinewidth": 0,
              "ticks": ""
             }
            },
            "type": "scattergl"
           }
          ],
          "scattermap": [
           {
            "marker": {
             "colorbar": {
              "outlinewidth": 0,
              "ticks": ""
             }
            },
            "type": "scattermap"
           }
          ],
          "scattermapbox": [
           {
            "marker": {
             "colorbar": {
              "outlinewidth": 0,
              "ticks": ""
             }
            },
            "type": "scattermapbox"
           }
          ],
          "scatterpolar": [
           {
            "marker": {
             "colorbar": {
              "outlinewidth": 0,
              "ticks": ""
             }
            },
            "type": "scatterpolar"
           }
          ],
          "scatterpolargl": [
           {
            "marker": {
             "colorbar": {
              "outlinewidth": 0,
              "ticks": ""
             }
            },
            "type": "scatterpolargl"
           }
          ],
          "scatterternary": [
           {
            "marker": {
             "colorbar": {
              "outlinewidth": 0,
              "ticks": ""
             }
            },
            "type": "scatterternary"
           }
          ],
          "surface": [
           {
            "colorbar": {
             "outlinewidth": 0,
             "ticks": ""
            },
            "colorscale": [
             [
              0,
              "#0d0887"
             ],
             [
              0.1111111111111111,
              "#46039f"
             ],
             [
              0.2222222222222222,
              "#7201a8"
             ],
             [
              0.3333333333333333,
              "#9c179e"
             ],
             [
              0.4444444444444444,
              "#bd3786"
             ],
             [
              0.5555555555555556,
              "#d8576b"
             ],
             [
              0.6666666666666666,
              "#ed7953"
             ],
             [
              0.7777777777777778,
              "#fb9f3a"
             ],
             [
              0.8888888888888888,
              "#fdca26"
             ],
             [
              1,
              "#f0f921"
             ]
            ],
            "type": "surface"
           }
          ],
          "table": [
           {
            "cells": {
             "fill": {
              "color": "#EBF0F8"
             },
             "line": {
              "color": "white"
             }
            },
            "header": {
             "fill": {
              "color": "#C8D4E3"
             },
             "line": {
              "color": "white"
             }
            },
            "type": "table"
           }
          ]
         },
         "layout": {
          "annotationdefaults": {
           "arrowcolor": "#2a3f5f",
           "arrowhead": 0,
           "arrowwidth": 1
          },
          "autotypenumbers": "strict",
          "coloraxis": {
           "colorbar": {
            "outlinewidth": 0,
            "ticks": ""
           }
          },
          "colorscale": {
           "diverging": [
            [
             0,
             "#8e0152"
            ],
            [
             0.1,
             "#c51b7d"
            ],
            [
             0.2,
             "#de77ae"
            ],
            [
             0.3,
             "#f1b6da"
            ],
            [
             0.4,
             "#fde0ef"
            ],
            [
             0.5,
             "#f7f7f7"
            ],
            [
             0.6,
             "#e6f5d0"
            ],
            [
             0.7,
             "#b8e186"
            ],
            [
             0.8,
             "#7fbc41"
            ],
            [
             0.9,
             "#4d9221"
            ],
            [
             1,
             "#276419"
            ]
           ],
           "sequential": [
            [
             0,
             "#0d0887"
            ],
            [
             0.1111111111111111,
             "#46039f"
            ],
            [
             0.2222222222222222,
             "#7201a8"
            ],
            [
             0.3333333333333333,
             "#9c179e"
            ],
            [
             0.4444444444444444,
             "#bd3786"
            ],
            [
             0.5555555555555556,
             "#d8576b"
            ],
            [
             0.6666666666666666,
             "#ed7953"
            ],
            [
             0.7777777777777778,
             "#fb9f3a"
            ],
            [
             0.8888888888888888,
             "#fdca26"
            ],
            [
             1,
             "#f0f921"
            ]
           ],
           "sequentialminus": [
            [
             0,
             "#0d0887"
            ],
            [
             0.1111111111111111,
             "#46039f"
            ],
            [
             0.2222222222222222,
             "#7201a8"
            ],
            [
             0.3333333333333333,
             "#9c179e"
            ],
            [
             0.4444444444444444,
             "#bd3786"
            ],
            [
             0.5555555555555556,
             "#d8576b"
            ],
            [
             0.6666666666666666,
             "#ed7953"
            ],
            [
             0.7777777777777778,
             "#fb9f3a"
            ],
            [
             0.8888888888888888,
             "#fdca26"
            ],
            [
             1,
             "#f0f921"
            ]
           ]
          },
          "colorway": [
           "#636efa",
           "#EF553B",
           "#00cc96",
           "#ab63fa",
           "#FFA15A",
           "#19d3f3",
           "#FF6692",
           "#B6E880",
           "#FF97FF",
           "#FECB52"
          ],
          "font": {
           "color": "#2a3f5f"
          },
          "geo": {
           "bgcolor": "white",
           "lakecolor": "white",
           "landcolor": "#E5ECF6",
           "showlakes": true,
           "showland": true,
           "subunitcolor": "white"
          },
          "hoverlabel": {
           "align": "left"
          },
          "hovermode": "closest",
          "mapbox": {
           "style": "light"
          },
          "paper_bgcolor": "white",
          "plot_bgcolor": "#E5ECF6",
          "polar": {
           "angularaxis": {
            "gridcolor": "white",
            "linecolor": "white",
            "ticks": ""
           },
           "bgcolor": "#E5ECF6",
           "radialaxis": {
            "gridcolor": "white",
            "linecolor": "white",
            "ticks": ""
           }
          },
          "scene": {
           "xaxis": {
            "backgroundcolor": "#E5ECF6",
            "gridcolor": "white",
            "gridwidth": 2,
            "linecolor": "white",
            "showbackground": true,
            "ticks": "",
            "zerolinecolor": "white"
           },
           "yaxis": {
            "backgroundcolor": "#E5ECF6",
            "gridcolor": "white",
            "gridwidth": 2,
            "linecolor": "white",
            "showbackground": true,
            "ticks": "",
            "zerolinecolor": "white"
           },
           "zaxis": {
            "backgroundcolor": "#E5ECF6",
            "gridcolor": "white",
            "gridwidth": 2,
            "linecolor": "white",
            "showbackground": true,
            "ticks": "",
            "zerolinecolor": "white"
           }
          },
          "shapedefaults": {
           "line": {
            "color": "#2a3f5f"
           }
          },
          "ternary": {
           "aaxis": {
            "gridcolor": "white",
            "linecolor": "white",
            "ticks": ""
           },
           "baxis": {
            "gridcolor": "white",
            "linecolor": "white",
            "ticks": ""
           },
           "bgcolor": "#E5ECF6",
           "caxis": {
            "gridcolor": "white",
            "linecolor": "white",
            "ticks": ""
           }
          },
          "title": {
           "x": 0.05
          },
          "xaxis": {
           "automargin": true,
           "gridcolor": "white",
           "linecolor": "white",
           "ticks": "",
           "title": {
            "standoff": 15
           },
           "zerolinecolor": "white",
           "zerolinewidth": 2
          },
          "yaxis": {
           "automargin": true,
           "gridcolor": "white",
           "linecolor": "white",
           "ticks": "",
           "title": {
            "standoff": 15
           },
           "zerolinecolor": "white",
           "zerolinewidth": 2
          }
         }
        },
        "xaxis": {
         "anchor": "y2",
         "domain": [
          0,
          1
         ],
         "zeroline": false
        },
        "yaxis": {
         "anchor": "free",
         "domain": [
          0,
          1
         ],
         "position": 0
        }
       }
      }
     },
     "metadata": {},
     "output_type": "display_data"
    }
   ],
   "source": [
    "# BEFORE CHECKSUM\n",
    "import plotly.figure_factory as ff\n",
    "\n",
    "df_100 = clustering.evaluate_candidates(None, hist=False)\n",
    "fig = ff.create_distplot([df_100[\"reference_recoveries\"]], [\"\"], colors=['#835AF1'], bin_size=0.05, show_rug=False, show_hist=True, curve_type=\"kde\")\n",
    "fig.show()"
   ]
  },
  {
   "cell_type": "code",
   "execution_count": 104,
   "metadata": {},
   "outputs": [
    {
     "name": "stderr",
     "output_type": "stream",
     "text": [
      "100%|██████████| 959/959 [00:00<00:00, 32684.92it/s]\n"
     ]
    },
    {
     "name": "stdout",
     "output_type": "stream",
     "text": [
      "442 direct checksum matches found\n",
      "Making guesses\n"
     ]
    },
    {
     "name": "stderr",
     "output_type": "stream",
     "text": [
      "100%|██████████| 517/517 [01:45<00:00,  4.91it/s]"
     ]
    },
    {
     "name": "stdout",
     "output_type": "stream",
     "text": [
      "91 extra found after guessing\n",
      "0.4652908067542214 were reversed\n",
      "533 Valid checksum strands found\n"
     ]
    },
    {
     "name": "stderr",
     "output_type": "stream",
     "text": [
      "\n"
     ]
    }
   ],
   "source": [
    "# We want to recover the original strands after checksum\n",
    "decoded_strands = checksum.decode(candidates=clustering.candidates, n_reference_strands=len(original_strands), clustered_seqs=clustering.clustered_seqs, n_guesses=5, guesses=True)\n",
    "ids = [\"\" for i in range(len(decoded_strands))]\n",
    "create_fasta_file(ids, decoded_strands, output_filepath=recovered_path)"
   ]
  },
  {
   "cell_type": "code",
   "execution_count": null,
   "metadata": {},
   "outputs": [
    {
     "name": "stderr",
     "output_type": "stream",
     "text": [
      "959it [00:06, 145.23it/s]"
     ]
    },
    {
     "name": "stdout",
     "output_type": "stream",
     "text": [
      "histt\n"
     ]
    },
    {
     "name": "stderr",
     "output_type": "stream",
     "text": [
      "\n"
     ]
    },
    {
     "data": {
      "application/vnd.plotly.v1+json": {
       "config": {
        "plotlyServerURL": "https://plot.ly"
       },
       "data": [
        {
         "autobinx": false,
         "histnorm": "probability density",
         "legendgroup": "label",
         "marker": {
          "color": "#333F44"
         },
         "name": "label",
         "opacity": 0.7,
         "type": "histogram",
         "x": {
          "bdata": "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",
          "dtype": "f8"
         },
         "xaxis": "x",
         "xbins": {
          "end": 1,
          "size": 0.05,
          "start": 0
         },
         "yaxis": "y"
        },
        {
         "legendgroup": "label",
         "marker": {
          "color": "#333F44"
         },
         "mode": "lines",
         "name": "label",
         "showlegend": false,
         "type": "scatter",
         "x": [
          0,
          0.002,
          0.004,
          0.006,
          0.008,
          0.01,
          0.012,
          0.014,
          0.016,
          0.018,
          0.02,
          0.022,
          0.024,
          0.026,
          0.028,
          0.03,
          0.032,
          0.034,
          0.036,
          0.038,
          0.04,
          0.042,
          0.044,
          0.046,
          0.048,
          0.05,
          0.052,
          0.054,
          0.056,
          0.058,
          0.06,
          0.062,
          0.064,
          0.066,
          0.068,
          0.07,
          0.072,
          0.074,
          0.076,
          0.078,
          0.08,
          0.082,
          0.084,
          0.086,
          0.088,
          0.09,
          0.092,
          0.094,
          0.096,
          0.098,
          0.1,
          0.102,
          0.104,
          0.106,
          0.108,
          0.11,
          0.112,
          0.114,
          0.116,
          0.118,
          0.12,
          0.122,
          0.124,
          0.126,
          0.128,
          0.13,
          0.132,
          0.134,
          0.136,
          0.138,
          0.14,
          0.142,
          0.144,
          0.146,
          0.148,
          0.15,
          0.152,
          0.154,
          0.156,
          0.158,
          0.16,
          0.162,
          0.164,
          0.166,
          0.168,
          0.17,
          0.172,
          0.174,
          0.176,
          0.178,
          0.18,
          0.182,
          0.184,
          0.186,
          0.188,
          0.19,
          0.192,
          0.194,
          0.196,
          0.198,
          0.2,
          0.202,
          0.204,
          0.206,
          0.208,
          0.21,
          0.212,
          0.214,
          0.216,
          0.218,
          0.22,
          0.222,
          0.224,
          0.226,
          0.228,
          0.23,
          0.232,
          0.234,
          0.236,
          0.238,
          0.24,
          0.242,
          0.244,
          0.246,
          0.248,
          0.25,
          0.252,
          0.254,
          0.256,
          0.258,
          0.26,
          0.262,
          0.264,
          0.266,
          0.268,
          0.27,
          0.272,
          0.274,
          0.276,
          0.278,
          0.28,
          0.282,
          0.284,
          0.286,
          0.288,
          0.29,
          0.292,
          0.294,
          0.296,
          0.298,
          0.3,
          0.302,
          0.304,
          0.306,
          0.308,
          0.31,
          0.312,
          0.314,
          0.316,
          0.318,
          0.32,
          0.322,
          0.324,
          0.326,
          0.328,
          0.33,
          0.332,
          0.334,
          0.336,
          0.338,
          0.34,
          0.342,
          0.344,
          0.346,
          0.348,
          0.35,
          0.352,
          0.354,
          0.356,
          0.358,
          0.36,
          0.362,
          0.364,
          0.366,
          0.368,
          0.37,
          0.372,
          0.374,
          0.376,
          0.378,
          0.38,
          0.382,
          0.384,
          0.386,
          0.388,
          0.39,
          0.392,
          0.394,
          0.396,
          0.398,
          0.4,
          0.402,
          0.404,
          0.406,
          0.408,
          0.41,
          0.412,
          0.414,
          0.416,
          0.418,
          0.42,
          0.422,
          0.424,
          0.426,
          0.428,
          0.43,
          0.432,
          0.434,
          0.436,
          0.438,
          0.44,
          0.442,
          0.444,
          0.446,
          0.448,
          0.45,
          0.452,
          0.454,
          0.456,
          0.458,
          0.46,
          0.462,
          0.464,
          0.466,
          0.468,
          0.47,
          0.472,
          0.474,
          0.476,
          0.478,
          0.48,
          0.482,
          0.484,
          0.486,
          0.488,
          0.49,
          0.492,
          0.494,
          0.496,
          0.498,
          0.5,
          0.502,
          0.504,
          0.506,
          0.508,
          0.51,
          0.512,
          0.514,
          0.516,
          0.518,
          0.52,
          0.522,
          0.524,
          0.526,
          0.528,
          0.53,
          0.532,
          0.534,
          0.536,
          0.538,
          0.54,
          0.542,
          0.544,
          0.546,
          0.548,
          0.55,
          0.552,
          0.554,
          0.556,
          0.558,
          0.56,
          0.562,
          0.564,
          0.566,
          0.568,
          0.57,
          0.572,
          0.574,
          0.576,
          0.578,
          0.58,
          0.582,
          0.584,
          0.586,
          0.588,
          0.59,
          0.592,
          0.594,
          0.596,
          0.598,
          0.6,
          0.602,
          0.604,
          0.606,
          0.608,
          0.61,
          0.612,
          0.614,
          0.616,
          0.618,
          0.62,
          0.622,
          0.624,
          0.626,
          0.628,
          0.63,
          0.632,
          0.634,
          0.636,
          0.638,
          0.64,
          0.642,
          0.644,
          0.646,
          0.648,
          0.65,
          0.652,
          0.654,
          0.656,
          0.658,
          0.66,
          0.662,
          0.664,
          0.666,
          0.668,
          0.67,
          0.672,
          0.674,
          0.676,
          0.678,
          0.68,
          0.682,
          0.684,
          0.686,
          0.688,
          0.69,
          0.692,
          0.694,
          0.696,
          0.698,
          0.7,
          0.702,
          0.704,
          0.706,
          0.708,
          0.71,
          0.712,
          0.714,
          0.716,
          0.718,
          0.72,
          0.722,
          0.724,
          0.726,
          0.728,
          0.73,
          0.732,
          0.734,
          0.736,
          0.738,
          0.74,
          0.742,
          0.744,
          0.746,
          0.748,
          0.75,
          0.752,
          0.754,
          0.756,
          0.758,
          0.76,
          0.762,
          0.764,
          0.766,
          0.768,
          0.77,
          0.772,
          0.774,
          0.776,
          0.778,
          0.78,
          0.782,
          0.784,
          0.786,
          0.788,
          0.79,
          0.792,
          0.794,
          0.796,
          0.798,
          0.8,
          0.802,
          0.804,
          0.806,
          0.808,
          0.81,
          0.812,
          0.814,
          0.816,
          0.818,
          0.82,
          0.822,
          0.824,
          0.826,
          0.828,
          0.83,
          0.832,
          0.834,
          0.836,
          0.838,
          0.84,
          0.842,
          0.844,
          0.846,
          0.848,
          0.85,
          0.852,
          0.854,
          0.856,
          0.858,
          0.86,
          0.862,
          0.864,
          0.866,
          0.868,
          0.87,
          0.872,
          0.874,
          0.876,
          0.878,
          0.88,
          0.882,
          0.884,
          0.886,
          0.888,
          0.89,
          0.892,
          0.894,
          0.896,
          0.898,
          0.9,
          0.902,
          0.904,
          0.906,
          0.908,
          0.91,
          0.912,
          0.914,
          0.916,
          0.918,
          0.92,
          0.922,
          0.924,
          0.926,
          0.928,
          0.93,
          0.932,
          0.934,
          0.936,
          0.938,
          0.94,
          0.942,
          0.944,
          0.946,
          0.948,
          0.95,
          0.952,
          0.954,
          0.956,
          0.958,
          0.96,
          0.962,
          0.964,
          0.966,
          0.968,
          0.97,
          0.972,
          0.974,
          0.976,
          0.978,
          0.98,
          0.982,
          0.984,
          0.986,
          0.988,
          0.99,
          0.992,
          0.994,
          0.996,
          0.998
         ],
         "xaxis": "x",
         "y": {
          "bdata": "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",
          "dtype": "f8"
         },
         "yaxis": "y"
        }
       ],
       "layout": {
        "barmode": "overlay",
        "hovermode": "closest",
        "legend": {
         "traceorder": "reversed"
        },
        "template": {
         "data": {
          "bar": [
           {
            "error_x": {
             "color": "#2a3f5f"
            },
            "error_y": {
             "color": "#2a3f5f"
            },
            "marker": {
             "line": {
              "color": "#E5ECF6",
              "width": 0.5
             },
             "pattern": {
              "fillmode": "overlay",
              "size": 10,
              "solidity": 0.2
             }
            },
            "type": "bar"
           }
          ],
          "barpolar": [
           {
            "marker": {
             "line": {
              "color": "#E5ECF6",
              "width": 0.5
             },
             "pattern": {
              "fillmode": "overlay",
              "size": 10,
              "solidity": 0.2
             }
            },
            "type": "barpolar"
           }
          ],
          "carpet": [
           {
            "aaxis": {
             "endlinecolor": "#2a3f5f",
             "gridcolor": "white",
             "linecolor": "white",
             "minorgridcolor": "white",
             "startlinecolor": "#2a3f5f"
            },
            "baxis": {
             "endlinecolor": "#2a3f5f",
             "gridcolor": "white",
             "linecolor": "white",
             "minorgridcolor": "white",
             "startlinecolor": "#2a3f5f"
            },
            "type": "carpet"
           }
          ],
          "choropleth": [
           {
            "colorbar": {
             "outlinewidth": 0,
             "ticks": ""
            },
            "type": "choropleth"
           }
          ],
          "contour": [
           {
            "colorbar": {
             "outlinewidth": 0,
             "ticks": ""
            },
            "colorscale": [
             [
              0,
              "#0d0887"
             ],
             [
              0.1111111111111111,
              "#46039f"
             ],
             [
              0.2222222222222222,
              "#7201a8"
             ],
             [
              0.3333333333333333,
              "#9c179e"
             ],
             [
              0.4444444444444444,
              "#bd3786"
             ],
             [
              0.5555555555555556,
              "#d8576b"
             ],
             [
              0.6666666666666666,
              "#ed7953"
             ],
             [
              0.7777777777777778,
              "#fb9f3a"
             ],
             [
              0.8888888888888888,
              "#fdca26"
             ],
             [
              1,
              "#f0f921"
             ]
            ],
            "type": "contour"
           }
          ],
          "contourcarpet": [
           {
            "colorbar": {
             "outlinewidth": 0,
             "ticks": ""
            },
            "type": "contourcarpet"
           }
          ],
          "heatmap": [
           {
            "colorbar": {
             "outlinewidth": 0,
             "ticks": ""
            },
            "colorscale": [
             [
              0,
              "#0d0887"
             ],
             [
              0.1111111111111111,
              "#46039f"
             ],
             [
              0.2222222222222222,
              "#7201a8"
             ],
             [
              0.3333333333333333,
              "#9c179e"
             ],
             [
              0.4444444444444444,
              "#bd3786"
             ],
             [
              0.5555555555555556,
              "#d8576b"
             ],
             [
              0.6666666666666666,
              "#ed7953"
             ],
             [
              0.7777777777777778,
              "#fb9f3a"
             ],
             [
              0.8888888888888888,
              "#fdca26"
             ],
             [
              1,
              "#f0f921"
             ]
            ],
            "type": "heatmap"
           }
          ],
          "histogram": [
           {
            "marker": {
             "pattern": {
              "fillmode": "overlay",
              "size": 10,
              "solidity": 0.2
             }
            },
            "type": "histogram"
           }
          ],
          "histogram2d": [
           {
            "colorbar": {
             "outlinewidth": 0,
             "ticks": ""
            },
            "colorscale": [
             [
              0,
              "#0d0887"
             ],
             [
              0.1111111111111111,
              "#46039f"
             ],
             [
              0.2222222222222222,
              "#7201a8"
             ],
             [
              0.3333333333333333,
              "#9c179e"
             ],
             [
              0.4444444444444444,
              "#bd3786"
             ],
             [
              0.5555555555555556,
              "#d8576b"
             ],
             [
              0.6666666666666666,
              "#ed7953"
             ],
             [
              0.7777777777777778,
              "#fb9f3a"
             ],
             [
              0.8888888888888888,
              "#fdca26"
             ],
             [
              1,
              "#f0f921"
             ]
            ],
            "type": "histogram2d"
           }
          ],
          "histogram2dcontour": [
           {
            "colorbar": {
             "outlinewidth": 0,
             "ticks": ""
            },
            "colorscale": [
             [
              0,
              "#0d0887"
             ],
             [
              0.1111111111111111,
              "#46039f"
             ],
             [
              0.2222222222222222,
              "#7201a8"
             ],
             [
              0.3333333333333333,
              "#9c179e"
             ],
             [
              0.4444444444444444,
              "#bd3786"
             ],
             [
              0.5555555555555556,
              "#d8576b"
             ],
             [
              0.6666666666666666,
              "#ed7953"
             ],
             [
              0.7777777777777778,
              "#fb9f3a"
             ],
             [
              0.8888888888888888,
              "#fdca26"
             ],
             [
              1,
              "#f0f921"
             ]
            ],
            "type": "histogram2dcontour"
           }
          ],
          "mesh3d": [
           {
            "colorbar": {
             "outlinewidth": 0,
             "ticks": ""
            },
            "type": "mesh3d"
           }
          ],
          "parcoords": [
           {
            "line": {
             "colorbar": {
              "outlinewidth": 0,
              "ticks": ""
             }
            },
            "type": "parcoords"
           }
          ],
          "pie": [
           {
            "automargin": true,
            "type": "pie"
           }
          ],
          "scatter": [
           {
            "fillpattern": {
             "fillmode": "overlay",
             "size": 10,
             "solidity": 0.2
            },
            "type": "scatter"
           }
          ],
          "scatter3d": [
           {
            "line": {
             "colorbar": {
              "outlinewidth": 0,
              "ticks": ""
             }
            },
            "marker": {
             "colorbar": {
              "outlinewidth": 0,
              "ticks": ""
             }
            },
            "type": "scatter3d"
           }
          ],
          "scattercarpet": [
           {
            "marker": {
             "colorbar": {
              "outlinewidth": 0,
              "ticks": ""
             }
            },
            "type": "scattercarpet"
           }
          ],
          "scattergeo": [
           {
            "marker": {
             "colorbar": {
              "outlinewidth": 0,
              "ticks": ""
             }
            },
            "type": "scattergeo"
           }
          ],
          "scattergl": [
           {
            "marker": {
             "colorbar": {
              "outlinewidth": 0,
              "ticks": ""
             }
            },
            "type": "scattergl"
           }
          ],
          "scattermap": [
           {
            "marker": {
             "colorbar": {
              "outlinewidth": 0,
              "ticks": ""
             }
            },
            "type": "scattermap"
           }
          ],
          "scattermapbox": [
           {
            "marker": {
             "colorbar": {
              "outlinewidth": 0,
              "ticks": ""
             }
            },
            "type": "scattermapbox"
           }
          ],
          "scatterpolar": [
           {
            "marker": {
             "colorbar": {
              "outlinewidth": 0,
              "ticks": ""
             }
            },
            "type": "scatterpolar"
           }
          ],
          "scatterpolargl": [
           {
            "marker": {
             "colorbar": {
              "outlinewidth": 0,
              "ticks": ""
             }
            },
            "type": "scatterpolargl"
           }
          ],
          "scatterternary": [
           {
            "marker": {
             "colorbar": {
              "outlinewidth": 0,
              "ticks": ""
             }
            },
            "type": "scatterternary"
           }
          ],
          "surface": [
           {
            "colorbar": {
             "outlinewidth": 0,
             "ticks": ""
            },
            "colorscale": [
             [
              0,
              "#0d0887"
             ],
             [
              0.1111111111111111,
              "#46039f"
             ],
             [
              0.2222222222222222,
              "#7201a8"
             ],
             [
              0.3333333333333333,
              "#9c179e"
             ],
             [
              0.4444444444444444,
              "#bd3786"
             ],
             [
              0.5555555555555556,
              "#d8576b"
             ],
             [
              0.6666666666666666,
              "#ed7953"
             ],
             [
              0.7777777777777778,
              "#fb9f3a"
             ],
             [
              0.8888888888888888,
              "#fdca26"
             ],
             [
              1,
              "#f0f921"
             ]
            ],
            "type": "surface"
           }
          ],
          "table": [
           {
            "cells": {
             "fill": {
              "color": "#EBF0F8"
             },
             "line": {
              "color": "white"
             }
            },
            "header": {
             "fill": {
              "color": "#C8D4E3"
             },
             "line": {
              "color": "white"
             }
            },
            "type": "table"
           }
          ]
         },
         "layout": {
          "annotationdefaults": {
           "arrowcolor": "#2a3f5f",
           "arrowhead": 0,
           "arrowwidth": 1
          },
          "autotypenumbers": "strict",
          "coloraxis": {
           "colorbar": {
            "outlinewidth": 0,
            "ticks": ""
           }
          },
          "colorscale": {
           "diverging": [
            [
             0,
             "#8e0152"
            ],
            [
             0.1,
             "#c51b7d"
            ],
            [
             0.2,
             "#de77ae"
            ],
            [
             0.3,
             "#f1b6da"
            ],
            [
             0.4,
             "#fde0ef"
            ],
            [
             0.5,
             "#f7f7f7"
            ],
            [
             0.6,
             "#e6f5d0"
            ],
            [
             0.7,
             "#b8e186"
            ],
            [
             0.8,
             "#7fbc41"
            ],
            [
             0.9,
             "#4d9221"
            ],
            [
             1,
             "#276419"
            ]
           ],
           "sequential": [
            [
             0,
             "#0d0887"
            ],
            [
             0.1111111111111111,
             "#46039f"
            ],
            [
             0.2222222222222222,
             "#7201a8"
            ],
            [
             0.3333333333333333,
             "#9c179e"
            ],
            [
             0.4444444444444444,
             "#bd3786"
            ],
            [
             0.5555555555555556,
             "#d8576b"
            ],
            [
             0.6666666666666666,
             "#ed7953"
            ],
            [
             0.7777777777777778,
             "#fb9f3a"
            ],
            [
             0.8888888888888888,
             "#fdca26"
            ],
            [
             1,
             "#f0f921"
            ]
           ],
           "sequentialminus": [
            [
             0,
             "#0d0887"
            ],
            [
             0.1111111111111111,
             "#46039f"
            ],
            [
             0.2222222222222222,
             "#7201a8"
            ],
            [
             0.3333333333333333,
             "#9c179e"
            ],
            [
             0.4444444444444444,
             "#bd3786"
            ],
            [
             0.5555555555555556,
             "#d8576b"
            ],
            [
             0.6666666666666666,
             "#ed7953"
            ],
            [
             0.7777777777777778,
             "#fb9f3a"
            ],
            [
             0.8888888888888888,
             "#fdca26"
            ],
            [
             1,
             "#f0f921"
            ]
           ]
          },
          "colorway": [
           "#636efa",
           "#EF553B",
           "#00cc96",
           "#ab63fa",
           "#FFA15A",
           "#19d3f3",
           "#FF6692",
           "#B6E880",
           "#FF97FF",
           "#FECB52"
          ],
          "font": {
           "color": "#2a3f5f"
          },
          "geo": {
           "bgcolor": "white",
           "lakecolor": "white",
           "landcolor": "#E5ECF6",
           "showlakes": true,
           "showland": true,
           "subunitcolor": "white"
          },
          "hoverlabel": {
           "align": "left"
          },
          "hovermode": "closest",
          "mapbox": {
           "style": "light"
          },
          "paper_bgcolor": "white",
          "plot_bgcolor": "#E5ECF6",
          "polar": {
           "angularaxis": {
            "gridcolor": "white",
            "linecolor": "white",
            "ticks": ""
           },
           "bgcolor": "#E5ECF6",
           "radialaxis": {
            "gridcolor": "white",
            "linecolor": "white",
            "ticks": ""
           }
          },
          "scene": {
           "xaxis": {
            "backgroundcolor": "#E5ECF6",
            "gridcolor": "white",
            "gridwidth": 2,
            "linecolor": "white",
            "showbackground": true,
            "ticks": "",
            "zerolinecolor": "white"
           },
           "yaxis": {
            "backgroundcolor": "#E5ECF6",
            "gridcolor": "white",
            "gridwidth": 2,
            "linecolor": "white",
            "showbackground": true,
            "ticks": "",
            "zerolinecolor": "white"
           },
           "zaxis": {
            "backgroundcolor": "#E5ECF6",
            "gridcolor": "white",
            "gridwidth": 2,
            "linecolor": "white",
            "showbackground": true,
            "ticks": "",
            "zerolinecolor": "white"
           }
          },
          "shapedefaults": {
           "line": {
            "color": "#2a3f5f"
           }
          },
          "ternary": {
           "aaxis": {
            "gridcolor": "white",
            "linecolor": "white",
            "ticks": ""
           },
           "baxis": {
            "gridcolor": "white",
            "linecolor": "white",
            "ticks": ""
           },
           "bgcolor": "#E5ECF6",
           "caxis": {
            "gridcolor": "white",
            "linecolor": "white",
            "ticks": ""
           }
          },
          "title": {
           "x": 0.05
          },
          "xaxis": {
           "automargin": true,
           "gridcolor": "white",
           "linecolor": "white",
           "ticks": "",
           "title": {
            "standoff": 15
           },
           "zerolinecolor": "white",
           "zerolinewidth": 2
          },
          "yaxis": {
           "automargin": true,
           "gridcolor": "white",
           "linecolor": "white",
           "ticks": "",
           "title": {
            "standoff": 15
           },
           "zerolinecolor": "white",
           "zerolinewidth": 2
          }
         }
        },
        "title": {
         "text": "Recovery of reference strands for candidates using identity"
        },
        "xaxis": {
         "anchor": "y2",
         "domain": [
          0,
          1
         ],
         "zeroline": false
        },
        "yaxis": {
         "anchor": "free",
         "domain": [
          0,
          1
         ],
         "position": 0
        }
       }
      }
     },
     "metadata": {},
     "output_type": "display_data"
    }
   ],
   "source": [
    "df = clustering.evaluate_candidates(None, hist=True)"
   ]
  },
  {
   "cell_type": "code",
   "execution_count": 108,
   "metadata": {},
   "outputs": [
    {
     "name": "stdout",
     "output_type": "stream",
     "text": [
      "Found 528\n"
     ]
    },
    {
     "name": "stderr",
     "output_type": "stream",
     "text": [
      "533it [00:00, 5672.51it/s]"
     ]
    },
    {
     "name": "stdout",
     "output_type": "stream",
     "text": [
      "histt\n"
     ]
    },
    {
     "name": "stderr",
     "output_type": "stream",
     "text": [
      "\n"
     ]
    },
    {
     "data": {
      "application/vnd.plotly.v1+json": {
       "config": {
        "plotlyServerURL": "https://plot.ly"
       },
       "data": [
        {
         "autobinx": false,
         "histnorm": "probability density",
         "legendgroup": "label",
         "marker": {
          "color": "#333F44"
         },
         "name": "label",
         "opacity": 0.7,
         "type": "histogram",
         "x": {
          "bdata": "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",
          "dtype": "f8"
         },
         "xaxis": "x",
         "xbins": {
          "end": 1,
          "size": 0.05,
          "start": 0
         },
         "yaxis": "y"
        },
        {
         "legendgroup": "label",
         "marker": {
          "color": "#333F44"
         },
         "mode": "lines",
         "name": "label",
         "showlegend": false,
         "type": "scatter",
         "x": [
          0,
          0.002,
          0.004,
          0.006,
          0.008,
          0.01,
          0.012,
          0.014,
          0.016,
          0.018,
          0.02,
          0.022,
          0.024,
          0.026,
          0.028,
          0.03,
          0.032,
          0.034,
          0.036,
          0.038,
          0.04,
          0.042,
          0.044,
          0.046,
          0.048,
          0.05,
          0.052,
          0.054,
          0.056,
          0.058,
          0.06,
          0.062,
          0.064,
          0.066,
          0.068,
          0.07,
          0.072,
          0.074,
          0.076,
          0.078,
          0.08,
          0.082,
          0.084,
          0.086,
          0.088,
          0.09,
          0.092,
          0.094,
          0.096,
          0.098,
          0.1,
          0.102,
          0.104,
          0.106,
          0.108,
          0.11,
          0.112,
          0.114,
          0.116,
          0.118,
          0.12,
          0.122,
          0.124,
          0.126,
          0.128,
          0.13,
          0.132,
          0.134,
          0.136,
          0.138,
          0.14,
          0.142,
          0.144,
          0.146,
          0.148,
          0.15,
          0.152,
          0.154,
          0.156,
          0.158,
          0.16,
          0.162,
          0.164,
          0.166,
          0.168,
          0.17,
          0.172,
          0.174,
          0.176,
          0.178,
          0.18,
          0.182,
          0.184,
          0.186,
          0.188,
          0.19,
          0.192,
          0.194,
          0.196,
          0.198,
          0.2,
          0.202,
          0.204,
          0.206,
          0.208,
          0.21,
          0.212,
          0.214,
          0.216,
          0.218,
          0.22,
          0.222,
          0.224,
          0.226,
          0.228,
          0.23,
          0.232,
          0.234,
          0.236,
          0.238,
          0.24,
          0.242,
          0.244,
          0.246,
          0.248,
          0.25,
          0.252,
          0.254,
          0.256,
          0.258,
          0.26,
          0.262,
          0.264,
          0.266,
          0.268,
          0.27,
          0.272,
          0.274,
          0.276,
          0.278,
          0.28,
          0.282,
          0.284,
          0.286,
          0.288,
          0.29,
          0.292,
          0.294,
          0.296,
          0.298,
          0.3,
          0.302,
          0.304,
          0.306,
          0.308,
          0.31,
          0.312,
          0.314,
          0.316,
          0.318,
          0.32,
          0.322,
          0.324,
          0.326,
          0.328,
          0.33,
          0.332,
          0.334,
          0.336,
          0.338,
          0.34,
          0.342,
          0.344,
          0.346,
          0.348,
          0.35,
          0.352,
          0.354,
          0.356,
          0.358,
          0.36,
          0.362,
          0.364,
          0.366,
          0.368,
          0.37,
          0.372,
          0.374,
          0.376,
          0.378,
          0.38,
          0.382,
          0.384,
          0.386,
          0.388,
          0.39,
          0.392,
          0.394,
          0.396,
          0.398,
          0.4,
          0.402,
          0.404,
          0.406,
          0.408,
          0.41,
          0.412,
          0.414,
          0.416,
          0.418,
          0.42,
          0.422,
          0.424,
          0.426,
          0.428,
          0.43,
          0.432,
          0.434,
          0.436,
          0.438,
          0.44,
          0.442,
          0.444,
          0.446,
          0.448,
          0.45,
          0.452,
          0.454,
          0.456,
          0.458,
          0.46,
          0.462,
          0.464,
          0.466,
          0.468,
          0.47,
          0.472,
          0.474,
          0.476,
          0.478,
          0.48,
          0.482,
          0.484,
          0.486,
          0.488,
          0.49,
          0.492,
          0.494,
          0.496,
          0.498,
          0.5,
          0.502,
          0.504,
          0.506,
          0.508,
          0.51,
          0.512,
          0.514,
          0.516,
          0.518,
          0.52,
          0.522,
          0.524,
          0.526,
          0.528,
          0.53,
          0.532,
          0.534,
          0.536,
          0.538,
          0.54,
          0.542,
          0.544,
          0.546,
          0.548,
          0.55,
          0.552,
          0.554,
          0.556,
          0.558,
          0.56,
          0.562,
          0.564,
          0.566,
          0.568,
          0.57,
          0.572,
          0.574,
          0.576,
          0.578,
          0.58,
          0.582,
          0.584,
          0.586,
          0.588,
          0.59,
          0.592,
          0.594,
          0.596,
          0.598,
          0.6,
          0.602,
          0.604,
          0.606,
          0.608,
          0.61,
          0.612,
          0.614,
          0.616,
          0.618,
          0.62,
          0.622,
          0.624,
          0.626,
          0.628,
          0.63,
          0.632,
          0.634,
          0.636,
          0.638,
          0.64,
          0.642,
          0.644,
          0.646,
          0.648,
          0.65,
          0.652,
          0.654,
          0.656,
          0.658,
          0.66,
          0.662,
          0.664,
          0.666,
          0.668,
          0.67,
          0.672,
          0.674,
          0.676,
          0.678,
          0.68,
          0.682,
          0.684,
          0.686,
          0.688,
          0.69,
          0.692,
          0.694,
          0.696,
          0.698,
          0.7,
          0.702,
          0.704,
          0.706,
          0.708,
          0.71,
          0.712,
          0.714,
          0.716,
          0.718,
          0.72,
          0.722,
          0.724,
          0.726,
          0.728,
          0.73,
          0.732,
          0.734,
          0.736,
          0.738,
          0.74,
          0.742,
          0.744,
          0.746,
          0.748,
          0.75,
          0.752,
          0.754,
          0.756,
          0.758,
          0.76,
          0.762,
          0.764,
          0.766,
          0.768,
          0.77,
          0.772,
          0.774,
          0.776,
          0.778,
          0.78,
          0.782,
          0.784,
          0.786,
          0.788,
          0.79,
          0.792,
          0.794,
          0.796,
          0.798,
          0.8,
          0.802,
          0.804,
          0.806,
          0.808,
          0.81,
          0.812,
          0.814,
          0.816,
          0.818,
          0.82,
          0.822,
          0.824,
          0.826,
          0.828,
          0.83,
          0.832,
          0.834,
          0.836,
          0.838,
          0.84,
          0.842,
          0.844,
          0.846,
          0.848,
          0.85,
          0.852,
          0.854,
          0.856,
          0.858,
          0.86,
          0.862,
          0.864,
          0.866,
          0.868,
          0.87,
          0.872,
          0.874,
          0.876,
          0.878,
          0.88,
          0.882,
          0.884,
          0.886,
          0.888,
          0.89,
          0.892,
          0.894,
          0.896,
          0.898,
          0.9,
          0.902,
          0.904,
          0.906,
          0.908,
          0.91,
          0.912,
          0.914,
          0.916,
          0.918,
          0.92,
          0.922,
          0.924,
          0.926,
          0.928,
          0.93,
          0.932,
          0.934,
          0.936,
          0.938,
          0.94,
          0.942,
          0.944,
          0.946,
          0.948,
          0.95,
          0.952,
          0.954,
          0.956,
          0.958,
          0.96,
          0.962,
          0.964,
          0.966,
          0.968,
          0.97,
          0.972,
          0.974,
          0.976,
          0.978,
          0.98,
          0.982,
          0.984,
          0.986,
          0.988,
          0.99,
          0.992,
          0.994,
          0.996,
          0.998
         ],
         "xaxis": "x",
         "y": {
          "bdata": "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",
          "dtype": "f8"
         },
         "yaxis": "y"
        }
       ],
       "layout": {
        "barmode": "overlay",
        "hovermode": "closest",
        "legend": {
         "traceorder": "reversed"
        },
        "template": {
         "data": {
          "bar": [
           {
            "error_x": {
             "color": "#2a3f5f"
            },
            "error_y": {
             "color": "#2a3f5f"
            },
            "marker": {
             "line": {
              "color": "#E5ECF6",
              "width": 0.5
             },
             "pattern": {
              "fillmode": "overlay",
              "size": 10,
              "solidity": 0.2
             }
            },
            "type": "bar"
           }
          ],
          "barpolar": [
           {
            "marker": {
             "line": {
              "color": "#E5ECF6",
              "width": 0.5
             },
             "pattern": {
              "fillmode": "overlay",
              "size": 10,
              "solidity": 0.2
             }
            },
            "type": "barpolar"
           }
          ],
          "carpet": [
           {
            "aaxis": {
             "endlinecolor": "#2a3f5f",
             "gridcolor": "white",
             "linecolor": "white",
             "minorgridcolor": "white",
             "startlinecolor": "#2a3f5f"
            },
            "baxis": {
             "endlinecolor": "#2a3f5f",
             "gridcolor": "white",
             "linecolor": "white",
             "minorgridcolor": "white",
             "startlinecolor": "#2a3f5f"
            },
            "type": "carpet"
           }
          ],
          "choropleth": [
           {
            "colorbar": {
             "outlinewidth": 0,
             "ticks": ""
            },
            "type": "choropleth"
           }
          ],
          "contour": [
           {
            "colorbar": {
             "outlinewidth": 0,
             "ticks": ""
            },
            "colorscale": [
             [
              0,
              "#0d0887"
             ],
             [
              0.1111111111111111,
              "#46039f"
             ],
             [
              0.2222222222222222,
              "#7201a8"
             ],
             [
              0.3333333333333333,
              "#9c179e"
             ],
             [
              0.4444444444444444,
              "#bd3786"
             ],
             [
              0.5555555555555556,
              "#d8576b"
             ],
             [
              0.6666666666666666,
              "#ed7953"
             ],
             [
              0.7777777777777778,
              "#fb9f3a"
             ],
             [
              0.8888888888888888,
              "#fdca26"
             ],
             [
              1,
              "#f0f921"
             ]
            ],
            "type": "contour"
           }
          ],
          "contourcarpet": [
           {
            "colorbar": {
             "outlinewidth": 0,
             "ticks": ""
            },
            "type": "contourcarpet"
           }
          ],
          "heatmap": [
           {
            "colorbar": {
             "outlinewidth": 0,
             "ticks": ""
            },
            "colorscale": [
             [
              0,
              "#0d0887"
             ],
             [
              0.1111111111111111,
              "#46039f"
             ],
             [
              0.2222222222222222,
              "#7201a8"
             ],
             [
              0.3333333333333333,
              "#9c179e"
             ],
             [
              0.4444444444444444,
              "#bd3786"
             ],
             [
              0.5555555555555556,
              "#d8576b"
             ],
             [
              0.6666666666666666,
              "#ed7953"
             ],
             [
              0.7777777777777778,
              "#fb9f3a"
             ],
             [
              0.8888888888888888,
              "#fdca26"
             ],
             [
              1,
              "#f0f921"
             ]
            ],
            "type": "heatmap"
           }
          ],
          "histogram": [
           {
            "marker": {
             "pattern": {
              "fillmode": "overlay",
              "size": 10,
              "solidity": 0.2
             }
            },
            "type": "histogram"
           }
          ],
          "histogram2d": [
           {
            "colorbar": {
             "outlinewidth": 0,
             "ticks": ""
            },
            "colorscale": [
             [
              0,
              "#0d0887"
             ],
             [
              0.1111111111111111,
              "#46039f"
             ],
             [
              0.2222222222222222,
              "#7201a8"
             ],
             [
              0.3333333333333333,
              "#9c179e"
             ],
             [
              0.4444444444444444,
              "#bd3786"
             ],
             [
              0.5555555555555556,
              "#d8576b"
             ],
             [
              0.6666666666666666,
              "#ed7953"
             ],
             [
              0.7777777777777778,
              "#fb9f3a"
             ],
             [
              0.8888888888888888,
              "#fdca26"
             ],
             [
              1,
              "#f0f921"
             ]
            ],
            "type": "histogram2d"
           }
          ],
          "histogram2dcontour": [
           {
            "colorbar": {
             "outlinewidth": 0,
             "ticks": ""
            },
            "colorscale": [
             [
              0,
              "#0d0887"
             ],
             [
              0.1111111111111111,
              "#46039f"
             ],
             [
              0.2222222222222222,
              "#7201a8"
             ],
             [
              0.3333333333333333,
              "#9c179e"
             ],
             [
              0.4444444444444444,
              "#bd3786"
             ],
             [
              0.5555555555555556,
              "#d8576b"
             ],
             [
              0.6666666666666666,
              "#ed7953"
             ],
             [
              0.7777777777777778,
              "#fb9f3a"
             ],
             [
              0.8888888888888888,
              "#fdca26"
             ],
             [
              1,
              "#f0f921"
             ]
            ],
            "type": "histogram2dcontour"
           }
          ],
          "mesh3d": [
           {
            "colorbar": {
             "outlinewidth": 0,
             "ticks": ""
            },
            "type": "mesh3d"
           }
          ],
          "parcoords": [
           {
            "line": {
             "colorbar": {
              "outlinewidth": 0,
              "ticks": ""
             }
            },
            "type": "parcoords"
           }
          ],
          "pie": [
           {
            "automargin": true,
            "type": "pie"
           }
          ],
          "scatter": [
           {
            "fillpattern": {
             "fillmode": "overlay",
             "size": 10,
             "solidity": 0.2
            },
            "type": "scatter"
           }
          ],
          "scatter3d": [
           {
            "line": {
             "colorbar": {
              "outlinewidth": 0,
              "ticks": ""
             }
            },
            "marker": {
             "colorbar": {
              "outlinewidth": 0,
              "ticks": ""
             }
            },
            "type": "scatter3d"
           }
          ],
          "scattercarpet": [
           {
            "marker": {
             "colorbar": {
              "outlinewidth": 0,
              "ticks": ""
             }
            },
            "type": "scattercarpet"
           }
          ],
          "scattergeo": [
           {
            "marker": {
             "colorbar": {
              "outlinewidth": 0,
              "ticks": ""
             }
            },
            "type": "scattergeo"
           }
          ],
          "scattergl": [
           {
            "marker": {
             "colorbar": {
              "outlinewidth": 0,
              "ticks": ""
             }
            },
            "type": "scattergl"
           }
          ],
          "scattermap": [
           {
            "marker": {
             "colorbar": {
              "outlinewidth": 0,
              "ticks": ""
             }
            },
            "type": "scattermap"
           }
          ],
          "scattermapbox": [
           {
            "marker": {
             "colorbar": {
              "outlinewidth": 0,
              "ticks": ""
             }
            },
            "type": "scattermapbox"
           }
          ],
          "scatterpolar": [
           {
            "marker": {
             "colorbar": {
              "outlinewidth": 0,
              "ticks": ""
             }
            },
            "type": "scatterpolar"
           }
          ],
          "scatterpolargl": [
           {
            "marker": {
             "colorbar": {
              "outlinewidth": 0,
              "ticks": ""
             }
            },
            "type": "scatterpolargl"
           }
          ],
          "scatterternary": [
           {
            "marker": {
             "colorbar": {
              "outlinewidth": 0,
              "ticks": ""
             }
            },
            "type": "scatterternary"
           }
          ],
          "surface": [
           {
            "colorbar": {
             "outlinewidth": 0,
             "ticks": ""
            },
            "colorscale": [
             [
              0,
              "#0d0887"
             ],
             [
              0.1111111111111111,
              "#46039f"
             ],
             [
              0.2222222222222222,
              "#7201a8"
             ],
             [
              0.3333333333333333,
              "#9c179e"
             ],
             [
              0.4444444444444444,
              "#bd3786"
             ],
             [
              0.5555555555555556,
              "#d8576b"
             ],
             [
              0.6666666666666666,
              "#ed7953"
             ],
             [
              0.7777777777777778,
              "#fb9f3a"
             ],
             [
              0.8888888888888888,
              "#fdca26"
             ],
             [
              1,
              "#f0f921"
             ]
            ],
            "type": "surface"
           }
          ],
          "table": [
           {
            "cells": {
             "fill": {
              "color": "#EBF0F8"
             },
             "line": {
              "color": "white"
             }
            },
            "header": {
             "fill": {
              "color": "#C8D4E3"
             },
             "line": {
              "color": "white"
             }
            },
            "type": "table"
           }
          ]
         },
         "layout": {
          "annotationdefaults": {
           "arrowcolor": "#2a3f5f",
           "arrowhead": 0,
           "arrowwidth": 1
          },
          "autotypenumbers": "strict",
          "coloraxis": {
           "colorbar": {
            "outlinewidth": 0,
            "ticks": ""
           }
          },
          "colorscale": {
           "diverging": [
            [
             0,
             "#8e0152"
            ],
            [
             0.1,
             "#c51b7d"
            ],
            [
             0.2,
             "#de77ae"
            ],
            [
             0.3,
             "#f1b6da"
            ],
            [
             0.4,
             "#fde0ef"
            ],
            [
             0.5,
             "#f7f7f7"
            ],
            [
             0.6,
             "#e6f5d0"
            ],
            [
             0.7,
             "#b8e186"
            ],
            [
             0.8,
             "#7fbc41"
            ],
            [
             0.9,
             "#4d9221"
            ],
            [
             1,
             "#276419"
            ]
           ],
           "sequential": [
            [
             0,
             "#0d0887"
            ],
            [
             0.1111111111111111,
             "#46039f"
            ],
            [
             0.2222222222222222,
             "#7201a8"
            ],
            [
             0.3333333333333333,
             "#9c179e"
            ],
            [
             0.4444444444444444,
             "#bd3786"
            ],
            [
             0.5555555555555556,
             "#d8576b"
            ],
            [
             0.6666666666666666,
             "#ed7953"
            ],
            [
             0.7777777777777778,
             "#fb9f3a"
            ],
            [
             0.8888888888888888,
             "#fdca26"
            ],
            [
             1,
             "#f0f921"
            ]
           ],
           "sequentialminus": [
            [
             0,
             "#0d0887"
            ],
            [
             0.1111111111111111,
             "#46039f"
            ],
            [
             0.2222222222222222,
             "#7201a8"
            ],
            [
             0.3333333333333333,
             "#9c179e"
            ],
            [
             0.4444444444444444,
             "#bd3786"
            ],
            [
             0.5555555555555556,
             "#d8576b"
            ],
            [
             0.6666666666666666,
             "#ed7953"
            ],
            [
             0.7777777777777778,
             "#fb9f3a"
            ],
            [
             0.8888888888888888,
             "#fdca26"
            ],
            [
             1,
             "#f0f921"
            ]
           ]
          },
          "colorway": [
           "#636efa",
           "#EF553B",
           "#00cc96",
           "#ab63fa",
           "#FFA15A",
           "#19d3f3",
           "#FF6692",
           "#B6E880",
           "#FF97FF",
           "#FECB52"
          ],
          "font": {
           "color": "#2a3f5f"
          },
          "geo": {
           "bgcolor": "white",
           "lakecolor": "white",
           "landcolor": "#E5ECF6",
           "showlakes": true,
           "showland": true,
           "subunitcolor": "white"
          },
          "hoverlabel": {
           "align": "left"
          },
          "hovermode": "closest",
          "mapbox": {
           "style": "light"
          },
          "paper_bgcolor": "white",
          "plot_bgcolor": "#E5ECF6",
          "polar": {
           "angularaxis": {
            "gridcolor": "white",
            "linecolor": "white",
            "ticks": ""
           },
           "bgcolor": "#E5ECF6",
           "radialaxis": {
            "gridcolor": "white",
            "linecolor": "white",
            "ticks": ""
           }
          },
          "scene": {
           "xaxis": {
            "backgroundcolor": "#E5ECF6",
            "gridcolor": "white",
            "gridwidth": 2,
            "linecolor": "white",
            "showbackground": true,
            "ticks": "",
            "zerolinecolor": "white"
           },
           "yaxis": {
            "backgroundcolor": "#E5ECF6",
            "gridcolor": "white",
            "gridwidth": 2,
            "linecolor": "white",
            "showbackground": true,
            "ticks": "",
            "zerolinecolor": "white"
           },
           "zaxis": {
            "backgroundcolor": "#E5ECF6",
            "gridcolor": "white",
            "gridwidth": 2,
            "linecolor": "white",
            "showbackground": true,
            "ticks": "",
            "zerolinecolor": "white"
           }
          },
          "shapedefaults": {
           "line": {
            "color": "#2a3f5f"
           }
          },
          "ternary": {
           "aaxis": {
            "gridcolor": "white",
            "linecolor": "white",
            "ticks": ""
           },
           "baxis": {
            "gridcolor": "white",
            "linecolor": "white",
            "ticks": ""
           },
           "bgcolor": "#E5ECF6",
           "caxis": {
            "gridcolor": "white",
            "linecolor": "white",
            "ticks": ""
           }
          },
          "title": {
           "x": 0.05
          },
          "xaxis": {
           "automargin": true,
           "gridcolor": "white",
           "linecolor": "white",
           "ticks": "",
           "title": {
            "standoff": 15
           },
           "zerolinecolor": "white",
           "zerolinewidth": 2
          },
          "yaxis": {
           "automargin": true,
           "gridcolor": "white",
           "linecolor": "white",
           "ticks": "",
           "title": {
            "standoff": 15
           },
           "zerolinecolor": "white",
           "zerolinewidth": 2
          }
         }
        },
        "title": {
         "text": "Recovery of reference strands for candidates using identity"
        },
        "xaxis": {
         "anchor": "y2",
         "domain": [
          0,
          1
         ],
         "zeroline": false
        },
        "yaxis": {
         "anchor": "free",
         "domain": [
          0,
          1
         ],
         "position": 0
        }
       }
      }
     },
     "metadata": {},
     "output_type": "display_data"
    }
   ],
   "source": [
    "clustering.original_strands = original_strands\n",
    "clustering.fsm(candidates=decoded_strands)\n",
    "df = clustering.evaluate_candidates(decoded_strands, hist=True)"
   ]
  },
  {
   "cell_type": "code",
   "execution_count": 87,
   "metadata": {},
   "outputs": [
    {
     "name": "stdout",
     "output_type": "stream",
     "text": [
      "dict_keys(['reference_recoveries', 'reference_strand_indices', 'recovery_rates'])\n",
      "[889 358 372 516 797  93 596 293 333  46 855 811 618 761 448 388 180 626\n",
      " 686 850 555 574 331 645 806 310 751 586 362 183 732 440 409 528 518  39\n",
      " 143 706 346 363 522 627 184 157 568 708 292 572 721 742 661 696 622 699\n",
      "  83 825 810 834 205 765 766 425 868   8 607  38 224 102 168 540 343 339\n",
      " 804 231  15 311 796 519 365 243 494   7 791 648 378 186  30 819 799 612\n",
      " 609 878 786 351 412  87  80 153 366 179 120 736 220 155 502 511 559 705\n",
      " 552 262 245 235 406 442 480 549 300 784 506 221 813 394 562 716  85 817\n",
      " 307  99 482 129 402  96 261 100 758 219 866 357 113 396 678  20 698 668\n",
      " 499 338 840 779 818 109 457 795 523 872 281 871 883 419 814  66 330 368\n",
      " 467 783 517 283 842 693 370 233 665 592 722 662 405 598 670 887 860 739\n",
      " 192 176 429  25 752 737 725 456  55  73  18 541 514 515 488 507 673 803\n",
      " 588 355 600   0 258 246 681  29 214 265 308 774 136 865 337 577 801 836\n",
      "  84 175 305 899 142 278 536 430 483 908  88 315 191 754 226 884 182 364\n",
      " 649 332 271 414  13 193 464  79 223 313 297 188  98 723 896 809 106  27\n",
      " 487 579 356   2 195 547 160 603 270   9 132  60 599  40 279 780 687 749\n",
      " 557 309 486 694 638 613 447 225 639 390 580 481 642 720 325 209 798 760\n",
      " 584 576 862 631 112 614 735 490 660 605 556 137 894  94 321 691  57 590\n",
      " 392 667 347 174 808 738 702 826 495 893  41 538 144 628  89 551  47 608\n",
      " 641 870 529 348 104  17 199 344 122 266 501 399 677 606 340 166 101 900\n",
      " 682 561 846 537 837  10 108 254 680 616 831 711 781 316 268 423 759 901\n",
      " 240 727 185 128 222 585 264 882 302 533 869 636 407 789 820 253 906 194\n",
      " 452 207 413 158 769 489 714 197  69 652 427 433  56 383 771 554 710  70\n",
      "  33 163 230 161 335 647 287 713 459 778 777 763 232 289 773 719 125  67\n",
      " 503 864 692 583 822 724 656 275 688 653 432 255 524 227 858 655  64 570\n",
      " 733 675 897 740 851 848 591 257 249   3  59 379 167 217  16 134 135 544\n",
      " 589 178 500 619 391 451 762  82 632 165  49 385 291 492 299 787  19 832\n",
      " 718 875  53 829 785 690 149 597 210 658 805 204 148 411 203 296 812 250\n",
      " 569 460 764 453 695 782  34 159 788 620   6 581 327  61 881 428 290 324\n",
      " 436 672 904 172  62 886 504 445 505 856  14 138 525 367 238 468 472  97\n",
      " 314 461]\n",
      "[1.         1.         1.         1.         1.         1.\n",
      " 1.         1.         1.         1.         1.         1.\n",
      " 1.         1.         1.         1.         1.         1.\n",
      " 1.         1.         1.         1.         1.         1.\n",
      " 1.         1.         1.         1.         1.         1.\n",
      " 1.         1.         1.         1.         1.         1.\n",
      " 1.         1.         1.         1.         1.         1.\n",
      " 1.         1.         1.         1.         1.         1.\n",
      " 1.         1.         1.         1.         1.         1.\n",
      " 1.         1.         1.         1.         1.         1.\n",
      " 1.         1.         1.         1.         1.         1.\n",
      " 1.         1.         1.         1.         1.         1.\n",
      " 1.         1.         1.         1.         1.         1.\n",
      " 1.         1.         1.         1.         1.         1.\n",
      " 1.         1.         1.         1.         1.         1.\n",
      " 1.         1.         1.         1.         1.         1.\n",
      " 1.         1.         1.         1.         1.         1.\n",
      " 1.         1.         1.         1.         1.         1.\n",
      " 1.         1.         1.         1.         1.         1.\n",
      " 1.         1.         1.         1.         1.         1.\n",
      " 1.         1.         1.         1.         1.         1.\n",
      " 1.         1.         1.         1.         1.         1.\n",
      " 1.         1.         1.         1.         1.         1.\n",
      " 1.         1.         1.         1.         1.         1.\n",
      " 1.         1.         1.         1.         1.         1.\n",
      " 1.         1.         1.         1.         1.         1.\n",
      " 1.         1.         1.         1.         1.         1.\n",
      " 1.         1.         1.         1.         1.         1.\n",
      " 0.98529412 1.         1.         1.         1.         1.\n",
      " 1.         1.         1.         1.         1.         1.\n",
      " 1.         1.         1.         1.         1.         1.\n",
      " 1.         1.         1.         1.         1.         1.\n",
      " 1.         1.         1.         1.         1.         1.\n",
      " 1.         1.         1.         1.         1.         1.\n",
      " 1.         1.         1.         1.         1.         1.\n",
      " 1.         1.         1.         1.         1.         1.\n",
      " 1.         1.         1.         1.         1.         1.\n",
      " 1.         1.         1.         1.         1.         1.\n",
      " 1.         1.         1.         1.         1.         1.\n",
      " 1.         1.         1.         1.         1.         1.\n",
      " 1.         1.         1.         1.         1.         1.\n",
      " 1.         1.         1.         1.         1.         1.\n",
      " 1.         1.         1.         1.         1.         1.\n",
      " 1.         1.         1.         1.         1.         1.\n",
      " 1.         1.         1.         1.         1.         1.\n",
      " 1.         1.         1.         1.         1.         1.\n",
      " 1.         1.         1.         1.         1.         1.\n",
      " 1.         1.         1.         1.         1.         1.\n",
      " 1.         1.         1.         1.         1.         1.\n",
      " 1.         1.         1.         1.         1.         1.\n",
      " 1.         1.         1.         1.         1.         1.\n",
      " 1.         1.         1.         1.         1.         1.\n",
      " 1.         1.         1.         1.         1.         1.\n",
      " 1.         1.         1.         1.         1.         1.\n",
      " 1.         1.         1.         1.         1.         1.\n",
      " 1.         1.         1.         1.         1.         1.\n",
      " 1.         1.         1.         1.         1.         1.\n",
      " 1.         1.         1.         1.         1.         1.\n",
      " 1.         1.         1.         1.         1.         1.\n",
      " 1.         1.         1.         1.         1.         1.\n",
      " 1.         1.         1.         1.         1.         1.\n",
      " 1.         1.         1.         1.         1.         1.\n",
      " 1.         1.         1.         1.         1.         1.\n",
      " 1.         1.         1.         1.         1.         1.\n",
      " 1.         1.         1.         1.         1.         1.\n",
      " 1.         1.         1.         1.         1.         1.\n",
      " 1.         1.         1.         1.         1.         1.\n",
      " 1.         1.         1.         1.         1.         1.\n",
      " 1.         1.         1.         1.         1.         1.\n",
      " 1.         1.         1.         1.         1.         1.\n",
      " 1.         1.         1.         1.         1.         1.\n",
      " 1.         1.         1.         1.         1.         1.\n",
      " 1.         1.         1.         1.         1.         1.\n",
      " 1.         1.         1.         1.         1.         1.\n",
      " 1.         1.         1.         1.         1.         1.\n",
      " 1.         1.         1.         1.         1.         1.\n",
      " 1.         1.         1.         1.         1.         1.\n",
      " 1.         1.         1.         1.         1.         1.\n",
      " 1.         1.         1.         1.         1.         1.\n",
      " 1.         1.         1.         1.         1.         1.\n",
      " 1.         1.         1.         1.         1.         1.\n",
      " 1.         1.         1.         1.         1.         1.\n",
      " 1.         1.         1.         1.         1.         1.\n",
      " 1.         1.         1.         1.         1.         1.\n",
      " 1.         1.         1.         1.         1.         1.\n",
      " 1.         1.         1.         1.         1.         1.\n",
      " 1.         1.         1.         1.         1.         1.\n",
      " 1.         1.        ]\n"
     ]
    }
   ],
   "source": [
    "import plotly.figure_factory as ff\n",
    "\n",
    "print(df.keys())\n",
    "print(df[\"reference_strand_indices\"])\n",
    "print(df[\"recovery_rates\"])\n",
    "help = np.delete(df[\"reference_recoveries\"], df[\"reference_strand_indices\"])\n",
    "d32 = [help, df[\"recovery_rates\"]]"
   ]
  },
  {
   "cell_type": "code",
   "execution_count": 132,
   "metadata": {},
   "outputs": [
    {
     "data": {
      "application/vnd.plotly.v1+json": {
       "config": {
        "plotlyServerURL": "https://plot.ly"
       },
       "data": [
        {
         "autobinx": false,
         "histnorm": "probability density",
         "legendgroup": "d2",
         "marker": {
          "color": "#333F44"
         },
         "name": "d2",
         "opacity": 0.7,
         "type": "histogram",
         "x": {
          "bdata": "sK+vr6+v7z+NjIyMjIzkPwAAAAAAAPA/Hh4eHh4e7j+cm5ubm5vrP7Cvr6+vr+8/",
          "dtype": "f8"
         },
         "xaxis": "x",
         "xbins": {
          "end": 1,
          "size": 0.05,
          "start": 0.6421568627450981
         },
         "yaxis": "y"
        },
        {
         "autobinx": false,
         "histnorm": "probability density",
         "legendgroup": "d32",
         "marker": {
          "color": "#37AA9C"
         },
         "name": "d32",
         "opacity": 0.7,
         "type": "histogram",
         "x": {
          "bdata": "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",
          "dtype": "f8"
         },
         "xaxis": "x",
         "xbins": {
          "end": 1,
          "size": 0.05,
          "start": 0.9852941176470589
         },
         "yaxis": "y"
        },
        {
         "legendgroup": "d2",
         "marker": {
          "color": "#333F44"
         },
         "mode": "lines",
         "name": "d2",
         "showlegend": false,
         "type": "scatter",
         "x": [
          0.6421568627450981,
          0.6428725490196079,
          0.6435882352941177,
          0.6443039215686275,
          0.6450196078431373,
          0.6457352941176471,
          0.6464509803921569,
          0.6471666666666667,
          0.6478823529411765,
          0.6485980392156864,
          0.6493137254901962,
          0.650029411764706,
          0.6507450980392158,
          0.6514607843137256,
          0.6521764705882354,
          0.6528921568627452,
          0.653607843137255,
          0.6543235294117647,
          0.6550392156862745,
          0.6557549019607843,
          0.6564705882352941,
          0.6571862745098039,
          0.6579019607843137,
          0.6586176470588235,
          0.6593333333333333,
          0.6600490196078432,
          0.660764705882353,
          0.6614803921568628,
          0.6621960784313726,
          0.6629117647058824,
          0.6636274509803922,
          0.664343137254902,
          0.6650588235294118,
          0.6657745098039216,
          0.6664901960784314,
          0.6672058823529412,
          0.667921568627451,
          0.6686372549019608,
          0.6693529411764706,
          0.6700686274509804,
          0.6707843137254903,
          0.6715000000000001,
          0.6722156862745099,
          0.6729313725490197,
          0.6736470588235295,
          0.6743627450980393,
          0.6750784313725491,
          0.6757941176470589,
          0.6765098039215687,
          0.6772254901960785,
          0.6779411764705883,
          0.6786568627450981,
          0.6793725490196079,
          0.6800882352941177,
          0.6808039215686275,
          0.6815196078431373,
          0.682235294117647,
          0.682950980392157,
          0.6836666666666668,
          0.6843823529411766,
          0.6850980392156863,
          0.6858137254901961,
          0.6865294117647059,
          0.6872450980392157,
          0.6879607843137255,
          0.6886764705882353,
          0.6893921568627451,
          0.6901078431372549,
          0.6908235294117647,
          0.6915392156862745,
          0.6922549019607843,
          0.6929705882352941,
          0.693686274509804,
          0.6944019607843137,
          0.6951176470588236,
          0.6958333333333334,
          0.6965490196078432,
          0.697264705882353,
          0.6979803921568628,
          0.6986960784313726,
          0.6994117647058824,
          0.7001274509803922,
          0.700843137254902,
          0.7015588235294118,
          0.7022745098039216,
          0.7029901960784314,
          0.7037058823529412,
          0.704421568627451,
          0.7051372549019608,
          0.7058529411764707,
          0.7065686274509805,
          0.7072843137254903,
          0.7080000000000001,
          0.7087156862745099,
          0.7094313725490197,
          0.7101470588235295,
          0.7108627450980393,
          0.7115784313725491,
          0.7122941176470589,
          0.7130098039215687,
          0.7137254901960784,
          0.7144411764705882,
          0.715156862745098,
          0.7158725490196078,
          0.7165882352941177,
          0.7173039215686274,
          0.7180196078431373,
          0.7187352941176471,
          0.7194509803921569,
          0.7201666666666667,
          0.7208823529411765,
          0.7215980392156863,
          0.7223137254901961,
          0.7230294117647059,
          0.7237450980392157,
          0.7244607843137255,
          0.7251764705882353,
          0.7258921568627451,
          0.7266078431372549,
          0.7273235294117647,
          0.7280392156862745,
          0.7287549019607844,
          0.7294705882352941,
          0.730186274509804,
          0.7309019607843138,
          0.7316176470588236,
          0.7323333333333334,
          0.7330490196078432,
          0.733764705882353,
          0.7344803921568628,
          0.7351960784313726,
          0.7359117647058824,
          0.7366274509803922,
          0.737343137254902,
          0.7380588235294118,
          0.7387745098039216,
          0.7394901960784314,
          0.7402058823529412,
          0.7409215686274511,
          0.7416372549019609,
          0.7423529411764707,
          0.7430686274509805,
          0.7437843137254903,
          0.7445,
          0.7452156862745098,
          0.7459313725490196,
          0.7466470588235294,
          0.7473627450980392,
          0.748078431372549,
          0.7487941176470588,
          0.7495098039215686,
          0.7502254901960784,
          0.7509411764705882,
          0.7516568627450981,
          0.7523725490196079,
          0.7530882352941177,
          0.7538039215686275,
          0.7545196078431373,
          0.7552352941176471,
          0.7559509803921569,
          0.7566666666666667,
          0.7573823529411765,
          0.7580980392156863,
          0.7588137254901961,
          0.7595294117647059,
          0.7602450980392157,
          0.7609607843137255,
          0.7616764705882353,
          0.7623921568627451,
          0.7631078431372549,
          0.7638235294117648,
          0.7645392156862746,
          0.7652549019607844,
          0.7659705882352942,
          0.766686274509804,
          0.7674019607843138,
          0.7681176470588236,
          0.7688333333333334,
          0.7695490196078432,
          0.770264705882353,
          0.7709803921568628,
          0.7716960784313726,
          0.7724117647058824,
          0.7731274509803922,
          0.773843137254902,
          0.7745588235294119,
          0.7752745098039215,
          0.7759901960784314,
          0.7767058823529412,
          0.777421568627451,
          0.7781372549019608,
          0.7788529411764706,
          0.7795686274509804,
          0.7802843137254902,
          0.781,
          0.7817156862745098,
          0.7824313725490196,
          0.7831470588235294,
          0.7838627450980392,
          0.784578431372549,
          0.7852941176470589,
          0.7860098039215686,
          0.7867254901960785,
          0.7874411764705882,
          0.7881568627450981,
          0.7888725490196079,
          0.7895882352941177,
          0.7903039215686275,
          0.7910196078431373,
          0.7917352941176471,
          0.7924509803921569,
          0.7931666666666667,
          0.7938823529411765,
          0.7945980392156863,
          0.7953137254901961,
          0.7960294117647059,
          0.7967450980392157,
          0.7974607843137256,
          0.7981764705882353,
          0.7988921568627452,
          0.799607843137255,
          0.8003235294117648,
          0.8010392156862746,
          0.8017549019607844,
          0.8024705882352942,
          0.803186274509804,
          0.8039019607843138,
          0.8046176470588235,
          0.8053333333333333,
          0.8060490196078431,
          0.8067647058823529,
          0.8074803921568627,
          0.8081960784313725,
          0.8089117647058823,
          0.8096274509803922,
          0.8103431372549019,
          0.8110588235294118,
          0.8117745098039216,
          0.8124901960784314,
          0.8132058823529412,
          0.813921568627451,
          0.8146372549019608,
          0.8153529411764706,
          0.8160686274509804,
          0.8167843137254902,
          0.8175,
          0.8182156862745098,
          0.8189313725490196,
          0.8196470588235294,
          0.8203627450980393,
          0.821078431372549,
          0.8217941176470589,
          0.8225098039215686,
          0.8232254901960785,
          0.8239411764705883,
          0.8246568627450981,
          0.8253725490196079,
          0.8260882352941177,
          0.8268039215686275,
          0.8275196078431373,
          0.8282352941176471,
          0.8289509803921569,
          0.8296666666666667,
          0.8303823529411765,
          0.8310980392156863,
          0.831813725490196,
          0.832529411764706,
          0.8332450980392156,
          0.8339607843137256,
          0.8346764705882354,
          0.8353921568627451,
          0.836107843137255,
          0.8368235294117647,
          0.8375392156862745,
          0.8382549019607843,
          0.8389705882352941,
          0.8396862745098039,
          0.8404019607843137,
          0.8411176470588235,
          0.8418333333333334,
          0.8425490196078431,
          0.8432647058823529,
          0.8439803921568627,
          0.8446960784313726,
          0.8454117647058823,
          0.8461274509803922,
          0.846843137254902,
          0.8475588235294118,
          0.8482745098039216,
          0.8489901960784314,
          0.8497058823529412,
          0.850421568627451,
          0.8511372549019608,
          0.8518529411764706,
          0.8525686274509804,
          0.8532843137254902,
          0.854,
          0.8547156862745098,
          0.8554313725490197,
          0.8561470588235295,
          0.8568627450980393,
          0.857578431372549,
          0.8582941176470589,
          0.8590098039215687,
          0.8597254901960785,
          0.8604411764705883,
          0.8611568627450981,
          0.8618725490196079,
          0.8625882352941177,
          0.8633039215686275,
          0.8640196078431372,
          0.864735294117647,
          0.8654509803921568,
          0.8661666666666666,
          0.8668823529411764,
          0.8675980392156863,
          0.868313725490196,
          0.8690294117647059,
          0.8697450980392157,
          0.8704607843137255,
          0.8711764705882353,
          0.8718921568627451,
          0.8726078431372549,
          0.8733235294117647,
          0.8740392156862745,
          0.8747549019607843,
          0.8754705882352941,
          0.8761862745098039,
          0.8769019607843138,
          0.8776176470588235,
          0.8783333333333333,
          0.8790490196078431,
          0.879764705882353,
          0.8804803921568627,
          0.8811960784313726,
          0.8819117647058824,
          0.8826274509803922,
          0.883343137254902,
          0.8840588235294118,
          0.8847745098039216,
          0.8854901960784314,
          0.8862058823529412,
          0.886921568627451,
          0.8876372549019608,
          0.8883529411764706,
          0.8890686274509805,
          0.8897843137254902,
          0.8905000000000001,
          0.8912156862745099,
          0.8919313725490197,
          0.8926470588235293,
          0.8933627450980393,
          0.894078431372549,
          0.8947941176470589,
          0.8955098039215686,
          0.8962254901960784,
          0.8969411764705882,
          0.897656862745098,
          0.898372549019608,
          0.8990882352941176,
          0.8998039215686275,
          0.9005196078431372,
          0.9012352941176471,
          0.9019509803921568,
          0.9026666666666667,
          0.9033823529411764,
          0.9040980392156863,
          0.9048137254901961,
          0.9055294117647059,
          0.9062450980392157,
          0.9069607843137255,
          0.9076764705882353,
          0.9083921568627451,
          0.909107843137255,
          0.9098235294117647,
          0.9105392156862745,
          0.9112549019607843,
          0.9119705882352941,
          0.9126862745098039,
          0.9134019607843138,
          0.9141176470588235,
          0.9148333333333334,
          0.9155490196078432,
          0.916264705882353,
          0.9169803921568627,
          0.9176960784313726,
          0.9184117647058823,
          0.9191274509803922,
          0.919843137254902,
          0.9205588235294118,
          0.9212745098039216,
          0.9219901960784314,
          0.9227058823529413,
          0.923421568627451,
          0.9241372549019609,
          0.9248529411764705,
          0.9255686274509805,
          0.9262843137254901,
          0.927,
          0.9277156862745097,
          0.9284313725490196,
          0.9291470588235294,
          0.9298627450980392,
          0.930578431372549,
          0.9312941176470588,
          0.9320098039215686,
          0.9327254901960784,
          0.9334411764705883,
          0.934156862745098,
          0.9348725490196079,
          0.9355882352941176,
          0.9363039215686275,
          0.9370196078431372,
          0.9377352941176471,
          0.9384509803921568,
          0.9391666666666667,
          0.9398823529411765,
          0.9405980392156863,
          0.9413137254901961,
          0.9420294117647059,
          0.9427450980392157,
          0.9434607843137255,
          0.9441764705882354,
          0.9448921568627451,
          0.9456078431372549,
          0.9463235294117647,
          0.9470392156862745,
          0.9477549019607843,
          0.9484705882352942,
          0.9491862745098039,
          0.9499019607843138,
          0.9506176470588236,
          0.9513333333333334,
          0.9520490196078432,
          0.952764705882353,
          0.9534803921568628,
          0.9541960784313726,
          0.9549117647058823,
          0.9556274509803921,
          0.9563431372549019,
          0.9570588235294117,
          0.9577745098039216,
          0.9584901960784313,
          0.9592058823529412,
          0.9599215686274509,
          0.9606372549019608,
          0.9613529411764705,
          0.9620686274509804,
          0.9627843137254901,
          0.9635,
          0.9642156862745098,
          0.9649313725490196,
          0.9656470588235294,
          0.9663627450980392,
          0.967078431372549,
          0.9677941176470588,
          0.9685098039215687,
          0.9692254901960784,
          0.9699411764705883,
          0.970656862745098,
          0.9713725490196079,
          0.9720882352941176,
          0.9728039215686275,
          0.9735196078431372,
          0.9742352941176471,
          0.9749509803921569,
          0.9756666666666667,
          0.9763823529411765,
          0.9770980392156863,
          0.9778137254901961,
          0.9785294117647059,
          0.9792450980392158,
          0.9799607843137255,
          0.9806764705882353,
          0.9813921568627451,
          0.982107843137255,
          0.9828235294117647,
          0.9835392156862746,
          0.9842549019607844,
          0.9849705882352942,
          0.985686274509804,
          0.9864019607843137,
          0.9871176470588235,
          0.9878333333333333,
          0.9885490196078431,
          0.9892647058823529,
          0.9899803921568627,
          0.9906960784313725,
          0.9914117647058823,
          0.9921274509803921,
          0.992843137254902,
          0.9935588235294117,
          0.9942745098039216,
          0.9949901960784313,
          0.9957058823529412,
          0.9964215686274509,
          0.9971372549019608,
          0.9978529411764705,
          0.9985686274509804,
          0.9992843137254902
         ],
         "xaxis": "x",
         "y": {
          "bdata": "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",
          "dtype": "f8"
         },
         "yaxis": "y"
        },
        {
         "legendgroup": "d32",
         "marker": {
          "color": "#37AA9C"
         },
         "mode": "lines",
         "name": "d32",
         "showlegend": false,
         "type": "scatter",
         "x": [
          0.9852941176470589,
          0.9853235294117647,
          0.9853529411764707,
          0.9853823529411765,
          0.9854117647058824,
          0.9854411764705883,
          0.9854705882352942,
          0.9855,
          0.985529411764706,
          0.9855588235294118,
          0.9855882352941177,
          0.9856176470588236,
          0.9856470588235294,
          0.9856764705882354,
          0.9857058823529412,
          0.9857352941176472,
          0.985764705882353,
          0.9857941176470588,
          0.9858235294117648,
          0.9858529411764706,
          0.9858823529411765,
          0.9859117647058824,
          0.9859411764705883,
          0.9859705882352942,
          0.9860000000000001,
          0.9860294117647059,
          0.9860588235294118,
          0.9860882352941177,
          0.9861176470588235,
          0.9861470588235295,
          0.9861764705882353,
          0.9862058823529413,
          0.9862352941176471,
          0.986264705882353,
          0.9862941176470589,
          0.9863235294117647,
          0.9863529411764707,
          0.9863823529411765,
          0.9864117647058824,
          0.9864411764705883,
          0.9864705882352942,
          0.9865,
          0.9865294117647059,
          0.9865588235294118,
          0.9865882352941177,
          0.9866176470588236,
          0.9866470588235294,
          0.9866764705882354,
          0.9867058823529412,
          0.9867352941176472,
          0.986764705882353,
          0.9867941176470588,
          0.9868235294117648,
          0.9868529411764706,
          0.9868823529411765,
          0.9869117647058824,
          0.9869411764705883,
          0.9869705882352942,
          0.9870000000000001,
          0.9870294117647059,
          0.9870588235294118,
          0.9870882352941177,
          0.9871176470588235,
          0.9871470588235295,
          0.9871764705882353,
          0.9872058823529413,
          0.9872352941176471,
          0.9872647058823529,
          0.9872941176470589,
          0.9873235294117647,
          0.9873529411764707,
          0.9873823529411765,
          0.9874117647058824,
          0.9874411764705883,
          0.9874705882352942,
          0.9875,
          0.9875294117647059,
          0.9875588235294118,
          0.9875882352941177,
          0.9876176470588236,
          0.9876470588235294,
          0.9876764705882354,
          0.9877058823529412,
          0.9877352941176472,
          0.987764705882353,
          0.9877941176470588,
          0.9878235294117648,
          0.9878529411764706,
          0.9878823529411765,
          0.9879117647058824,
          0.9879411764705883,
          0.9879705882352942,
          0.988,
          0.9880294117647059,
          0.9880588235294118,
          0.9880882352941177,
          0.9881176470588235,
          0.9881470588235295,
          0.9881764705882353,
          0.9882058823529413,
          0.9882352941176471,
          0.9882647058823529,
          0.9882941176470589,
          0.9883235294117647,
          0.9883529411764707,
          0.9883823529411765,
          0.9884117647058824,
          0.9884411764705883,
          0.9884705882352942,
          0.9885,
          0.9885294117647059,
          0.9885588235294118,
          0.9885882352941177,
          0.9886176470588236,
          0.9886470588235294,
          0.9886764705882354,
          0.9887058823529412,
          0.988735294117647,
          0.988764705882353,
          0.9887941176470588,
          0.9888235294117648,
          0.9888529411764706,
          0.9888823529411765,
          0.9889117647058824,
          0.9889411764705883,
          0.9889705882352942,
          0.989,
          0.9890294117647059,
          0.9890588235294118,
          0.9890882352941177,
          0.9891176470588235,
          0.9891470588235295,
          0.9891764705882353,
          0.9892058823529413,
          0.9892352941176471,
          0.9892647058823529,
          0.9892941176470589,
          0.9893235294117647,
          0.9893529411764707,
          0.9893823529411765,
          0.9894117647058824,
          0.9894411764705883,
          0.9894705882352941,
          0.9895,
          0.9895294117647059,
          0.9895588235294118,
          0.9895882352941177,
          0.9896176470588236,
          0.9896470588235294,
          0.9896764705882354,
          0.9897058823529412,
          0.989735294117647,
          0.989764705882353,
          0.9897941176470588,
          0.9898235294117648,
          0.9898529411764706,
          0.9898823529411765,
          0.9899117647058824,
          0.9899411764705883,
          0.9899705882352942,
          0.99,
          0.9900294117647059,
          0.9900588235294118,
          0.9900882352941177,
          0.9901176470588235,
          0.9901470588235295,
          0.9901764705882353,
          0.9902058823529412,
          0.9902352941176471,
          0.9902647058823529,
          0.9902941176470589,
          0.9903235294117647,
          0.9903529411764707,
          0.9903823529411765,
          0.9904117647058824,
          0.9904411764705883,
          0.9904705882352941,
          0.9905,
          0.9905294117647059,
          0.9905588235294118,
          0.9905882352941177,
          0.9906176470588236,
          0.9906470588235294,
          0.9906764705882354,
          0.9907058823529412,
          0.990735294117647,
          0.990764705882353,
          0.9907941176470588,
          0.9908235294117648,
          0.9908529411764706,
          0.9908823529411765,
          0.9909117647058824,
          0.9909411764705882,
          0.9909705882352942,
          0.991,
          0.9910294117647059,
          0.9910588235294118,
          0.9910882352941177,
          0.9911176470588235,
          0.9911470588235295,
          0.9911764705882353,
          0.9912058823529412,
          0.9912352941176471,
          0.9912647058823529,
          0.9912941176470589,
          0.9913235294117647,
          0.9913529411764707,
          0.9913823529411765,
          0.9914117647058824,
          0.9914411764705883,
          0.9914705882352941,
          0.9915,
          0.9915294117647059,
          0.9915588235294118,
          0.9915882352941177,
          0.9916176470588236,
          0.9916470588235294,
          0.9916764705882353,
          0.9917058823529412,
          0.991735294117647,
          0.991764705882353,
          0.9917941176470588,
          0.9918235294117648,
          0.9918529411764706,
          0.9918823529411765,
          0.9919117647058824,
          0.9919411764705882,
          0.9919705882352942,
          0.992,
          0.9920294117647059,
          0.9920588235294118,
          0.9920882352941177,
          0.9921176470588235,
          0.9921470588235295,
          0.9921764705882353,
          0.9922058823529412,
          0.9922352941176471,
          0.9922647058823529,
          0.9922941176470589,
          0.9923235294117647,
          0.9923529411764707,
          0.9923823529411765,
          0.9924117647058823,
          0.9924411764705883,
          0.9924705882352941,
          0.9925,
          0.9925294117647059,
          0.9925588235294118,
          0.9925882352941177,
          0.9926176470588236,
          0.9926470588235294,
          0.9926764705882353,
          0.9927058823529412,
          0.992735294117647,
          0.992764705882353,
          0.9927941176470588,
          0.9928235294117648,
          0.9928529411764706,
          0.9928823529411765,
          0.9929117647058824,
          0.9929411764705882,
          0.9929705882352942,
          0.993,
          0.9930294117647059,
          0.9930588235294118,
          0.9930882352941177,
          0.9931176470588235,
          0.9931470588235294,
          0.9931764705882353,
          0.9932058823529412,
          0.9932352941176471,
          0.9932647058823529,
          0.9932941176470589,
          0.9933235294117647,
          0.9933529411764707,
          0.9933823529411765,
          0.9934117647058823,
          0.9934411764705883,
          0.9934705882352941,
          0.9935,
          0.9935294117647059,
          0.9935588235294118,
          0.9935882352941177,
          0.9936176470588236,
          0.9936470588235294,
          0.9936764705882353,
          0.9937058823529412,
          0.993735294117647,
          0.993764705882353,
          0.9937941176470588,
          0.9938235294117648,
          0.9938529411764706,
          0.9938823529411764,
          0.9939117647058824,
          0.9939411764705882,
          0.9939705882352942,
          0.994,
          0.9940294117647059,
          0.9940588235294118,
          0.9940882352941177,
          0.9941176470588236,
          0.9941470588235294,
          0.9941764705882353,
          0.9942058823529412,
          0.9942352941176471,
          0.9942647058823529,
          0.9942941176470589,
          0.9943235294117647,
          0.9943529411764707,
          0.9943823529411765,
          0.9944117647058823,
          0.9944411764705883,
          0.9944705882352941,
          0.9945,
          0.9945294117647059,
          0.9945588235294118,
          0.9945882352941177,
          0.9946176470588235,
          0.9946470588235294,
          0.9946764705882353,
          0.9947058823529412,
          0.994735294117647,
          0.994764705882353,
          0.9947941176470588,
          0.9948235294117648,
          0.9948529411764706,
          0.9948823529411764,
          0.9949117647058824,
          0.9949411764705882,
          0.9949705882352942,
          0.995,
          0.9950294117647059,
          0.9950588235294118,
          0.9950882352941177,
          0.9951176470588236,
          0.9951470588235294,
          0.9951764705882353,
          0.9952058823529412,
          0.9952352941176471,
          0.9952647058823529,
          0.9952941176470589,
          0.9953235294117647,
          0.9953529411764706,
          0.9953823529411765,
          0.9954117647058823,
          0.9954411764705883,
          0.9954705882352941,
          0.9955,
          0.9955294117647059,
          0.9955588235294118,
          0.9955882352941177,
          0.9956176470588235,
          0.9956470588235294,
          0.9956764705882353,
          0.9957058823529412,
          0.995735294117647,
          0.995764705882353,
          0.9957941176470588,
          0.9958235294117648,
          0.9958529411764706,
          0.9958823529411764,
          0.9959117647058824,
          0.9959411764705882,
          0.9959705882352942,
          0.996,
          0.9960294117647059,
          0.9960588235294118,
          0.9960882352941176,
          0.9961176470588236,
          0.9961470588235294,
          0.9961764705882353,
          0.9962058823529412,
          0.9962352941176471,
          0.9962647058823529,
          0.9962941176470589,
          0.9963235294117647,
          0.9963529411764706,
          0.9963823529411765,
          0.9964117647058823,
          0.9964411764705883,
          0.9964705882352941,
          0.9965,
          0.9965294117647059,
          0.9965588235294118,
          0.9965882352941177,
          0.9966176470588235,
          0.9966470588235294,
          0.9966764705882353,
          0.9967058823529412,
          0.996735294117647,
          0.996764705882353,
          0.9967941176470588,
          0.9968235294117647,
          0.9968529411764706,
          0.9968823529411764,
          0.9969117647058824,
          0.9969411764705882,
          0.9969705882352942,
          0.997,
          0.9970294117647059,
          0.9970588235294118,
          0.9970882352941176,
          0.9971176470588236,
          0.9971470588235294,
          0.9971764705882353,
          0.9972058823529412,
          0.9972352941176471,
          0.9972647058823529,
          0.9972941176470589,
          0.9973235294117647,
          0.9973529411764706,
          0.9973823529411765,
          0.9974117647058823,
          0.9974411764705883,
          0.9974705882352941,
          0.9975,
          0.9975294117647059,
          0.9975588235294117,
          0.9975882352941177,
          0.9976176470588235,
          0.9976470588235294,
          0.9976764705882353,
          0.9977058823529412,
          0.997735294117647,
          0.997764705882353,
          0.9977941176470588,
          0.9978235294117647,
          0.9978529411764706,
          0.9978823529411764,
          0.9979117647058824,
          0.9979411764705882,
          0.9979705882352942,
          0.998,
          0.9980294117647059,
          0.9980588235294118,
          0.9980882352941176,
          0.9981176470588236,
          0.9981470588235294,
          0.9981764705882353,
          0.9982058823529412,
          0.9982352941176471,
          0.9982647058823529,
          0.9982941176470588,
          0.9983235294117647,
          0.9983529411764706,
          0.9983823529411765,
          0.9984117647058823,
          0.9984411764705883,
          0.9984705882352941,
          0.9985,
          0.9985294117647059,
          0.9985588235294117,
          0.9985882352941177,
          0.9986176470588235,
          0.9986470588235294,
          0.9986764705882353,
          0.9987058823529412,
          0.998735294117647,
          0.998764705882353,
          0.9987941176470588,
          0.9988235294117647,
          0.9988529411764706,
          0.9988823529411764,
          0.9989117647058824,
          0.9989411764705882,
          0.9989705882352942,
          0.999,
          0.9990294117647058,
          0.9990588235294118,
          0.9990882352941176,
          0.9991176470588236,
          0.9991470588235294,
          0.9991764705882353,
          0.9992058823529412,
          0.9992352941176471,
          0.9992647058823529,
          0.9992941176470588,
          0.9993235294117647,
          0.9993529411764706,
          0.9993823529411765,
          0.9994117647058823,
          0.9994411764705883,
          0.9994705882352941,
          0.9995,
          0.9995294117647059,
          0.9995588235294117,
          0.9995882352941177,
          0.9996176470588235,
          0.9996470588235294,
          0.9996764705882353,
          0.9997058823529412,
          0.999735294117647,
          0.9997647058823529,
          0.9997941176470588,
          0.9998235294117647,
          0.9998529411764706,
          0.9998823529411764,
          0.9999117647058824,
          0.9999411764705882,
          0.9999705882352942
         ],
         "xaxis": "x",
         "y": {
          "bdata": "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",
          "dtype": "f8"
         },
         "yaxis": "y"
        },
        {
         "legendgroup": "d2",
         "marker": {
          "color": "#333F44",
          "symbol": "line-ns-open"
         },
         "mode": "markers",
         "name": "d2",
         "showlegend": false,
         "type": "scatter",
         "x": {
          "bdata": "sK+vr6+v7z+NjIyMjIzkPwAAAAAAAPA/Hh4eHh4e7j+cm5ubm5vrP7Cvr6+vr+8/",
          "dtype": "f8"
         },
         "xaxis": "x",
         "y": [
          "d2",
          "d2",
          "d2",
          "d2",
          "d2",
          "d2"
         ],
         "yaxis": "y2"
        },
        {
         "legendgroup": "d32",
         "marker": {
          "color": "#37AA9C",
          "symbol": "line-ns-open"
         },
         "mode": "markers",
         "name": "d32",
         "showlegend": false,
         "type": "scatter",
         "x": {
          "bdata": "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",
          "dtype": "f8"
         },
         "xaxis": "x",
         "y": [
          "d32",
          "d32",
          "d32",
          "d32",
          "d32",
          "d32",
          "d32",
          "d32",
          "d32",
          "d32",
          "d32",
          "d32",
          "d32",
          "d32",
          "d32",
          "d32",
          "d32",
          "d32",
          "d32",
          "d32",
          "d32",
          "d32",
          "d32",
          "d32",
          "d32",
          "d32",
          "d32",
          "d32",
          "d32",
          "d32",
          "d32",
          "d32",
          "d32",
          "d32",
          "d32",
          "d32",
          "d32",
          "d32",
          "d32",
          "d32",
          "d32",
          "d32",
          "d32",
          "d32",
          "d32",
          "d32",
          "d32",
          "d32",
          "d32",
          "d32",
          "d32",
          "d32",
          "d32",
          "d32",
          "d32",
          "d32",
          "d32",
          "d32",
          "d32",
          "d32",
          "d32",
          "d32",
          "d32",
          "d32",
          "d32",
          "d32",
          "d32",
          "d32",
          "d32",
          "d32",
          "d32",
          "d32",
          "d32",
          "d32",
          "d32",
          "d32",
          "d32",
          "d32",
          "d32",
          "d32",
          "d32",
          "d32",
          "d32",
          "d32",
          "d32",
          "d32",
          "d32",
          "d32",
          "d32",
          "d32",
          "d32",
          "d32",
          "d32",
          "d32",
          "d32",
          "d32",
          "d32",
          "d32",
          "d32",
          "d32",
          "d32",
          "d32",
          "d32",
          "d32",
          "d32",
          "d32",
          "d32",
          "d32",
          "d32",
          "d32",
          "d32",
          "d32",
          "d32",
          "d32",
          "d32",
          "d32",
          "d32",
          "d32",
          "d32",
          "d32",
          "d32",
          "d32",
          "d32",
          "d32",
          "d32",
          "d32",
          "d32",
          "d32",
          "d32",
          "d32",
          "d32",
          "d32",
          "d32",
          "d32",
          "d32",
          "d32",
          "d32",
          "d32",
          "d32",
          "d32",
          "d32",
          "d32",
          "d32",
          "d32",
          "d32",
          "d32",
          "d32",
          "d32",
          "d32",
          "d32",
          "d32",
          "d32",
          "d32",
          "d32",
          "d32",
          "d32",
          "d32",
          "d32",
          "d32",
          "d32",
          "d32",
          "d32",
          "d32",
          "d32",
          "d32",
          "d32",
          "d32",
          "d32",
          "d32",
          "d32",
          "d32",
          "d32",
          "d32",
          "d32",
          "d32",
          "d32",
          "d32",
          "d32",
          "d32",
          "d32",
          "d32",
          "d32",
          "d32",
          "d32",
          "d32",
          "d32",
          "d32",
          "d32",
          "d32",
          "d32",
          "d32",
          "d32",
          "d32",
          "d32",
          "d32",
          "d32",
          "d32",
          "d32",
          "d32",
          "d32",
          "d32",
          "d32",
          "d32",
          "d32",
          "d32",
          "d32",
          "d32",
          "d32",
          "d32",
          "d32",
          "d32",
          "d32",
          "d32",
          "d32",
          "d32",
          "d32",
          "d32",
          "d32",
          "d32",
          "d32",
          "d32",
          "d32",
          "d32",
          "d32",
          "d32",
          "d32",
          "d32",
          "d32",
          "d32",
          "d32",
          "d32",
          "d32",
          "d32",
          "d32",
          "d32",
          "d32",
          "d32",
          "d32",
          "d32",
          "d32",
          "d32",
          "d32",
          "d32",
          "d32",
          "d32",
          "d32",
          "d32",
          "d32",
          "d32",
          "d32",
          "d32",
          "d32",
          "d32",
          "d32",
          "d32",
          "d32",
          "d32",
          "d32",
          "d32",
          "d32",
          "d32",
          "d32",
          "d32",
          "d32",
          "d32",
          "d32",
          "d32",
          "d32",
          "d32",
          "d32",
          "d32",
          "d32",
          "d32",
          "d32",
          "d32",
          "d32",
          "d32",
          "d32",
          "d32",
          "d32",
          "d32",
          "d32",
          "d32",
          "d32",
          "d32",
          "d32",
          "d32",
          "d32",
          "d32",
          "d32",
          "d32",
          "d32",
          "d32",
          "d32",
          "d32",
          "d32",
          "d32",
          "d32",
          "d32",
          "d32",
          "d32",
          "d32",
          "d32",
          "d32",
          "d32",
          "d32",
          "d32",
          "d32",
          "d32",
          "d32",
          "d32",
          "d32",
          "d32",
          "d32",
          "d32",
          "d32",
          "d32",
          "d32",
          "d32",
          "d32",
          "d32",
          "d32",
          "d32",
          "d32",
          "d32",
          "d32",
          "d32",
          "d32",
          "d32",
          "d32",
          "d32",
          "d32",
          "d32",
          "d32",
          "d32",
          "d32",
          "d32",
          "d32",
          "d32",
          "d32",
          "d32",
          "d32",
          "d32",
          "d32",
          "d32",
          "d32",
          "d32",
          "d32",
          "d32",
          "d32",
          "d32",
          "d32",
          "d32",
          "d32",
          "d32",
          "d32",
          "d32",
          "d32",
          "d32",
          "d32",
          "d32",
          "d32",
          "d32",
          "d32",
          "d32",
          "d32",
          "d32",
          "d32",
          "d32",
          "d32",
          "d32",
          "d32",
          "d32",
          "d32",
          "d32",
          "d32",
          "d32",
          "d32",
          "d32",
          "d32",
          "d32",
          "d32",
          "d32",
          "d32",
          "d32",
          "d32",
          "d32",
          "d32",
          "d32",
          "d32",
          "d32",
          "d32",
          "d32",
          "d32",
          "d32",
          "d32",
          "d32",
          "d32",
          "d32",
          "d32",
          "d32",
          "d32",
          "d32",
          "d32",
          "d32",
          "d32",
          "d32",
          "d32",
          "d32",
          "d32",
          "d32",
          "d32",
          "d32",
          "d32",
          "d32",
          "d32",
          "d32",
          "d32",
          "d32",
          "d32",
          "d32",
          "d32",
          "d32",
          "d32",
          "d32",
          "d32",
          "d32",
          "d32",
          "d32",
          "d32",
          "d32",
          "d32",
          "d32",
          "d32",
          "d32",
          "d32",
          "d32",
          "d32",
          "d32",
          "d32",
          "d32",
          "d32",
          "d32",
          "d32",
          "d32",
          "d32",
          "d32",
          "d32",
          "d32",
          "d32",
          "d32",
          "d32",
          "d32",
          "d32",
          "d32",
          "d32",
          "d32",
          "d32",
          "d32",
          "d32",
          "d32",
          "d32",
          "d32",
          "d32",
          "d32",
          "d32",
          "d32",
          "d32",
          "d32",
          "d32",
          "d32",
          "d32",
          "d32",
          "d32",
          "d32",
          "d32",
          "d32",
          "d32",
          "d32",
          "d32",
          "d32",
          "d32",
          "d32",
          "d32",
          "d32",
          "d32",
          "d32",
          "d32",
          "d32",
          "d32",
          "d32",
          "d32",
          "d32",
          "d32",
          "d32",
          "d32",
          "d32",
          "d32",
          "d32",
          "d32",
          "d32",
          "d32",
          "d32",
          "d32",
          "d32",
          "d32",
          "d32",
          "d32",
          "d32",
          "d32",
          "d32",
          "d32",
          "d32",
          "d32",
          "d32",
          "d32",
          "d32",
          "d32",
          "d32",
          "d32",
          "d32",
          "d32",
          "d32",
          "d32"
         ],
         "yaxis": "y2"
        }
       ],
       "layout": {
        "barmode": "overlay",
        "hovermode": "closest",
        "legend": {
         "traceorder": "reversed"
        },
        "template": {
         "data": {
          "bar": [
           {
            "error_x": {
             "color": "#2a3f5f"
            },
            "error_y": {
             "color": "#2a3f5f"
            },
            "marker": {
             "line": {
              "color": "#E5ECF6",
              "width": 0.5
             },
             "pattern": {
              "fillmode": "overlay",
              "size": 10,
              "solidity": 0.2
             }
            },
            "type": "bar"
           }
          ],
          "barpolar": [
           {
            "marker": {
             "line": {
              "color": "#E5ECF6",
              "width": 0.5
             },
             "pattern": {
              "fillmode": "overlay",
              "size": 10,
              "solidity": 0.2
             }
            },
            "type": "barpolar"
           }
          ],
          "carpet": [
           {
            "aaxis": {
             "endlinecolor": "#2a3f5f",
             "gridcolor": "white",
             "linecolor": "white",
             "minorgridcolor": "white",
             "startlinecolor": "#2a3f5f"
            },
            "baxis": {
             "endlinecolor": "#2a3f5f",
             "gridcolor": "white",
             "linecolor": "white",
             "minorgridcolor": "white",
             "startlinecolor": "#2a3f5f"
            },
            "type": "carpet"
           }
          ],
          "choropleth": [
           {
            "colorbar": {
             "outlinewidth": 0,
             "ticks": ""
            },
            "type": "choropleth"
           }
          ],
          "contour": [
           {
            "colorbar": {
             "outlinewidth": 0,
             "ticks": ""
            },
            "colorscale": [
             [
              0,
              "#0d0887"
             ],
             [
              0.1111111111111111,
              "#46039f"
             ],
             [
              0.2222222222222222,
              "#7201a8"
             ],
             [
              0.3333333333333333,
              "#9c179e"
             ],
             [
              0.4444444444444444,
              "#bd3786"
             ],
             [
              0.5555555555555556,
              "#d8576b"
             ],
             [
              0.6666666666666666,
              "#ed7953"
             ],
             [
              0.7777777777777778,
              "#fb9f3a"
             ],
             [
              0.8888888888888888,
              "#fdca26"
             ],
             [
              1,
              "#f0f921"
             ]
            ],
            "type": "contour"
           }
          ],
          "contourcarpet": [
           {
            "colorbar": {
             "outlinewidth": 0,
             "ticks": ""
            },
            "type": "contourcarpet"
           }
          ],
          "heatmap": [
           {
            "colorbar": {
             "outlinewidth": 0,
             "ticks": ""
            },
            "colorscale": [
             [
              0,
              "#0d0887"
             ],
             [
              0.1111111111111111,
              "#46039f"
             ],
             [
              0.2222222222222222,
              "#7201a8"
             ],
             [
              0.3333333333333333,
              "#9c179e"
             ],
             [
              0.4444444444444444,
              "#bd3786"
             ],
             [
              0.5555555555555556,
              "#d8576b"
             ],
             [
              0.6666666666666666,
              "#ed7953"
             ],
             [
              0.7777777777777778,
              "#fb9f3a"
             ],
             [
              0.8888888888888888,
              "#fdca26"
             ],
             [
              1,
              "#f0f921"
             ]
            ],
            "type": "heatmap"
           }
          ],
          "histogram": [
           {
            "marker": {
             "pattern": {
              "fillmode": "overlay",
              "size": 10,
              "solidity": 0.2
             }
            },
            "type": "histogram"
           }
          ],
          "histogram2d": [
           {
            "colorbar": {
             "outlinewidth": 0,
             "ticks": ""
            },
            "colorscale": [
             [
              0,
              "#0d0887"
             ],
             [
              0.1111111111111111,
              "#46039f"
             ],
             [
              0.2222222222222222,
              "#7201a8"
             ],
             [
              0.3333333333333333,
              "#9c179e"
             ],
             [
              0.4444444444444444,
              "#bd3786"
             ],
             [
              0.5555555555555556,
              "#d8576b"
             ],
             [
              0.6666666666666666,
              "#ed7953"
             ],
             [
              0.7777777777777778,
              "#fb9f3a"
             ],
             [
              0.8888888888888888,
              "#fdca26"
             ],
             [
              1,
              "#f0f921"
             ]
            ],
            "type": "histogram2d"
           }
          ],
          "histogram2dcontour": [
           {
            "colorbar": {
             "outlinewidth": 0,
             "ticks": ""
            },
            "colorscale": [
             [
              0,
              "#0d0887"
             ],
             [
              0.1111111111111111,
              "#46039f"
             ],
             [
              0.2222222222222222,
              "#7201a8"
             ],
             [
              0.3333333333333333,
              "#9c179e"
             ],
             [
              0.4444444444444444,
              "#bd3786"
             ],
             [
              0.5555555555555556,
              "#d8576b"
             ],
             [
              0.6666666666666666,
              "#ed7953"
             ],
             [
              0.7777777777777778,
              "#fb9f3a"
             ],
             [
              0.8888888888888888,
              "#fdca26"
             ],
             [
              1,
              "#f0f921"
             ]
            ],
            "type": "histogram2dcontour"
           }
          ],
          "mesh3d": [
           {
            "colorbar": {
             "outlinewidth": 0,
             "ticks": ""
            },
            "type": "mesh3d"
           }
          ],
          "parcoords": [
           {
            "line": {
             "colorbar": {
              "outlinewidth": 0,
              "ticks": ""
             }
            },
            "type": "parcoords"
           }
          ],
          "pie": [
           {
            "automargin": true,
            "type": "pie"
           }
          ],
          "scatter": [
           {
            "fillpattern": {
             "fillmode": "overlay",
             "size": 10,
             "solidity": 0.2
            },
            "type": "scatter"
           }
          ],
          "scatter3d": [
           {
            "line": {
             "colorbar": {
              "outlinewidth": 0,
              "ticks": ""
             }
            },
            "marker": {
             "colorbar": {
              "outlinewidth": 0,
              "ticks": ""
             }
            },
            "type": "scatter3d"
           }
          ],
          "scattercarpet": [
           {
            "marker": {
             "colorbar": {
              "outlinewidth": 0,
              "ticks": ""
             }
            },
            "type": "scattercarpet"
           }
          ],
          "scattergeo": [
           {
            "marker": {
             "colorbar": {
              "outlinewidth": 0,
              "ticks": ""
             }
            },
            "type": "scattergeo"
           }
          ],
          "scattergl": [
           {
            "marker": {
             "colorbar": {
              "outlinewidth": 0,
              "ticks": ""
             }
            },
            "type": "scattergl"
           }
          ],
          "scattermap": [
           {
            "marker": {
             "colorbar": {
              "outlinewidth": 0,
              "ticks": ""
             }
            },
            "type": "scattermap"
           }
          ],
          "scattermapbox": [
           {
            "marker": {
             "colorbar": {
              "outlinewidth": 0,
              "ticks": ""
             }
            },
            "type": "scattermapbox"
           }
          ],
          "scatterpolar": [
           {
            "marker": {
             "colorbar": {
              "outlinewidth": 0,
              "ticks": ""
             }
            },
            "type": "scatterpolar"
           }
          ],
          "scatterpolargl": [
           {
            "marker": {
             "colorbar": {
              "outlinewidth": 0,
              "ticks": ""
             }
            },
            "type": "scatterpolargl"
           }
          ],
          "scatterternary": [
           {
            "marker": {
             "colorbar": {
              "outlinewidth": 0,
              "ticks": ""
             }
            },
            "type": "scatterternary"
           }
          ],
          "surface": [
           {
            "colorbar": {
             "outlinewidth": 0,
             "ticks": ""
            },
            "colorscale": [
             [
              0,
              "#0d0887"
             ],
             [
              0.1111111111111111,
              "#46039f"
             ],
             [
              0.2222222222222222,
              "#7201a8"
             ],
             [
              0.3333333333333333,
              "#9c179e"
             ],
             [
              0.4444444444444444,
              "#bd3786"
             ],
             [
              0.5555555555555556,
              "#d8576b"
             ],
             [
              0.6666666666666666,
              "#ed7953"
             ],
             [
              0.7777777777777778,
              "#fb9f3a"
             ],
             [
              0.8888888888888888,
              "#fdca26"
             ],
             [
              1,
              "#f0f921"
             ]
            ],
            "type": "surface"
           }
          ],
          "table": [
           {
            "cells": {
             "fill": {
              "color": "#EBF0F8"
             },
             "line": {
              "color": "white"
             }
            },
            "header": {
             "fill": {
              "color": "#C8D4E3"
             },
             "line": {
              "color": "white"
             }
            },
            "type": "table"
           }
          ]
         },
         "layout": {
          "annotationdefaults": {
           "arrowcolor": "#2a3f5f",
           "arrowhead": 0,
           "arrowwidth": 1
          },
          "autotypenumbers": "strict",
          "coloraxis": {
           "colorbar": {
            "outlinewidth": 0,
            "ticks": ""
           }
          },
          "colorscale": {
           "diverging": [
            [
             0,
             "#8e0152"
            ],
            [
             0.1,
             "#c51b7d"
            ],
            [
             0.2,
             "#de77ae"
            ],
            [
             0.3,
             "#f1b6da"
            ],
            [
             0.4,
             "#fde0ef"
            ],
            [
             0.5,
             "#f7f7f7"
            ],
            [
             0.6,
             "#e6f5d0"
            ],
            [
             0.7,
             "#b8e186"
            ],
            [
             0.8,
             "#7fbc41"
            ],
            [
             0.9,
             "#4d9221"
            ],
            [
             1,
             "#276419"
            ]
           ],
           "sequential": [
            [
             0,
             "#0d0887"
            ],
            [
             0.1111111111111111,
             "#46039f"
            ],
            [
             0.2222222222222222,
             "#7201a8"
            ],
            [
             0.3333333333333333,
             "#9c179e"
            ],
            [
             0.4444444444444444,
             "#bd3786"
            ],
            [
             0.5555555555555556,
             "#d8576b"
            ],
            [
             0.6666666666666666,
             "#ed7953"
            ],
            [
             0.7777777777777778,
             "#fb9f3a"
            ],
            [
             0.8888888888888888,
             "#fdca26"
            ],
            [
             1,
             "#f0f921"
            ]
           ],
           "sequentialminus": [
            [
             0,
             "#0d0887"
            ],
            [
             0.1111111111111111,
             "#46039f"
            ],
            [
             0.2222222222222222,
             "#7201a8"
            ],
            [
             0.3333333333333333,
             "#9c179e"
            ],
            [
             0.4444444444444444,
             "#bd3786"
            ],
            [
             0.5555555555555556,
             "#d8576b"
            ],
            [
             0.6666666666666666,
             "#ed7953"
            ],
            [
             0.7777777777777778,
             "#fb9f3a"
            ],
            [
             0.8888888888888888,
             "#fdca26"
            ],
            [
             1,
             "#f0f921"
            ]
           ]
          },
          "colorway": [
           "#636efa",
           "#EF553B",
           "#00cc96",
           "#ab63fa",
           "#FFA15A",
           "#19d3f3",
           "#FF6692",
           "#B6E880",
           "#FF97FF",
           "#FECB52"
          ],
          "font": {
           "color": "#2a3f5f"
          },
          "geo": {
           "bgcolor": "white",
           "lakecolor": "white",
           "landcolor": "#E5ECF6",
           "showlakes": true,
           "showland": true,
           "subunitcolor": "white"
          },
          "hoverlabel": {
           "align": "left"
          },
          "hovermode": "closest",
          "mapbox": {
           "style": "light"
          },
          "paper_bgcolor": "white",
          "plot_bgcolor": "#E5ECF6",
          "polar": {
           "angularaxis": {
            "gridcolor": "white",
            "linecolor": "white",
            "ticks": ""
           },
           "bgcolor": "#E5ECF6",
           "radialaxis": {
            "gridcolor": "white",
            "linecolor": "white",
            "ticks": ""
           }
          },
          "scene": {
           "xaxis": {
            "backgroundcolor": "#E5ECF6",
            "gridcolor": "white",
            "gridwidth": 2,
            "linecolor": "white",
            "showbackground": true,
            "ticks": "",
            "zerolinecolor": "white"
           },
           "yaxis": {
            "backgroundcolor": "#E5ECF6",
            "gridcolor": "white",
            "gridwidth": 2,
            "linecolor": "white",
            "showbackground": true,
            "ticks": "",
            "zerolinecolor": "white"
           },
           "zaxis": {
            "backgroundcolor": "#E5ECF6",
            "gridcolor": "white",
            "gridwidth": 2,
            "linecolor": "white",
            "showbackground": true,
            "ticks": "",
            "zerolinecolor": "white"
           }
          },
          "shapedefaults": {
           "line": {
            "color": "#2a3f5f"
           }
          },
          "ternary": {
           "aaxis": {
            "gridcolor": "white",
            "linecolor": "white",
            "ticks": ""
           },
           "baxis": {
            "gridcolor": "white",
            "linecolor": "white",
            "ticks": ""
           },
           "bgcolor": "#E5ECF6",
           "caxis": {
            "gridcolor": "white",
            "linecolor": "white",
            "ticks": ""
           }
          },
          "title": {
           "x": 0.05
          },
          "xaxis": {
           "automargin": true,
           "gridcolor": "white",
           "linecolor": "white",
           "ticks": "",
           "title": {
            "standoff": 15
           },
           "zerolinecolor": "white",
           "zerolinewidth": 2
          },
          "yaxis": {
           "automargin": true,
           "gridcolor": "white",
           "linecolor": "white",
           "ticks": "",
           "title": {
            "standoff": 15
           },
           "zerolinecolor": "white",
           "zerolinewidth": 2
          }
         }
        },
        "xaxis": {
         "anchor": "y2",
         "domain": [
          0,
          1
         ],
         "zeroline": false
        },
        "yaxis": {
         "anchor": "free",
         "domain": [
          0.35,
          1
         ],
         "position": 0
        },
        "yaxis2": {
         "anchor": "x",
         "domain": [
          0,
          0.25
         ],
         "dtick": 1,
         "showticklabels": false
        }
       }
      }
     },
     "metadata": {},
     "output_type": "display_data"
    }
   ],
   "source": [
    "fig = ff.create_distplot([d2[1], d32[1]], ['d2','d32'], colors=['#333F44', '#37AA9C'], bin_size=0.05, show_rug=True, curve_type=\"normal\")\n",
    "fig.show()"
   ]
  },
  {
   "cell_type": "code",
   "execution_count": null,
   "metadata": {},
   "outputs": [],
   "source": [
    "d2\n",
    "d4\n",
    "d8\n",
    "d16\n",
    "d32"
   ]
  },
  {
   "cell_type": "code",
   "execution_count": 88,
   "metadata": {},
   "outputs": [
    {
     "name": "stderr",
     "output_type": "stream",
     "text": [
      "/Users/i/miniconda3/envs/NOREC/lib/python3.10/site-packages/scipy/stats/_distn_infrastructure.py:2093: RuntimeWarning:\n",
      "\n",
      "invalid value encountered in divide\n",
      "\n"
     ]
    },
    {
     "data": {
      "application/vnd.plotly.v1+json": {
       "config": {
        "plotlyServerURL": "https://plot.ly"
       },
       "data": [
        {
         "autobinx": false,
         "histnorm": "probability density",
         "legendgroup": "erased",
         "marker": {
          "color": "#333F44"
         },
         "name": "erased",
         "opacity": 0.7,
         "type": "histogram",
         "x": {
          "bdata": "AAAAAAAAAAAAAAAAAAAAAAAAAAAAAAAAAAAAAAAAAAAAAAAAAAAAAAAAAAAAAAAAAAAAAAAAAAAAAAAAAAAAAAAAAAAAAAAAAAAAAAAAAAAAAAAAAAAAAAAAAAAAAAAAAAAAAAAAAAAAAAAAAAAAAAAAAAAAAAAAAAAAAAAAAAAAAAAAAAAAAAAAAAAAAAAAAAAAAAAAAAAAAAAAAAAAAAAAAAAAAAAAAAAAAAAAAAAAAAAAAAAAAAAAAAAAAAAAAAAAAAAAAAAAAAAAAAAAAAAAAAAAAAAAAAAAAAAAAAAAAAAAAAAAAAAAAAAAAAAAAAAAAAAAAAAAAAAAAAAAAAAAAAAAAAAAAAAAAAAAAAAAAAAAAAAAAAAAAAAAAAAAAAAAAAAAAAAAAAAAAAAAAAAAAAAAAAAAAAAAAAAAAAAAAAAAAAAAAAAAAAAAAAAAAAAAAAAAAAAAAAAAAAAAAAAAAAAAAAAAAAAAAAAAAAAAAAAAAAAAAAAAAAAAAAAAAAAAAAAAAAAAAAAAAAAAAAAAAAAAAAAAAAAAAAAAAAAAAAAAAAAAAAAAAAAAAAAAAAAAAAAAAAAAAAAAAAAAAAAAAAAAAAAAAAAAAAAAAAAAAAAAAAAAAAAAAAAAAAAAAAAAAAAAAAAAAAAAAAAAAAAAAAAAAAAAAAAAAAAAAAAAAAAAAAAAAAAAAAAAAAAAAAAAAAAAAAAAAAAAAAAAAAAAAAAAAAAAAAAAAAAAAAAAAAAAAAAAAAAAAAAAAAAAAAAAAAAAAAAAAAAAAAAAAAAAAAAAAAAAAAAAAAAAAAAAAAAAAAAAAAAAAAAAAAAAAAAAAAAAAAAAAAAAAAAAAAAAAAAAAAAAAAAAAAAAAAAAAAAAAAAAAAAAAAAAAAAAAAAAAAAAAAAAAAAAAAAAAAAAAAAAAAAAAAAAAAAAAAAAAAAAAAAAAAAAAAAAAAAAAAAAAAAAAAAAAAAAAAAAAAAAAAAAAAAAAAAAAAAAAAAAAAAAAAAAAAAAAAAAAAAAAAAAAAAAAAAAAAAAAAAAAAAAAAAAAAAAAAAAAAAAAAAAAAAAAAAAAAAAAAAAAAAAAAAAAAAAAAAAAAAAAAAAAAAAAAAAAAAAAAAAAAAAAAAAAAAAAAAAAAAAAAAAAAAAAAAAAAAAAAAAAAAAAAAAAAAAAAAAAAAAAAAAAAAAAAAAAAAAAAAAAAAAAAAAAAAAAAAAAAAAAAAAAAAAAAAAAAAAAAAAAAAAAAAAAAAAAAAAAAAAAAAAAAAAAAAAAAAAAAAAAAAAAAAAAAAAAAAAAAAAAAAAAAAAAAAAAAAAAAAAAAAAAAAAAAAAAAAAAAAAAAAAAAAAAAAAAAAAAAAAAAAAAAAAAAAAAAAAAAAAAAAAAAAAAAAAAAAAAAAAAAAAAAAAAAAAAAAAAAAAAAAAAAAAAAAAAAAAAAAAAAAAAAAAAAAAAAAAAAAAAAAAAAAAAAAAAAAAAAAAAAAAAAAAAAAAAAAAAAAAAAAAAAAAAAAAAAAAAAAAAAAAAAAAAAAAAAAAAAAAAAAAAAAAAAAAAAAAAAAAAAAAAAAAAAAAAAAAAAAAAAAAAAAAAAAAAAAAAAAAAAAAAAAAAAAAAAAAAAAAAAAAAAAAAAAAAAAAAAAAAAAAAAAAAAAAAAAAAAAAAAAAAAAAAAAAAAAAAAAAAAAAAAAAAAAAAAAAAAAAAAAAAAAAAAAAAAAAAAAAAAAAAAAAAAAAAAAAAAAAAAAAAAAAAAAAAAAAAAAAAAAAAAAAAAAAAAAAAAAAAAAAAAAAAAAAAAAAAAAAAAAAAAAAAAAAAAAAAAAAAAAAAAAAAAAAAAAAAAAAAAAAAAAAAAAAAAAAAAAAAAAAAAAAAAAAAAAAAAAAAAAAAAAAAAAAAAAAAAAAAAAAAAAAAAAAAAAAAAAAAAAAAAAAAAAAAAAAAAAAAAAAAAAAAAAAAAAAAAAAAAAAAAAAAAAAAAAAAAAAAAAAAAAAAAAAAAAAAAAAAAAAAAAAAAAAAAAAAAAAAAAAAAAAAAAAAAAAAAAAAAAAAAAAAAAAAAAAAAAAAAAAAAAAAAAAAAAAAAAAAAAAAAAAAAAAAAAAAAAAAAAAAAAAAAAAAAAAAAAAAAAAAAAAAAAAAAAAAAAAAAAAAAAAAAAAAAAAAAAAAAAAAAAAAAAAAAAAAAAAAAAAAAAAAAAAAAAAAAAAAAAAAAAAAAAAAAAAAAAAAAAAAAAAAAAAAAAAAAAAAAAAAAAAAAAAAAAAAAAAAAAAAAAAAAAAAAAAAAAAAAAAAAAAAAAAAAAAAAAAAAAAAAAAAAAAAAAAAAAAAAAAAAAAAAAAAAAAAAAAAAAAAAAAAAAAAAAAAAAAAAAAAAAAAAAAAAAAAAAAAAAAAAAAAAAAAAAAAAAAAAAAAAAAAAAAAAAAAAAAAAAAAAAAAAAAAAAAAAAAAAAAAAAAAAAAAAAAAAAAAAAAAAAAAAAAAAAAAAAAAAAAAAAAAAAAAAAAAAAAAAAAAAAAAAAAAAAAAAAAAAAAAAAAAAAAAAAAAAAAAAAAAAAAAAAAAAAAAAAAAAAAAAAAAAAAAAAAAAAAAAAAAAAAAAAAAAAAAAAAAAAAAAAAAAAAAAAAAAAAAAAAAAAAAAAAAAAAAAAAAAAAAAAAAAAAAAAAAAAAAAAAAAAAAAAAAAAAAAAAAAAAAAAAAAAAAAAAAAAAAAAAAAAAAAAAAAAAAAAAAAAAAAAAAAAAAAAAAAAAAAAAAAAAAAAAAAAAAAAAAAAAAAAAAAAAAAAAAAAAAAAAAAAAAAAAAAAAAAAAAAAAAAAAAAAAAAAAAAAAAAAAAAAAAAAAAAAAAAAAAAAAAAAAAAAAAAAAAAAAAAAAAAAAAAAAAAAAAAAAAAAAAAAAAAAAAAAAAAAAAAAAAAAAAAAAAAAAAAAAAAAAAAAAAAAAAAAAAAAAAAAAAAAAAAAAAAAAAAAAAAAAAAAAAAAAAAAAAAAAAAAAAAAAAAAAAAAAAAAAAAAAAAAAAAAAAAAAAAAAAAAAAAAAAAAAAAAAAAAAAAAAAAAAAAAAAAAAAAAAAAAAAAAAAAAAAAAAAAAAAAAAAAAAAAAAAAAAAAAAAAAAAAAAAAAAAAAAAAAAAAAAAAAAAAAAAAAAAAAAAAAAAAAAAAAAAAAAAAAAAAAAAAAAAAAAAAAAAAAAAAAAAAAAAAAAAAAAAAAAAAAAAAAAAAAAAAAAAAAAAAAAAAAAAAAAAAAAAAAAAAAAAAAAAAAAAAAAAAAAAAAAAAAAAAAAAAAAAAAAAAAAAAAAAAAAAAAAAAAAAAAAAAAAAAAAAAAAAAAAAAAAAAAAAAAAAAAAAAAAAAAAAAAAAAAAAAAAAAAAAAAAAAAAAAAAAAAAAAAAAAAAAAAAAAAAAAAAAAAAAAAAAAAAAAAAAAAAAAAAAAAAAAAAAAAAAAAAAAAAAAAAAAAAAAAAAAAAAAAAAAAAAAAAAAAAAAAAAAAAAAAAAAAAAAAAAAAAAAAAAAAAAAAAAAAAAAAAAAAAAAAAAAAAAAAAAAAAAAAAAAAAAAAAAAAAAAAAAAAAAAAAAAAAAAAAAAAAAAAAAAAAAAAAAAAAAAAAAAAAAAAAAAAAAAAAAAAAAAAAAAAAAAAAAAAAAAAAAAAAAAAAAAAAAAAAAAAAAAAAAAAAAAAAAAAAAAAAAAAAAAAAAAAAAAAAAAAAAAAAAAAAAAAAAAAAAAAAAAAAAAAAAAAAAAAAAAAAAAAAAAAAAAAAAAAAAAAAAAAAAAAAAAAAAAAAAAAAAAAAAAAAAAAAAAAAAAAAAAAAAAAAAAAAAAAAAAAAAAAAAAAAAAAAAAAAAAAAAAAAAAAAAAAAAAAAAAAAAAAAAAAAAAAAAAAAAAAAAAAAAAAAAAAAAAAAAAAAAAAAAAAAAAAAAAAAAAAAAAAAAAAAAAAAAAAAAAAAAAAAAAAAAAAAAAAAAAAAAAAAAAAAAAAAAAAAAAAAAAAAAAAAAAAAAAAAAAAAAAAAAAAAAAAAAAAAAAAAAAAAAAAAAAAAAAAAAAAAAAAAAAAAAAAAAAAAAAAAAAAAAAAAAAAAAAAAAAAAAAAAAAAAAAAAAAAAAAAAAAAAAAA=",
          "dtype": "f8"
         },
         "xaxis": "x",
         "xbins": {
          "end": 0,
          "size": 0.05,
          "start": 0
         },
         "yaxis": "y"
        },
        {
         "autobinx": false,
         "histnorm": "probability density",
         "legendgroup": "recovered",
         "marker": {
          "color": "#37AA9C"
         },
         "name": "recovered",
         "opacity": 0.7,
         "type": "histogram",
         "x": {
          "bdata": "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",
          "dtype": "f8"
         },
         "xaxis": "x",
         "xbins": {
          "end": 1,
          "size": 0.05,
          "start": 0.9852941176470589
         },
         "yaxis": "y"
        },
        {
         "legendgroup": "erased",
         "marker": {
          "color": "#333F44"
         },
         "mode": "lines",
         "name": "erased",
         "showlegend": false,
         "type": "scatter",
         "x": [
          0,
          0,
          0,
          0,
          0,
          0,
          0,
          0,
          0,
          0,
          0,
          0,
          0,
          0,
          0,
          0,
          0,
          0,
          0,
          0,
          0,
          0,
          0,
          0,
          0,
          0,
          0,
          0,
          0,
          0,
          0,
          0,
          0,
          0,
          0,
          0,
          0,
          0,
          0,
          0,
          0,
          0,
          0,
          0,
          0,
          0,
          0,
          0,
          0,
          0,
          0,
          0,
          0,
          0,
          0,
          0,
          0,
          0,
          0,
          0,
          0,
          0,
          0,
          0,
          0,
          0,
          0,
          0,
          0,
          0,
          0,
          0,
          0,
          0,
          0,
          0,
          0,
          0,
          0,
          0,
          0,
          0,
          0,
          0,
          0,
          0,
          0,
          0,
          0,
          0,
          0,
          0,
          0,
          0,
          0,
          0,
          0,
          0,
          0,
          0,
          0,
          0,
          0,
          0,
          0,
          0,
          0,
          0,
          0,
          0,
          0,
          0,
          0,
          0,
          0,
          0,
          0,
          0,
          0,
          0,
          0,
          0,
          0,
          0,
          0,
          0,
          0,
          0,
          0,
          0,
          0,
          0,
          0,
          0,
          0,
          0,
          0,
          0,
          0,
          0,
          0,
          0,
          0,
          0,
          0,
          0,
          0,
          0,
          0,
          0,
          0,
          0,
          0,
          0,
          0,
          0,
          0,
          0,
          0,
          0,
          0,
          0,
          0,
          0,
          0,
          0,
          0,
          0,
          0,
          0,
          0,
          0,
          0,
          0,
          0,
          0,
          0,
          0,
          0,
          0,
          0,
          0,
          0,
          0,
          0,
          0,
          0,
          0,
          0,
          0,
          0,
          0,
          0,
          0,
          0,
          0,
          0,
          0,
          0,
          0,
          0,
          0,
          0,
          0,
          0,
          0,
          0,
          0,
          0,
          0,
          0,
          0,
          0,
          0,
          0,
          0,
          0,
          0,
          0,
          0,
          0,
          0,
          0,
          0,
          0,
          0,
          0,
          0,
          0,
          0,
          0,
          0,
          0,
          0,
          0,
          0,
          0,
          0,
          0,
          0,
          0,
          0,
          0,
          0,
          0,
          0,
          0,
          0,
          0,
          0,
          0,
          0,
          0,
          0,
          0,
          0,
          0,
          0,
          0,
          0,
          0,
          0,
          0,
          0,
          0,
          0,
          0,
          0,
          0,
          0,
          0,
          0,
          0,
          0,
          0,
          0,
          0,
          0,
          0,
          0,
          0,
          0,
          0,
          0,
          0,
          0,
          0,
          0,
          0,
          0,
          0,
          0,
          0,
          0,
          0,
          0,
          0,
          0,
          0,
          0,
          0,
          0,
          0,
          0,
          0,
          0,
          0,
          0,
          0,
          0,
          0,
          0,
          0,
          0,
          0,
          0,
          0,
          0,
          0,
          0,
          0,
          0,
          0,
          0,
          0,
          0,
          0,
          0,
          0,
          0,
          0,
          0,
          0,
          0,
          0,
          0,
          0,
          0,
          0,
          0,
          0,
          0,
          0,
          0,
          0,
          0,
          0,
          0,
          0,
          0,
          0,
          0,
          0,
          0,
          0,
          0,
          0,
          0,
          0,
          0,
          0,
          0,
          0,
          0,
          0,
          0,
          0,
          0,
          0,
          0,
          0,
          0,
          0,
          0,
          0,
          0,
          0,
          0,
          0,
          0,
          0,
          0,
          0,
          0,
          0,
          0,
          0,
          0,
          0,
          0,
          0,
          0,
          0,
          0,
          0,
          0,
          0,
          0,
          0,
          0,
          0,
          0,
          0,
          0,
          0,
          0,
          0,
          0,
          0,
          0,
          0,
          0,
          0,
          0,
          0,
          0,
          0,
          0,
          0,
          0,
          0,
          0,
          0,
          0,
          0,
          0,
          0,
          0,
          0,
          0,
          0,
          0,
          0,
          0,
          0,
          0,
          0,
          0,
          0,
          0,
          0,
          0,
          0,
          0,
          0,
          0,
          0,
          0,
          0,
          0,
          0,
          0,
          0,
          0,
          0,
          0,
          0,
          0,
          0,
          0,
          0,
          0,
          0,
          0,
          0,
          0,
          0,
          0,
          0,
          0,
          0,
          0,
          0,
          0,
          0,
          0,
          0,
          0,
          0,
          0,
          0,
          0,
          0,
          0,
          0,
          0,
          0,
          0,
          0,
          0,
          0,
          0,
          0,
          0,
          0,
          0,
          0,
          0,
          0,
          0
         ],
         "xaxis": "x",
         "y": {
          "bdata": "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",
          "dtype": "f8"
         },
         "yaxis": "y"
        },
        {
         "legendgroup": "recovered",
         "marker": {
          "color": "#37AA9C"
         },
         "mode": "lines",
         "name": "recovered",
         "showlegend": false,
         "type": "scatter",
         "x": [
          0.9852941176470589,
          0.9853235294117647,
          0.9853529411764707,
          0.9853823529411765,
          0.9854117647058824,
          0.9854411764705883,
          0.9854705882352942,
          0.9855,
          0.985529411764706,
          0.9855588235294118,
          0.9855882352941177,
          0.9856176470588236,
          0.9856470588235294,
          0.9856764705882354,
          0.9857058823529412,
          0.9857352941176472,
          0.985764705882353,
          0.9857941176470588,
          0.9858235294117648,
          0.9858529411764706,
          0.9858823529411765,
          0.9859117647058824,
          0.9859411764705883,
          0.9859705882352942,
          0.9860000000000001,
          0.9860294117647059,
          0.9860588235294118,
          0.9860882352941177,
          0.9861176470588235,
          0.9861470588235295,
          0.9861764705882353,
          0.9862058823529413,
          0.9862352941176471,
          0.986264705882353,
          0.9862941176470589,
          0.9863235294117647,
          0.9863529411764707,
          0.9863823529411765,
          0.9864117647058824,
          0.9864411764705883,
          0.9864705882352942,
          0.9865,
          0.9865294117647059,
          0.9865588235294118,
          0.9865882352941177,
          0.9866176470588236,
          0.9866470588235294,
          0.9866764705882354,
          0.9867058823529412,
          0.9867352941176472,
          0.986764705882353,
          0.9867941176470588,
          0.9868235294117648,
          0.9868529411764706,
          0.9868823529411765,
          0.9869117647058824,
          0.9869411764705883,
          0.9869705882352942,
          0.9870000000000001,
          0.9870294117647059,
          0.9870588235294118,
          0.9870882352941177,
          0.9871176470588235,
          0.9871470588235295,
          0.9871764705882353,
          0.9872058823529413,
          0.9872352941176471,
          0.9872647058823529,
          0.9872941176470589,
          0.9873235294117647,
          0.9873529411764707,
          0.9873823529411765,
          0.9874117647058824,
          0.9874411764705883,
          0.9874705882352942,
          0.9875,
          0.9875294117647059,
          0.9875588235294118,
          0.9875882352941177,
          0.9876176470588236,
          0.9876470588235294,
          0.9876764705882354,
          0.9877058823529412,
          0.9877352941176472,
          0.987764705882353,
          0.9877941176470588,
          0.9878235294117648,
          0.9878529411764706,
          0.9878823529411765,
          0.9879117647058824,
          0.9879411764705883,
          0.9879705882352942,
          0.988,
          0.9880294117647059,
          0.9880588235294118,
          0.9880882352941177,
          0.9881176470588235,
          0.9881470588235295,
          0.9881764705882353,
          0.9882058823529413,
          0.9882352941176471,
          0.9882647058823529,
          0.9882941176470589,
          0.9883235294117647,
          0.9883529411764707,
          0.9883823529411765,
          0.9884117647058824,
          0.9884411764705883,
          0.9884705882352942,
          0.9885,
          0.9885294117647059,
          0.9885588235294118,
          0.9885882352941177,
          0.9886176470588236,
          0.9886470588235294,
          0.9886764705882354,
          0.9887058823529412,
          0.988735294117647,
          0.988764705882353,
          0.9887941176470588,
          0.9888235294117648,
          0.9888529411764706,
          0.9888823529411765,
          0.9889117647058824,
          0.9889411764705883,
          0.9889705882352942,
          0.989,
          0.9890294117647059,
          0.9890588235294118,
          0.9890882352941177,
          0.9891176470588235,
          0.9891470588235295,
          0.9891764705882353,
          0.9892058823529413,
          0.9892352941176471,
          0.9892647058823529,
          0.9892941176470589,
          0.9893235294117647,
          0.9893529411764707,
          0.9893823529411765,
          0.9894117647058824,
          0.9894411764705883,
          0.9894705882352941,
          0.9895,
          0.9895294117647059,
          0.9895588235294118,
          0.9895882352941177,
          0.9896176470588236,
          0.9896470588235294,
          0.9896764705882354,
          0.9897058823529412,
          0.989735294117647,
          0.989764705882353,
          0.9897941176470588,
          0.9898235294117648,
          0.9898529411764706,
          0.9898823529411765,
          0.9899117647058824,
          0.9899411764705883,
          0.9899705882352942,
          0.99,
          0.9900294117647059,
          0.9900588235294118,
          0.9900882352941177,
          0.9901176470588235,
          0.9901470588235295,
          0.9901764705882353,
          0.9902058823529412,
          0.9902352941176471,
          0.9902647058823529,
          0.9902941176470589,
          0.9903235294117647,
          0.9903529411764707,
          0.9903823529411765,
          0.9904117647058824,
          0.9904411764705883,
          0.9904705882352941,
          0.9905,
          0.9905294117647059,
          0.9905588235294118,
          0.9905882352941177,
          0.9906176470588236,
          0.9906470588235294,
          0.9906764705882354,
          0.9907058823529412,
          0.990735294117647,
          0.990764705882353,
          0.9907941176470588,
          0.9908235294117648,
          0.9908529411764706,
          0.9908823529411765,
          0.9909117647058824,
          0.9909411764705882,
          0.9909705882352942,
          0.991,
          0.9910294117647059,
          0.9910588235294118,
          0.9910882352941177,
          0.9911176470588235,
          0.9911470588235295,
          0.9911764705882353,
          0.9912058823529412,
          0.9912352941176471,
          0.9912647058823529,
          0.9912941176470589,
          0.9913235294117647,
          0.9913529411764707,
          0.9913823529411765,
          0.9914117647058824,
          0.9914411764705883,
          0.9914705882352941,
          0.9915,
          0.9915294117647059,
          0.9915588235294118,
          0.9915882352941177,
          0.9916176470588236,
          0.9916470588235294,
          0.9916764705882353,
          0.9917058823529412,
          0.991735294117647,
          0.991764705882353,
          0.9917941176470588,
          0.9918235294117648,
          0.9918529411764706,
          0.9918823529411765,
          0.9919117647058824,
          0.9919411764705882,
          0.9919705882352942,
          0.992,
          0.9920294117647059,
          0.9920588235294118,
          0.9920882352941177,
          0.9921176470588235,
          0.9921470588235295,
          0.9921764705882353,
          0.9922058823529412,
          0.9922352941176471,
          0.9922647058823529,
          0.9922941176470589,
          0.9923235294117647,
          0.9923529411764707,
          0.9923823529411765,
          0.9924117647058823,
          0.9924411764705883,
          0.9924705882352941,
          0.9925,
          0.9925294117647059,
          0.9925588235294118,
          0.9925882352941177,
          0.9926176470588236,
          0.9926470588235294,
          0.9926764705882353,
          0.9927058823529412,
          0.992735294117647,
          0.992764705882353,
          0.9927941176470588,
          0.9928235294117648,
          0.9928529411764706,
          0.9928823529411765,
          0.9929117647058824,
          0.9929411764705882,
          0.9929705882352942,
          0.993,
          0.9930294117647059,
          0.9930588235294118,
          0.9930882352941177,
          0.9931176470588235,
          0.9931470588235294,
          0.9931764705882353,
          0.9932058823529412,
          0.9932352941176471,
          0.9932647058823529,
          0.9932941176470589,
          0.9933235294117647,
          0.9933529411764707,
          0.9933823529411765,
          0.9934117647058823,
          0.9934411764705883,
          0.9934705882352941,
          0.9935,
          0.9935294117647059,
          0.9935588235294118,
          0.9935882352941177,
          0.9936176470588236,
          0.9936470588235294,
          0.9936764705882353,
          0.9937058823529412,
          0.993735294117647,
          0.993764705882353,
          0.9937941176470588,
          0.9938235294117648,
          0.9938529411764706,
          0.9938823529411764,
          0.9939117647058824,
          0.9939411764705882,
          0.9939705882352942,
          0.994,
          0.9940294117647059,
          0.9940588235294118,
          0.9940882352941177,
          0.9941176470588236,
          0.9941470588235294,
          0.9941764705882353,
          0.9942058823529412,
          0.9942352941176471,
          0.9942647058823529,
          0.9942941176470589,
          0.9943235294117647,
          0.9943529411764707,
          0.9943823529411765,
          0.9944117647058823,
          0.9944411764705883,
          0.9944705882352941,
          0.9945,
          0.9945294117647059,
          0.9945588235294118,
          0.9945882352941177,
          0.9946176470588235,
          0.9946470588235294,
          0.9946764705882353,
          0.9947058823529412,
          0.994735294117647,
          0.994764705882353,
          0.9947941176470588,
          0.9948235294117648,
          0.9948529411764706,
          0.9948823529411764,
          0.9949117647058824,
          0.9949411764705882,
          0.9949705882352942,
          0.995,
          0.9950294117647059,
          0.9950588235294118,
          0.9950882352941177,
          0.9951176470588236,
          0.9951470588235294,
          0.9951764705882353,
          0.9952058823529412,
          0.9952352941176471,
          0.9952647058823529,
          0.9952941176470589,
          0.9953235294117647,
          0.9953529411764706,
          0.9953823529411765,
          0.9954117647058823,
          0.9954411764705883,
          0.9954705882352941,
          0.9955,
          0.9955294117647059,
          0.9955588235294118,
          0.9955882352941177,
          0.9956176470588235,
          0.9956470588235294,
          0.9956764705882353,
          0.9957058823529412,
          0.995735294117647,
          0.995764705882353,
          0.9957941176470588,
          0.9958235294117648,
          0.9958529411764706,
          0.9958823529411764,
          0.9959117647058824,
          0.9959411764705882,
          0.9959705882352942,
          0.996,
          0.9960294117647059,
          0.9960588235294118,
          0.9960882352941176,
          0.9961176470588236,
          0.9961470588235294,
          0.9961764705882353,
          0.9962058823529412,
          0.9962352941176471,
          0.9962647058823529,
          0.9962941176470589,
          0.9963235294117647,
          0.9963529411764706,
          0.9963823529411765,
          0.9964117647058823,
          0.9964411764705883,
          0.9964705882352941,
          0.9965,
          0.9965294117647059,
          0.9965588235294118,
          0.9965882352941177,
          0.9966176470588235,
          0.9966470588235294,
          0.9966764705882353,
          0.9967058823529412,
          0.996735294117647,
          0.996764705882353,
          0.9967941176470588,
          0.9968235294117647,
          0.9968529411764706,
          0.9968823529411764,
          0.9969117647058824,
          0.9969411764705882,
          0.9969705882352942,
          0.997,
          0.9970294117647059,
          0.9970588235294118,
          0.9970882352941176,
          0.9971176470588236,
          0.9971470588235294,
          0.9971764705882353,
          0.9972058823529412,
          0.9972352941176471,
          0.9972647058823529,
          0.9972941176470589,
          0.9973235294117647,
          0.9973529411764706,
          0.9973823529411765,
          0.9974117647058823,
          0.9974411764705883,
          0.9974705882352941,
          0.9975,
          0.9975294117647059,
          0.9975588235294117,
          0.9975882352941177,
          0.9976176470588235,
          0.9976470588235294,
          0.9976764705882353,
          0.9977058823529412,
          0.997735294117647,
          0.997764705882353,
          0.9977941176470588,
          0.9978235294117647,
          0.9978529411764706,
          0.9978823529411764,
          0.9979117647058824,
          0.9979411764705882,
          0.9979705882352942,
          0.998,
          0.9980294117647059,
          0.9980588235294118,
          0.9980882352941176,
          0.9981176470588236,
          0.9981470588235294,
          0.9981764705882353,
          0.9982058823529412,
          0.9982352941176471,
          0.9982647058823529,
          0.9982941176470588,
          0.9983235294117647,
          0.9983529411764706,
          0.9983823529411765,
          0.9984117647058823,
          0.9984411764705883,
          0.9984705882352941,
          0.9985,
          0.9985294117647059,
          0.9985588235294117,
          0.9985882352941177,
          0.9986176470588235,
          0.9986470588235294,
          0.9986764705882353,
          0.9987058823529412,
          0.998735294117647,
          0.998764705882353,
          0.9987941176470588,
          0.9988235294117647,
          0.9988529411764706,
          0.9988823529411764,
          0.9989117647058824,
          0.9989411764705882,
          0.9989705882352942,
          0.999,
          0.9990294117647058,
          0.9990588235294118,
          0.9990882352941176,
          0.9991176470588236,
          0.9991470588235294,
          0.9991764705882353,
          0.9992058823529412,
          0.9992352941176471,
          0.9992647058823529,
          0.9992941176470588,
          0.9993235294117647,
          0.9993529411764706,
          0.9993823529411765,
          0.9994117647058823,
          0.9994411764705883,
          0.9994705882352941,
          0.9995,
          0.9995294117647059,
          0.9995588235294117,
          0.9995882352941177,
          0.9996176470588235,
          0.9996470588235294,
          0.9996764705882353,
          0.9997058823529412,
          0.999735294117647,
          0.9997647058823529,
          0.9997941176470588,
          0.9998235294117647,
          0.9998529411764706,
          0.9998823529411764,
          0.9999117647058824,
          0.9999411764705882,
          0.9999705882352942
         ],
         "xaxis": "x",
         "y": {
          "bdata": "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",
          "dtype": "f8"
         },
         "yaxis": "y"
        },
        {
         "legendgroup": "erased",
         "marker": {
          "color": "#333F44",
          "symbol": "line-ns-open"
         },
         "mode": "markers",
         "name": "erased",
         "showlegend": false,
         "type": "scatter",
         "x": {
          "bdata": "AAAAAAAAAAAAAAAAAAAAAAAAAAAAAAAAAAAAAAAAAAAAAAAAAAAAAAAAAAAAAAAAAAAAAAAAAAAAAAAAAAAAAAAAAAAAAAAAAAAAAAAAAAAAAAAAAAAAAAAAAAAAAAAAAAAAAAAAAAAAAAAAAAAAAAAAAAAAAAAAAAAAAAAAAAAAAAAAAAAAAAAAAAAAAAAAAAAAAAAAAAAAAAAAAAAAAAAAAAAAAAAAAAAAAAAAAAAAAAAAAAAAAAAAAAAAAAAAAAAAAAAAAAAAAAAAAAAAAAAAAAAAAAAAAAAAAAAAAAAAAAAAAAAAAAAAAAAAAAAAAAAAAAAAAAAAAAAAAAAAAAAAAAAAAAAAAAAAAAAAAAAAAAAAAAAAAAAAAAAAAAAAAAAAAAAAAAAAAAAAAAAAAAAAAAAAAAAAAAAAAAAAAAAAAAAAAAAAAAAAAAAAAAAAAAAAAAAAAAAAAAAAAAAAAAAAAAAAAAAAAAAAAAAAAAAAAAAAAAAAAAAAAAAAAAAAAAAAAAAAAAAAAAAAAAAAAAAAAAAAAAAAAAAAAAAAAAAAAAAAAAAAAAAAAAAAAAAAAAAAAAAAAAAAAAAAAAAAAAAAAAAAAAAAAAAAAAAAAAAAAAAAAAAAAAAAAAAAAAAAAAAAAAAAAAAAAAAAAAAAAAAAAAAAAAAAAAAAAAAAAAAAAAAAAAAAAAAAAAAAAAAAAAAAAAAAAAAAAAAAAAAAAAAAAAAAAAAAAAAAAAAAAAAAAAAAAAAAAAAAAAAAAAAAAAAAAAAAAAAAAAAAAAAAAAAAAAAAAAAAAAAAAAAAAAAAAAAAAAAAAAAAAAAAAAAAAAAAAAAAAAAAAAAAAAAAAAAAAAAAAAAAAAAAAAAAAAAAAAAAAAAAAAAAAAAAAAAAAAAAAAAAAAAAAAAAAAAAAAAAAAAAAAAAAAAAAAAAAAAAAAAAAAAAAAAAAAAAAAAAAAAAAAAAAAAAAAAAAAAAAAAAAAAAAAAAAAAAAAAAAAAAAAAAAAAAAAAAAAAAAAAAAAAAAAAAAAAAAAAAAAAAAAAAAAAAAAAAAAAAAAAAAAAAAAAAAAAAAAAAAAAAAAAAAAAAAAAAAAAAAAAAAAAAAAAAAAAAAAAAAAAAAAAAAAAAAAAAAAAAAAAAAAAAAAAAAAAAAAAAAAAAAAAAAAAAAAAAAAAAAAAAAAAAAAAAAAAAAAAAAAAAAAAAAAAAAAAAAAAAAAAAAAAAAAAAAAAAAAAAAAAAAAAAAAAAAAAAAAAAAAAAAAAAAAAAAAAAAAAAAAAAAAAAAAAAAAAAAAAAAAAAAAAAAAAAAAAAAAAAAAAAAAAAAAAAAAAAAAAAAAAAAAAAAAAAAAAAAAAAAAAAAAAAAAAAAAAAAAAAAAAAAAAAAAAAAAAAAAAAAAAAAAAAAAAAAAAAAAAAAAAAAAAAAAAAAAAAAAAAAAAAAAAAAAAAAAAAAAAAAAAAAAAAAAAAAAAAAAAAAAAAAAAAAAAAAAAAAAAAAAAAAAAAAAAAAAAAAAAAAAAAAAAAAAAAAAAAAAAAAAAAAAAAAAAAAAAAAAAAAAAAAAAAAAAAAAAAAAAAAAAAAAAAAAAAAAAAAAAAAAAAAAAAAAAAAAAAAAAAAAAAAAAAAAAAAAAAAAAAAAAAAAAAAAAAAAAAAAAAAAAAAAAAAAAAAAAAAAAAAAAAAAAAAAAAAAAAAAAAAAAAAAAAAAAAAAAAAAAAAAAAAAAAAAAAAAAAAAAAAAAAAAAAAAAAAAAAAAAAAAAAAAAAAAAAAAAAAAAAAAAAAAAAAAAAAAAAAAAAAAAAAAAAAAAAAAAAAAAAAAAAAAAAAAAAAAAAAAAAAAAAAAAAAAAAAAAAAAAAAAAAAAAAAAAAAAAAAAAAAAAAAAAAAAAAAAAAAAAAAAAAAAAAAAAAAAAAAAAAAAAAAAAAAAAAAAAAAAAAAAAAAAAAAAAAAAAAAAAAAAAAAAAAAAAAAAAAAAAAAAAAAAAAAAAAAAAAAAAAAAAAAAAAAAAAAAAAAAAAAAAAAAAAAAAAAAAAAAAAAAAAAAAAAAAAAAAAAAAAAAAAAAAAAAAAAAAAAAAAAAAAAAAAAAAAAAAAAAAAAAAAAAAAAAAAAAAAAAAAAAAAAAAAAAAAAAAAAAAAAAAAAAAAAAAAAAAAAAAAAAAAAAAAAAAAAAAAAAAAAAAAAAAAAAAAAAAAAAAAAAAAAAAAAAAAAAAAAAAAAAAAAAAAAAAAAAAAAAAAAAAAAAAAAAAAAAAAAAAAAAAAAAAAAAAAAAAAAAAAAAAAAAAAAAAAAAAAAAAAAAAAAAAAAAAAAAAAAAAAAAAAAAAAAAAAAAAAAAAAAAAAAAAAAAAAAAAAAAAAAAAAAAAAAAAAAAAAAAAAAAAAAAAAAAAAAAAAAAAAAAAAAAAAAAAAAAAAAAAAAAAAAAAAAAAAAAAAAAAAAAAAAAAAAAAAAAAAAAAAAAAAAAAAAAAAAAAAAAAAAAAAAAAAAAAAAAAAAAAAAAAAAAAAAAAAAAAAAAAAAAAAAAAAAAAAAAAAAAAAAAAAAAAAAAAAAAAAAAAAAAAAAAAAAAAAAAAAAAAAAAAAAAAAAAAAAAAAAAAAAAAAAAAAAAAAAAAAAAAAAAAAAAAAAAAAAAAAAAAAAAAAAAAAAAAAAAAAAAAAAAAAAAAAAAAAAAAAAAAAAAAAAAAAAAAAAAAAAAAAAAAAAAAAAAAAAAAAAAAAAAAAAAAAAAAAAAAAAAAAAAAAAAAAAAAAAAAAAAAAAAAAAAAAAAAAAAAAAAAAAAAAAAAAAAAAAAAAAAAAAAAAAAAAAAAAAAAAAAAAAAAAAAAAAAAAAAAAAAAAAAAAAAAAAAAAAAAAAAAAAAAAAAAAAAAAAAAAAAAAAAAAAAAAAAAAAAAAAAAAAAAAAAAAAAAAAAAAAAAAAAAAAAAAAAAAAAAAAAAAAAAAAAAAAAAAAAAAAAAAAAAAAAAAAAAAAAAAAAAAAAAAAAAAAAAAAAAAAAAAAAAAAAAAAAAAAAAAAAAAAAAAAAAAAAAAAAAAAAAAAAAAAAAAAAAAAAAAAAAAAAAAAAAAAAAAAAAAAAAAAAAAAAAAAAAAAAAAAAAAAAAAAAAAAAAAAAAAAAAAAAAAAAAAAAAAAAAAAAAAAAAAAAAAAAAAAAAAAAAAAAAAAAAAAAAAAAAAAAAAAAAAAAAAAAAAAAAAAAAAAAAAAAAAAAAAAAAAAAAAAAAAAAAAAAAAAAAAAAAAAAAAAAAAAAAAAAAAAAAAAAAAAAAAAAAAAAAAAAAAAAAAAAAAAAAAAAAAAAAAAAAAAAAAAAAAAAAAAAAAAAAAAAAAAAAAAAAAAAAAAAAAAAAAAAAAAAAAAAAAAAAAAAAAAAAAAAAAAAAAAAAAAAAAAAAAAAAAAAAAAAAAAAAAAAAAAAAAAAAAAAAAAAAAAAAAAAAAAAAAAAAAAAAAAAAAAAAAAAAAAAAAAAAAAAAAAAAAAAAAAAAAAAAAAAAAAAAAAAAAAAAAAAAAAAAAAAAAAAAAAAAAAAAAAAAAAAAAAAAAAAAAAAAAAAAAAAAAAAAAAAAAAAAAAAAAAAAAAAAAAAAAAAAAAAAAAAAAAAAAAAAAAAAAAAAAAAAAAAAAAAAAAAAAAAAAAAAAAAAAAAAAAAAAAAAAAAAAAAAAAAAAAAAAAAAAAAAAAAAAAAAAAAAAAAAAAAAAAAAAAAAAAAAAAAAAAAAAAAAAAAAAAAAAAAAAAAAAAAAAAAAAAAAAAAAAAAAAAAAAAAAAAAAAAAAAAAAAAAAAAAAAAAAAAAAAAAAAAAAAAAAAAAAAAAAAAAAAAAAAAAAAAAAAAAAAAAAAAAAAAAAAAAAAAAAAAAAAAAAAAAAAAAAAAAAAAAAAAAAAAAAAAAAAAAAAAAAAAAAAAAAAAAAAAAAAAAAAAAAAAAAAAAAAAAAAAAAAAAAAAAAAAAAAAAAAAAAAAAAAAAAAAAAAAAAAAAAAAAAAAAAAAAAAAAAAAAAAAAAAAAAAAAAAAAAAAAAAAAAAAAAAAAAAAAAAAAAAAAAAAAAAAAAAAAAAAAAAAAAAAAAAAAAAAAAAAAAAAAAAAAAAAAAAAAAAAAAAAAAAAAAAAAA=",
          "dtype": "f8"
         },
         "xaxis": "x",
         "y": [
          "erased",
          "erased",
          "erased",
          "erased",
          "erased",
          "erased",
          "erased",
          "erased",
          "erased",
          "erased",
          "erased",
          "erased",
          "erased",
          "erased",
          "erased",
          "erased",
          "erased",
          "erased",
          "erased",
          "erased",
          "erased",
          "erased",
          "erased",
          "erased",
          "erased",
          "erased",
          "erased",
          "erased",
          "erased",
          "erased",
          "erased",
          "erased",
          "erased",
          "erased",
          "erased",
          "erased",
          "erased",
          "erased",
          "erased",
          "erased",
          "erased",
          "erased",
          "erased",
          "erased",
          "erased",
          "erased",
          "erased",
          "erased",
          "erased",
          "erased",
          "erased",
          "erased",
          "erased",
          "erased",
          "erased",
          "erased",
          "erased",
          "erased",
          "erased",
          "erased",
          "erased",
          "erased",
          "erased",
          "erased",
          "erased",
          "erased",
          "erased",
          "erased",
          "erased",
          "erased",
          "erased",
          "erased",
          "erased",
          "erased",
          "erased",
          "erased",
          "erased",
          "erased",
          "erased",
          "erased",
          "erased",
          "erased",
          "erased",
          "erased",
          "erased",
          "erased",
          "erased",
          "erased",
          "erased",
          "erased",
          "erased",
          "erased",
          "erased",
          "erased",
          "erased",
          "erased",
          "erased",
          "erased",
          "erased",
          "erased",
          "erased",
          "erased",
          "erased",
          "erased",
          "erased",
          "erased",
          "erased",
          "erased",
          "erased",
          "erased",
          "erased",
          "erased",
          "erased",
          "erased",
          "erased",
          "erased",
          "erased",
          "erased",
          "erased",
          "erased",
          "erased",
          "erased",
          "erased",
          "erased",
          "erased",
          "erased",
          "erased",
          "erased",
          "erased",
          "erased",
          "erased",
          "erased",
          "erased",
          "erased",
          "erased",
          "erased",
          "erased",
          "erased",
          "erased",
          "erased",
          "erased",
          "erased",
          "erased",
          "erased",
          "erased",
          "erased",
          "erased",
          "erased",
          "erased",
          "erased",
          "erased",
          "erased",
          "erased",
          "erased",
          "erased",
          "erased",
          "erased",
          "erased",
          "erased",
          "erased",
          "erased",
          "erased",
          "erased",
          "erased",
          "erased",
          "erased",
          "erased",
          "erased",
          "erased",
          "erased",
          "erased",
          "erased",
          "erased",
          "erased",
          "erased",
          "erased",
          "erased",
          "erased",
          "erased",
          "erased",
          "erased",
          "erased",
          "erased",
          "erased",
          "erased",
          "erased",
          "erased",
          "erased",
          "erased",
          "erased",
          "erased",
          "erased",
          "erased",
          "erased",
          "erased",
          "erased",
          "erased",
          "erased",
          "erased",
          "erased",
          "erased",
          "erased",
          "erased",
          "erased",
          "erased",
          "erased",
          "erased",
          "erased",
          "erased",
          "erased",
          "erased",
          "erased",
          "erased",
          "erased",
          "erased",
          "erased",
          "erased",
          "erased",
          "erased",
          "erased",
          "erased",
          "erased",
          "erased",
          "erased",
          "erased",
          "erased",
          "erased",
          "erased",
          "erased",
          "erased",
          "erased",
          "erased",
          "erased",
          "erased",
          "erased",
          "erased",
          "erased",
          "erased",
          "erased",
          "erased",
          "erased",
          "erased",
          "erased",
          "erased",
          "erased",
          "erased",
          "erased",
          "erased",
          "erased",
          "erased",
          "erased",
          "erased",
          "erased",
          "erased",
          "erased",
          "erased",
          "erased",
          "erased",
          "erased",
          "erased",
          "erased",
          "erased",
          "erased",
          "erased",
          "erased",
          "erased",
          "erased",
          "erased",
          "erased",
          "erased",
          "erased",
          "erased",
          "erased",
          "erased",
          "erased",
          "erased",
          "erased",
          "erased",
          "erased",
          "erased",
          "erased",
          "erased",
          "erased",
          "erased",
          "erased",
          "erased",
          "erased",
          "erased",
          "erased",
          "erased",
          "erased",
          "erased",
          "erased",
          "erased",
          "erased",
          "erased",
          "erased",
          "erased",
          "erased",
          "erased",
          "erased",
          "erased",
          "erased",
          "erased",
          "erased",
          "erased",
          "erased",
          "erased",
          "erased",
          "erased",
          "erased",
          "erased",
          "erased",
          "erased",
          "erased",
          "erased",
          "erased",
          "erased",
          "erased",
          "erased",
          "erased",
          "erased",
          "erased",
          "erased",
          "erased",
          "erased",
          "erased",
          "erased",
          "erased",
          "erased",
          "erased",
          "erased",
          "erased",
          "erased",
          "erased",
          "erased",
          "erased",
          "erased",
          "erased",
          "erased",
          "erased",
          "erased",
          "erased",
          "erased",
          "erased",
          "erased",
          "erased",
          "erased",
          "erased",
          "erased",
          "erased",
          "erased",
          "erased",
          "erased",
          "erased",
          "erased",
          "erased",
          "erased",
          "erased",
          "erased",
          "erased",
          "erased",
          "erased",
          "erased",
          "erased",
          "erased",
          "erased",
          "erased",
          "erased",
          "erased",
          "erased",
          "erased",
          "erased",
          "erased",
          "erased",
          "erased",
          "erased",
          "erased",
          "erased",
          "erased",
          "erased",
          "erased",
          "erased",
          "erased",
          "erased"
         ],
         "yaxis": "y2"
        },
        {
         "legendgroup": "recovered",
         "marker": {
          "color": "#37AA9C",
          "symbol": "line-ns-open"
         },
         "mode": "markers",
         "name": "recovered",
         "showlegend": false,
         "type": "scatter",
         "x": {
          "bdata": "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",
          "dtype": "f8"
         },
         "xaxis": "x",
         "y": [
          "recovered",
          "recovered",
          "recovered",
          "recovered",
          "recovered",
          "recovered",
          "recovered",
          "recovered",
          "recovered",
          "recovered",
          "recovered",
          "recovered",
          "recovered",
          "recovered",
          "recovered",
          "recovered",
          "recovered",
          "recovered",
          "recovered",
          "recovered",
          "recovered",
          "recovered",
          "recovered",
          "recovered",
          "recovered",
          "recovered",
          "recovered",
          "recovered",
          "recovered",
          "recovered",
          "recovered",
          "recovered",
          "recovered",
          "recovered",
          "recovered",
          "recovered",
          "recovered",
          "recovered",
          "recovered",
          "recovered",
          "recovered",
          "recovered",
          "recovered",
          "recovered",
          "recovered",
          "recovered",
          "recovered",
          "recovered",
          "recovered",
          "recovered",
          "recovered",
          "recovered",
          "recovered",
          "recovered",
          "recovered",
          "recovered",
          "recovered",
          "recovered",
          "recovered",
          "recovered",
          "recovered",
          "recovered",
          "recovered",
          "recovered",
          "recovered",
          "recovered",
          "recovered",
          "recovered",
          "recovered",
          "recovered",
          "recovered",
          "recovered",
          "recovered",
          "recovered",
          "recovered",
          "recovered",
          "recovered",
          "recovered",
          "recovered",
          "recovered",
          "recovered",
          "recovered",
          "recovered",
          "recovered",
          "recovered",
          "recovered",
          "recovered",
          "recovered",
          "recovered",
          "recovered",
          "recovered",
          "recovered",
          "recovered",
          "recovered",
          "recovered",
          "recovered",
          "recovered",
          "recovered",
          "recovered",
          "recovered",
          "recovered",
          "recovered",
          "recovered",
          "recovered",
          "recovered",
          "recovered",
          "recovered",
          "recovered",
          "recovered",
          "recovered",
          "recovered",
          "recovered",
          "recovered",
          "recovered",
          "recovered",
          "recovered",
          "recovered",
          "recovered",
          "recovered",
          "recovered",
          "recovered",
          "recovered",
          "recovered",
          "recovered",
          "recovered",
          "recovered",
          "recovered",
          "recovered",
          "recovered",
          "recovered",
          "recovered",
          "recovered",
          "recovered",
          "recovered",
          "recovered",
          "recovered",
          "recovered",
          "recovered",
          "recovered",
          "recovered",
          "recovered",
          "recovered",
          "recovered",
          "recovered",
          "recovered",
          "recovered",
          "recovered",
          "recovered",
          "recovered",
          "recovered",
          "recovered",
          "recovered",
          "recovered",
          "recovered",
          "recovered",
          "recovered",
          "recovered",
          "recovered",
          "recovered",
          "recovered",
          "recovered",
          "recovered",
          "recovered",
          "recovered",
          "recovered",
          "recovered",
          "recovered",
          "recovered",
          "recovered",
          "recovered",
          "recovered",
          "recovered",
          "recovered",
          "recovered",
          "recovered",
          "recovered",
          "recovered",
          "recovered",
          "recovered",
          "recovered",
          "recovered",
          "recovered",
          "recovered",
          "recovered",
          "recovered",
          "recovered",
          "recovered",
          "recovered",
          "recovered",
          "recovered",
          "recovered",
          "recovered",
          "recovered",
          "recovered",
          "recovered",
          "recovered",
          "recovered",
          "recovered",
          "recovered",
          "recovered",
          "recovered",
          "recovered",
          "recovered",
          "recovered",
          "recovered",
          "recovered",
          "recovered",
          "recovered",
          "recovered",
          "recovered",
          "recovered",
          "recovered",
          "recovered",
          "recovered",
          "recovered",
          "recovered",
          "recovered",
          "recovered",
          "recovered",
          "recovered",
          "recovered",
          "recovered",
          "recovered",
          "recovered",
          "recovered",
          "recovered",
          "recovered",
          "recovered",
          "recovered",
          "recovered",
          "recovered",
          "recovered",
          "recovered",
          "recovered",
          "recovered",
          "recovered",
          "recovered",
          "recovered",
          "recovered",
          "recovered",
          "recovered",
          "recovered",
          "recovered",
          "recovered",
          "recovered",
          "recovered",
          "recovered",
          "recovered",
          "recovered",
          "recovered",
          "recovered",
          "recovered",
          "recovered",
          "recovered",
          "recovered",
          "recovered",
          "recovered",
          "recovered",
          "recovered",
          "recovered",
          "recovered",
          "recovered",
          "recovered",
          "recovered",
          "recovered",
          "recovered",
          "recovered",
          "recovered",
          "recovered",
          "recovered",
          "recovered",
          "recovered",
          "recovered",
          "recovered",
          "recovered",
          "recovered",
          "recovered",
          "recovered",
          "recovered",
          "recovered",
          "recovered",
          "recovered",
          "recovered",
          "recovered",
          "recovered",
          "recovered",
          "recovered",
          "recovered",
          "recovered",
          "recovered",
          "recovered",
          "recovered",
          "recovered",
          "recovered",
          "recovered",
          "recovered",
          "recovered",
          "recovered",
          "recovered",
          "recovered",
          "recovered",
          "recovered",
          "recovered",
          "recovered",
          "recovered",
          "recovered",
          "recovered",
          "recovered",
          "recovered",
          "recovered",
          "recovered",
          "recovered",
          "recovered",
          "recovered",
          "recovered",
          "recovered",
          "recovered",
          "recovered",
          "recovered",
          "recovered",
          "recovered",
          "recovered",
          "recovered",
          "recovered",
          "recovered",
          "recovered",
          "recovered",
          "recovered",
          "recovered",
          "recovered",
          "recovered",
          "recovered",
          "recovered",
          "recovered",
          "recovered",
          "recovered",
          "recovered",
          "recovered",
          "recovered",
          "recovered",
          "recovered",
          "recovered",
          "recovered",
          "recovered",
          "recovered",
          "recovered",
          "recovered",
          "recovered",
          "recovered",
          "recovered",
          "recovered",
          "recovered",
          "recovered",
          "recovered",
          "recovered",
          "recovered",
          "recovered",
          "recovered",
          "recovered",
          "recovered",
          "recovered",
          "recovered",
          "recovered",
          "recovered",
          "recovered",
          "recovered",
          "recovered",
          "recovered",
          "recovered",
          "recovered",
          "recovered",
          "recovered",
          "recovered",
          "recovered",
          "recovered",
          "recovered",
          "recovered",
          "recovered",
          "recovered",
          "recovered",
          "recovered",
          "recovered",
          "recovered",
          "recovered",
          "recovered",
          "recovered",
          "recovered",
          "recovered",
          "recovered",
          "recovered",
          "recovered",
          "recovered",
          "recovered",
          "recovered",
          "recovered",
          "recovered",
          "recovered",
          "recovered",
          "recovered",
          "recovered",
          "recovered",
          "recovered",
          "recovered",
          "recovered",
          "recovered",
          "recovered",
          "recovered",
          "recovered",
          "recovered",
          "recovered",
          "recovered",
          "recovered",
          "recovered",
          "recovered",
          "recovered",
          "recovered",
          "recovered",
          "recovered",
          "recovered",
          "recovered",
          "recovered",
          "recovered",
          "recovered",
          "recovered",
          "recovered",
          "recovered",
          "recovered",
          "recovered",
          "recovered",
          "recovered",
          "recovered",
          "recovered",
          "recovered",
          "recovered",
          "recovered",
          "recovered",
          "recovered",
          "recovered",
          "recovered",
          "recovered",
          "recovered",
          "recovered",
          "recovered",
          "recovered",
          "recovered",
          "recovered",
          "recovered",
          "recovered",
          "recovered",
          "recovered",
          "recovered",
          "recovered",
          "recovered",
          "recovered",
          "recovered",
          "recovered",
          "recovered",
          "recovered",
          "recovered",
          "recovered",
          "recovered",
          "recovered",
          "recovered",
          "recovered",
          "recovered",
          "recovered",
          "recovered",
          "recovered",
          "recovered",
          "recovered",
          "recovered",
          "recovered",
          "recovered",
          "recovered",
          "recovered",
          "recovered",
          "recovered",
          "recovered",
          "recovered",
          "recovered",
          "recovered",
          "recovered",
          "recovered",
          "recovered",
          "recovered",
          "recovered",
          "recovered",
          "recovered",
          "recovered",
          "recovered",
          "recovered",
          "recovered",
          "recovered",
          "recovered",
          "recovered",
          "recovered",
          "recovered",
          "recovered",
          "recovered",
          "recovered",
          "recovered",
          "recovered",
          "recovered",
          "recovered",
          "recovered",
          "recovered",
          "recovered",
          "recovered",
          "recovered",
          "recovered",
          "recovered",
          "recovered",
          "recovered",
          "recovered",
          "recovered",
          "recovered",
          "recovered",
          "recovered",
          "recovered",
          "recovered",
          "recovered",
          "recovered",
          "recovered",
          "recovered"
         ],
         "yaxis": "y2"
        }
       ],
       "layout": {
        "barmode": "overlay",
        "hovermode": "closest",
        "legend": {
         "traceorder": "reversed"
        },
        "template": {
         "data": {
          "bar": [
           {
            "error_x": {
             "color": "#2a3f5f"
            },
            "error_y": {
             "color": "#2a3f5f"
            },
            "marker": {
             "line": {
              "color": "#E5ECF6",
              "width": 0.5
             },
             "pattern": {
              "fillmode": "overlay",
              "size": 10,
              "solidity": 0.2
             }
            },
            "type": "bar"
           }
          ],
          "barpolar": [
           {
            "marker": {
             "line": {
              "color": "#E5ECF6",
              "width": 0.5
             },
             "pattern": {
              "fillmode": "overlay",
              "size": 10,
              "solidity": 0.2
             }
            },
            "type": "barpolar"
           }
          ],
          "carpet": [
           {
            "aaxis": {
             "endlinecolor": "#2a3f5f",
             "gridcolor": "white",
             "linecolor": "white",
             "minorgridcolor": "white",
             "startlinecolor": "#2a3f5f"
            },
            "baxis": {
             "endlinecolor": "#2a3f5f",
             "gridcolor": "white",
             "linecolor": "white",
             "minorgridcolor": "white",
             "startlinecolor": "#2a3f5f"
            },
            "type": "carpet"
           }
          ],
          "choropleth": [
           {
            "colorbar": {
             "outlinewidth": 0,
             "ticks": ""
            },
            "type": "choropleth"
           }
          ],
          "contour": [
           {
            "colorbar": {
             "outlinewidth": 0,
             "ticks": ""
            },
            "colorscale": [
             [
              0,
              "#0d0887"
             ],
             [
              0.1111111111111111,
              "#46039f"
             ],
             [
              0.2222222222222222,
              "#7201a8"
             ],
             [
              0.3333333333333333,
              "#9c179e"
             ],
             [
              0.4444444444444444,
              "#bd3786"
             ],
             [
              0.5555555555555556,
              "#d8576b"
             ],
             [
              0.6666666666666666,
              "#ed7953"
             ],
             [
              0.7777777777777778,
              "#fb9f3a"
             ],
             [
              0.8888888888888888,
              "#fdca26"
             ],
             [
              1,
              "#f0f921"
             ]
            ],
            "type": "contour"
           }
          ],
          "contourcarpet": [
           {
            "colorbar": {
             "outlinewidth": 0,
             "ticks": ""
            },
            "type": "contourcarpet"
           }
          ],
          "heatmap": [
           {
            "colorbar": {
             "outlinewidth": 0,
             "ticks": ""
            },
            "colorscale": [
             [
              0,
              "#0d0887"
             ],
             [
              0.1111111111111111,
              "#46039f"
             ],
             [
              0.2222222222222222,
              "#7201a8"
             ],
             [
              0.3333333333333333,
              "#9c179e"
             ],
             [
              0.4444444444444444,
              "#bd3786"
             ],
             [
              0.5555555555555556,
              "#d8576b"
             ],
             [
              0.6666666666666666,
              "#ed7953"
             ],
             [
              0.7777777777777778,
              "#fb9f3a"
             ],
             [
              0.8888888888888888,
              "#fdca26"
             ],
             [
              1,
              "#f0f921"
             ]
            ],
            "type": "heatmap"
           }
          ],
          "histogram": [
           {
            "marker": {
             "pattern": {
              "fillmode": "overlay",
              "size": 10,
              "solidity": 0.2
             }
            },
            "type": "histogram"
           }
          ],
          "histogram2d": [
           {
            "colorbar": {
             "outlinewidth": 0,
             "ticks": ""
            },
            "colorscale": [
             [
              0,
              "#0d0887"
             ],
             [
              0.1111111111111111,
              "#46039f"
             ],
             [
              0.2222222222222222,
              "#7201a8"
             ],
             [
              0.3333333333333333,
              "#9c179e"
             ],
             [
              0.4444444444444444,
              "#bd3786"
             ],
             [
              0.5555555555555556,
              "#d8576b"
             ],
             [
              0.6666666666666666,
              "#ed7953"
             ],
             [
              0.7777777777777778,
              "#fb9f3a"
             ],
             [
              0.8888888888888888,
              "#fdca26"
             ],
             [
              1,
              "#f0f921"
             ]
            ],
            "type": "histogram2d"
           }
          ],
          "histogram2dcontour": [
           {
            "colorbar": {
             "outlinewidth": 0,
             "ticks": ""
            },
            "colorscale": [
             [
              0,
              "#0d0887"
             ],
             [
              0.1111111111111111,
              "#46039f"
             ],
             [
              0.2222222222222222,
              "#7201a8"
             ],
             [
              0.3333333333333333,
              "#9c179e"
             ],
             [
              0.4444444444444444,
              "#bd3786"
             ],
             [
              0.5555555555555556,
              "#d8576b"
             ],
             [
              0.6666666666666666,
              "#ed7953"
             ],
             [
              0.7777777777777778,
              "#fb9f3a"
             ],
             [
              0.8888888888888888,
              "#fdca26"
             ],
             [
              1,
              "#f0f921"
             ]
            ],
            "type": "histogram2dcontour"
           }
          ],
          "mesh3d": [
           {
            "colorbar": {
             "outlinewidth": 0,
             "ticks": ""
            },
            "type": "mesh3d"
           }
          ],
          "parcoords": [
           {
            "line": {
             "colorbar": {
              "outlinewidth": 0,
              "ticks": ""
             }
            },
            "type": "parcoords"
           }
          ],
          "pie": [
           {
            "automargin": true,
            "type": "pie"
           }
          ],
          "scatter": [
           {
            "fillpattern": {
             "fillmode": "overlay",
             "size": 10,
             "solidity": 0.2
            },
            "type": "scatter"
           }
          ],
          "scatter3d": [
           {
            "line": {
             "colorbar": {
              "outlinewidth": 0,
              "ticks": ""
             }
            },
            "marker": {
             "colorbar": {
              "outlinewidth": 0,
              "ticks": ""
             }
            },
            "type": "scatter3d"
           }
          ],
          "scattercarpet": [
           {
            "marker": {
             "colorbar": {
              "outlinewidth": 0,
              "ticks": ""
             }
            },
            "type": "scattercarpet"
           }
          ],
          "scattergeo": [
           {
            "marker": {
             "colorbar": {
              "outlinewidth": 0,
              "ticks": ""
             }
            },
            "type": "scattergeo"
           }
          ],
          "scattergl": [
           {
            "marker": {
             "colorbar": {
              "outlinewidth": 0,
              "ticks": ""
             }
            },
            "type": "scattergl"
           }
          ],
          "scattermap": [
           {
            "marker": {
             "colorbar": {
              "outlinewidth": 0,
              "ticks": ""
             }
            },
            "type": "scattermap"
           }
          ],
          "scattermapbox": [
           {
            "marker": {
             "colorbar": {
              "outlinewidth": 0,
              "ticks": ""
             }
            },
            "type": "scattermapbox"
           }
          ],
          "scatterpolar": [
           {
            "marker": {
             "colorbar": {
              "outlinewidth": 0,
              "ticks": ""
             }
            },
            "type": "scatterpolar"
           }
          ],
          "scatterpolargl": [
           {
            "marker": {
             "colorbar": {
              "outlinewidth": 0,
              "ticks": ""
             }
            },
            "type": "scatterpolargl"
           }
          ],
          "scatterternary": [
           {
            "marker": {
             "colorbar": {
              "outlinewidth": 0,
              "ticks": ""
             }
            },
            "type": "scatterternary"
           }
          ],
          "surface": [
           {
            "colorbar": {
             "outlinewidth": 0,
             "ticks": ""
            },
            "colorscale": [
             [
              0,
              "#0d0887"
             ],
             [
              0.1111111111111111,
              "#46039f"
             ],
             [
              0.2222222222222222,
              "#7201a8"
             ],
             [
              0.3333333333333333,
              "#9c179e"
             ],
             [
              0.4444444444444444,
              "#bd3786"
             ],
             [
              0.5555555555555556,
              "#d8576b"
             ],
             [
              0.6666666666666666,
              "#ed7953"
             ],
             [
              0.7777777777777778,
              "#fb9f3a"
             ],
             [
              0.8888888888888888,
              "#fdca26"
             ],
             [
              1,
              "#f0f921"
             ]
            ],
            "type": "surface"
           }
          ],
          "table": [
           {
            "cells": {
             "fill": {
              "color": "#EBF0F8"
             },
             "line": {
              "color": "white"
             }
            },
            "header": {
             "fill": {
              "color": "#C8D4E3"
             },
             "line": {
              "color": "white"
             }
            },
            "type": "table"
           }
          ]
         },
         "layout": {
          "annotationdefaults": {
           "arrowcolor": "#2a3f5f",
           "arrowhead": 0,
           "arrowwidth": 1
          },
          "autotypenumbers": "strict",
          "coloraxis": {
           "colorbar": {
            "outlinewidth": 0,
            "ticks": ""
           }
          },
          "colorscale": {
           "diverging": [
            [
             0,
             "#8e0152"
            ],
            [
             0.1,
             "#c51b7d"
            ],
            [
             0.2,
             "#de77ae"
            ],
            [
             0.3,
             "#f1b6da"
            ],
            [
             0.4,
             "#fde0ef"
            ],
            [
             0.5,
             "#f7f7f7"
            ],
            [
             0.6,
             "#e6f5d0"
            ],
            [
             0.7,
             "#b8e186"
            ],
            [
             0.8,
             "#7fbc41"
            ],
            [
             0.9,
             "#4d9221"
            ],
            [
             1,
             "#276419"
            ]
           ],
           "sequential": [
            [
             0,
             "#0d0887"
            ],
            [
             0.1111111111111111,
             "#46039f"
            ],
            [
             0.2222222222222222,
             "#7201a8"
            ],
            [
             0.3333333333333333,
             "#9c179e"
            ],
            [
             0.4444444444444444,
             "#bd3786"
            ],
            [
             0.5555555555555556,
             "#d8576b"
            ],
            [
             0.6666666666666666,
             "#ed7953"
            ],
            [
             0.7777777777777778,
             "#fb9f3a"
            ],
            [
             0.8888888888888888,
             "#fdca26"
            ],
            [
             1,
             "#f0f921"
            ]
           ],
           "sequentialminus": [
            [
             0,
             "#0d0887"
            ],
            [
             0.1111111111111111,
             "#46039f"
            ],
            [
             0.2222222222222222,
             "#7201a8"
            ],
            [
             0.3333333333333333,
             "#9c179e"
            ],
            [
             0.4444444444444444,
             "#bd3786"
            ],
            [
             0.5555555555555556,
             "#d8576b"
            ],
            [
             0.6666666666666666,
             "#ed7953"
            ],
            [
             0.7777777777777778,
             "#fb9f3a"
            ],
            [
             0.8888888888888888,
             "#fdca26"
            ],
            [
             1,
             "#f0f921"
            ]
           ]
          },
          "colorway": [
           "#636efa",
           "#EF553B",
           "#00cc96",
           "#ab63fa",
           "#FFA15A",
           "#19d3f3",
           "#FF6692",
           "#B6E880",
           "#FF97FF",
           "#FECB52"
          ],
          "font": {
           "color": "#2a3f5f"
          },
          "geo": {
           "bgcolor": "white",
           "lakecolor": "white",
           "landcolor": "#E5ECF6",
           "showlakes": true,
           "showland": true,
           "subunitcolor": "white"
          },
          "hoverlabel": {
           "align": "left"
          },
          "hovermode": "closest",
          "mapbox": {
           "style": "light"
          },
          "paper_bgcolor": "white",
          "plot_bgcolor": "#E5ECF6",
          "polar": {
           "angularaxis": {
            "gridcolor": "white",
            "linecolor": "white",
            "ticks": ""
           },
           "bgcolor": "#E5ECF6",
           "radialaxis": {
            "gridcolor": "white",
            "linecolor": "white",
            "ticks": ""
           }
          },
          "scene": {
           "xaxis": {
            "backgroundcolor": "#E5ECF6",
            "gridcolor": "white",
            "gridwidth": 2,
            "linecolor": "white",
            "showbackground": true,
            "ticks": "",
            "zerolinecolor": "white"
           },
           "yaxis": {
            "backgroundcolor": "#E5ECF6",
            "gridcolor": "white",
            "gridwidth": 2,
            "linecolor": "white",
            "showbackground": true,
            "ticks": "",
            "zerolinecolor": "white"
           },
           "zaxis": {
            "backgroundcolor": "#E5ECF6",
            "gridcolor": "white",
            "gridwidth": 2,
            "linecolor": "white",
            "showbackground": true,
            "ticks": "",
            "zerolinecolor": "white"
           }
          },
          "shapedefaults": {
           "line": {
            "color": "#2a3f5f"
           }
          },
          "ternary": {
           "aaxis": {
            "gridcolor": "white",
            "linecolor": "white",
            "ticks": ""
           },
           "baxis": {
            "gridcolor": "white",
            "linecolor": "white",
            "ticks": ""
           },
           "bgcolor": "#E5ECF6",
           "caxis": {
            "gridcolor": "white",
            "linecolor": "white",
            "ticks": ""
           }
          },
          "title": {
           "x": 0.05
          },
          "xaxis": {
           "automargin": true,
           "gridcolor": "white",
           "linecolor": "white",
           "ticks": "",
           "title": {
            "standoff": 15
           },
           "zerolinecolor": "white",
           "zerolinewidth": 2
          },
          "yaxis": {
           "automargin": true,
           "gridcolor": "white",
           "linecolor": "white",
           "ticks": "",
           "title": {
            "standoff": 15
           },
           "zerolinecolor": "white",
           "zerolinewidth": 2
          }
         }
        },
        "xaxis": {
         "anchor": "y2",
         "domain": [
          0,
          1
         ],
         "zeroline": false
        },
        "yaxis": {
         "anchor": "free",
         "domain": [
          0.35,
          1
         ],
         "position": 0
        },
        "yaxis2": {
         "anchor": "x",
         "domain": [
          0,
          0.25
         ],
         "dtick": 1,
         "showticklabels": false
        }
       }
      }
     },
     "metadata": {},
     "output_type": "display_data"
    }
   ],
   "source": [
    "fig = ff.create_distplot(d32, ['erased','recovered'], colors=['#333F44', '#37AA9C'], bin_size=0.05, show_rug=True, curve_type=\"normal\")\n",
    "fig.show()"
   ]
  },
  {
   "cell_type": "code",
   "execution_count": 58,
   "metadata": {},
   "outputs": [
    {
     "ename": "LinAlgError",
     "evalue": "The data appears to lie in a lower-dimensional subspace of the space in which it is expressed. This has resulted in a singular data covariance matrix, which cannot be treated using the algorithms implemented in `gaussian_kde`. Consider performing principle component analysis / dimensionality reduction and using `gaussian_kde` with the transformed data.",
     "output_type": "error",
     "traceback": [
      "\u001b[0;31m---------------------------------------------------------------------------\u001b[0m",
      "\u001b[0;31mLinAlgError\u001b[0m                               Traceback (most recent call last)",
      "File \u001b[0;32m~/miniconda3/envs/NOREC/lib/python3.10/site-packages/scipy/stats/_kde.py:223\u001b[0m, in \u001b[0;36mgaussian_kde.__init__\u001b[0;34m(self, dataset, bw_method, weights)\u001b[0m\n\u001b[1;32m    222\u001b[0m \u001b[38;5;28;01mtry\u001b[39;00m:\n\u001b[0;32m--> 223\u001b[0m     \u001b[38;5;28;43mself\u001b[39;49m\u001b[38;5;241;43m.\u001b[39;49m\u001b[43mset_bandwidth\u001b[49m\u001b[43m(\u001b[49m\u001b[43mbw_method\u001b[49m\u001b[38;5;241;43m=\u001b[39;49m\u001b[43mbw_method\u001b[49m\u001b[43m)\u001b[49m\n\u001b[1;32m    224\u001b[0m \u001b[38;5;28;01mexcept\u001b[39;00m linalg\u001b[38;5;241m.\u001b[39mLinAlgError \u001b[38;5;28;01mas\u001b[39;00m e:\n",
      "File \u001b[0;32m~/miniconda3/envs/NOREC/lib/python3.10/site-packages/scipy/stats/_kde.py:571\u001b[0m, in \u001b[0;36mgaussian_kde.set_bandwidth\u001b[0;34m(self, bw_method)\u001b[0m\n\u001b[1;32m    569\u001b[0m     \u001b[38;5;28;01mraise\u001b[39;00m \u001b[38;5;167;01mValueError\u001b[39;00m(msg)\n\u001b[0;32m--> 571\u001b[0m \u001b[38;5;28;43mself\u001b[39;49m\u001b[38;5;241;43m.\u001b[39;49m\u001b[43m_compute_covariance\u001b[49m\u001b[43m(\u001b[49m\u001b[43m)\u001b[49m\n",
      "File \u001b[0;32m~/miniconda3/envs/NOREC/lib/python3.10/site-packages/scipy/stats/_kde.py:583\u001b[0m, in \u001b[0;36mgaussian_kde._compute_covariance\u001b[0;34m(self)\u001b[0m\n\u001b[1;32m    580\u001b[0m     \u001b[38;5;28mself\u001b[39m\u001b[38;5;241m.\u001b[39m_data_covariance \u001b[38;5;241m=\u001b[39m atleast_2d(cov(\u001b[38;5;28mself\u001b[39m\u001b[38;5;241m.\u001b[39mdataset, rowvar\u001b[38;5;241m=\u001b[39m\u001b[38;5;241m1\u001b[39m,\n\u001b[1;32m    581\u001b[0m                                        bias\u001b[38;5;241m=\u001b[39m\u001b[38;5;28;01mFalse\u001b[39;00m,\n\u001b[1;32m    582\u001b[0m                                        aweights\u001b[38;5;241m=\u001b[39m\u001b[38;5;28mself\u001b[39m\u001b[38;5;241m.\u001b[39mweights))\n\u001b[0;32m--> 583\u001b[0m     \u001b[38;5;28mself\u001b[39m\u001b[38;5;241m.\u001b[39m_data_cho_cov \u001b[38;5;241m=\u001b[39m \u001b[43mlinalg\u001b[49m\u001b[38;5;241;43m.\u001b[39;49m\u001b[43mcholesky\u001b[49m\u001b[43m(\u001b[49m\u001b[38;5;28;43mself\u001b[39;49m\u001b[38;5;241;43m.\u001b[39;49m\u001b[43m_data_covariance\u001b[49m\u001b[43m,\u001b[49m\n\u001b[1;32m    584\u001b[0m \u001b[43m                                         \u001b[49m\u001b[43mlower\u001b[49m\u001b[38;5;241;43m=\u001b[39;49m\u001b[38;5;28;43;01mTrue\u001b[39;49;00m\u001b[43m)\u001b[49m\n\u001b[1;32m    586\u001b[0m \u001b[38;5;28mself\u001b[39m\u001b[38;5;241m.\u001b[39mcovariance \u001b[38;5;241m=\u001b[39m \u001b[38;5;28mself\u001b[39m\u001b[38;5;241m.\u001b[39m_data_covariance \u001b[38;5;241m*\u001b[39m \u001b[38;5;28mself\u001b[39m\u001b[38;5;241m.\u001b[39mfactor\u001b[38;5;241m*\u001b[39m\u001b[38;5;241m*\u001b[39m\u001b[38;5;241m2\u001b[39m\n",
      "File \u001b[0;32m~/miniconda3/envs/NOREC/lib/python3.10/site-packages/scipy/linalg/_decomp_cholesky.py:89\u001b[0m, in \u001b[0;36mcholesky\u001b[0;34m(a, lower, overwrite_a, check_finite)\u001b[0m\n\u001b[1;32m     46\u001b[0m \u001b[38;5;250m\u001b[39m\u001b[38;5;124;03m\"\"\"\u001b[39;00m\n\u001b[1;32m     47\u001b[0m \u001b[38;5;124;03mCompute the Cholesky decomposition of a matrix.\u001b[39;00m\n\u001b[1;32m     48\u001b[0m \n\u001b[0;32m   (...)\u001b[0m\n\u001b[1;32m     87\u001b[0m \n\u001b[1;32m     88\u001b[0m \u001b[38;5;124;03m\"\"\"\u001b[39;00m\n\u001b[0;32m---> 89\u001b[0m c, lower \u001b[38;5;241m=\u001b[39m \u001b[43m_cholesky\u001b[49m\u001b[43m(\u001b[49m\u001b[43ma\u001b[49m\u001b[43m,\u001b[49m\u001b[43m \u001b[49m\u001b[43mlower\u001b[49m\u001b[38;5;241;43m=\u001b[39;49m\u001b[43mlower\u001b[49m\u001b[43m,\u001b[49m\u001b[43m \u001b[49m\u001b[43moverwrite_a\u001b[49m\u001b[38;5;241;43m=\u001b[39;49m\u001b[43moverwrite_a\u001b[49m\u001b[43m,\u001b[49m\u001b[43m \u001b[49m\u001b[43mclean\u001b[49m\u001b[38;5;241;43m=\u001b[39;49m\u001b[38;5;28;43;01mTrue\u001b[39;49;00m\u001b[43m,\u001b[49m\n\u001b[1;32m     90\u001b[0m \u001b[43m                     \u001b[49m\u001b[43mcheck_finite\u001b[49m\u001b[38;5;241;43m=\u001b[39;49m\u001b[43mcheck_finite\u001b[49m\u001b[43m)\u001b[49m\n\u001b[1;32m     91\u001b[0m \u001b[38;5;28;01mreturn\u001b[39;00m c\n",
      "File \u001b[0;32m~/miniconda3/envs/NOREC/lib/python3.10/site-packages/scipy/linalg/_decomp_cholesky.py:37\u001b[0m, in \u001b[0;36m_cholesky\u001b[0;34m(a, lower, overwrite_a, clean, check_finite)\u001b[0m\n\u001b[1;32m     36\u001b[0m \u001b[38;5;28;01mif\u001b[39;00m info \u001b[38;5;241m>\u001b[39m \u001b[38;5;241m0\u001b[39m:\n\u001b[0;32m---> 37\u001b[0m     \u001b[38;5;28;01mraise\u001b[39;00m LinAlgError(\u001b[38;5;124m\"\u001b[39m\u001b[38;5;132;01m%d\u001b[39;00m\u001b[38;5;124m-th leading minor of the array is not positive \u001b[39m\u001b[38;5;124m\"\u001b[39m\n\u001b[1;32m     38\u001b[0m                       \u001b[38;5;124m\"\u001b[39m\u001b[38;5;124mdefinite\u001b[39m\u001b[38;5;124m\"\u001b[39m \u001b[38;5;241m%\u001b[39m info)\n\u001b[1;32m     39\u001b[0m \u001b[38;5;28;01mif\u001b[39;00m info \u001b[38;5;241m<\u001b[39m \u001b[38;5;241m0\u001b[39m:\n",
      "\u001b[0;31mLinAlgError\u001b[0m: 1-th leading minor of the array is not positive definite",
      "\nThe above exception was the direct cause of the following exception:\n",
      "\u001b[0;31mLinAlgError\u001b[0m                               Traceback (most recent call last)",
      "Cell \u001b[0;32mIn[58], line 2\u001b[0m\n\u001b[1;32m      1\u001b[0m \u001b[38;5;28;01mimport\u001b[39;00m\u001b[38;5;250m \u001b[39m\u001b[38;5;21;01mplotly\u001b[39;00m\u001b[38;5;21;01m.\u001b[39;00m\u001b[38;5;21;01mfigure_factory\u001b[39;00m\u001b[38;5;250m \u001b[39m\u001b[38;5;28;01mas\u001b[39;00m\u001b[38;5;250m \u001b[39m\u001b[38;5;21;01mff\u001b[39;00m\n\u001b[0;32m----> 2\u001b[0m fig \u001b[38;5;241m=\u001b[39m \u001b[43mff\u001b[49m\u001b[38;5;241;43m.\u001b[39;49m\u001b[43mcreate_distplot\u001b[49m\u001b[43m(\u001b[49m\u001b[43md2\u001b[49m\u001b[43m,\u001b[49m\u001b[43m \u001b[49m\u001b[43m[\u001b[49m\u001b[38;5;124;43m'\u001b[39;49m\u001b[38;5;124;43merased\u001b[39;49m\u001b[38;5;124;43m'\u001b[39;49m\u001b[43m,\u001b[49m\u001b[38;5;124;43m'\u001b[39;49m\u001b[38;5;124;43mrecovered\u001b[39;49m\u001b[38;5;124;43m'\u001b[39;49m\u001b[43m]\u001b[49m\u001b[43m,\u001b[49m\u001b[43m \u001b[49m\u001b[43mcolors\u001b[49m\u001b[38;5;241;43m=\u001b[39;49m\u001b[43m[\u001b[49m\u001b[38;5;124;43m'\u001b[39;49m\u001b[38;5;124;43m#333F44\u001b[39;49m\u001b[38;5;124;43m'\u001b[39;49m\u001b[43m,\u001b[49m\u001b[43m \u001b[49m\u001b[38;5;124;43m'\u001b[39;49m\u001b[38;5;124;43m#37AA9C\u001b[39;49m\u001b[38;5;124;43m'\u001b[39;49m\u001b[43m]\u001b[49m\u001b[43m,\u001b[49m\u001b[43m \u001b[49m\u001b[43mbin_size\u001b[49m\u001b[38;5;241;43m=\u001b[39;49m\u001b[38;5;241;43m0.05\u001b[39;49m\u001b[43m,\u001b[49m\u001b[43m \u001b[49m\u001b[43mshow_rug\u001b[49m\u001b[38;5;241;43m=\u001b[39;49m\u001b[38;5;28;43;01mTrue\u001b[39;49;00m\u001b[43m)\u001b[49m\n\u001b[1;32m      3\u001b[0m fig\u001b[38;5;241m.\u001b[39mupdate_layout(\n\u001b[1;32m      4\u001b[0m     title_text\u001b[38;5;241m=\u001b[39m\u001b[38;5;124mf\u001b[39m\u001b[38;5;124m\"\u001b[39m\u001b[38;5;124mRecovery of reference strands for candidates after checksum\u001b[39m\u001b[38;5;124m\"\u001b[39m,\n\u001b[1;32m      5\u001b[0m     plot_bgcolor\u001b[38;5;241m=\u001b[39m\u001b[38;5;124m'\u001b[39m\u001b[38;5;124mwhite\u001b[39m\u001b[38;5;124m'\u001b[39m,\n\u001b[1;32m      6\u001b[0m     )\n\u001b[1;32m      7\u001b[0m \u001b[38;5;66;03m# fig.update_layout(\u001b[39;00m\n\u001b[1;32m      8\u001b[0m \u001b[38;5;66;03m#     margin=dict(l=20, r=20, t=20, b=20),\u001b[39;00m\n\u001b[1;32m      9\u001b[0m \u001b[38;5;66;03m#     xaxis=dict(title=dict(text=r\"Number of oligos received\")),\u001b[39;00m\n\u001b[0;32m   (...)\u001b[0m\n\u001b[1;32m     13\u001b[0m \u001b[38;5;66;03m#     font_color=\"black\",\u001b[39;00m\n\u001b[1;32m     14\u001b[0m \u001b[38;5;66;03m#     font_size=16,)\u001b[39;00m\n",
      "File \u001b[0;32m~/miniconda3/envs/NOREC/lib/python3.10/site-packages/plotly/figure_factory/_distplot.py:226\u001b[0m, in \u001b[0;36mcreate_distplot\u001b[0;34m(hist_data, group_labels, bin_size, curve_type, colors, rug_text, histnorm, show_hist, show_curve, show_rug)\u001b[0m\n\u001b[1;32m    204\u001b[0m         curve \u001b[38;5;241m=\u001b[39m _Distplot(\n\u001b[1;32m    205\u001b[0m             hist_data,\n\u001b[1;32m    206\u001b[0m             histnorm,\n\u001b[0;32m   (...)\u001b[0m\n\u001b[1;32m    213\u001b[0m             show_curve,\n\u001b[1;32m    214\u001b[0m         )\u001b[38;5;241m.\u001b[39mmake_normal()\n\u001b[1;32m    215\u001b[0m     \u001b[38;5;28;01melse\u001b[39;00m:\n\u001b[1;32m    216\u001b[0m         curve \u001b[38;5;241m=\u001b[39m \u001b[43m_Distplot\u001b[49m\u001b[43m(\u001b[49m\n\u001b[1;32m    217\u001b[0m \u001b[43m            \u001b[49m\u001b[43mhist_data\u001b[49m\u001b[43m,\u001b[49m\n\u001b[1;32m    218\u001b[0m \u001b[43m            \u001b[49m\u001b[43mhistnorm\u001b[49m\u001b[43m,\u001b[49m\n\u001b[1;32m    219\u001b[0m \u001b[43m            \u001b[49m\u001b[43mgroup_labels\u001b[49m\u001b[43m,\u001b[49m\n\u001b[1;32m    220\u001b[0m \u001b[43m            \u001b[49m\u001b[43mbin_size\u001b[49m\u001b[43m,\u001b[49m\n\u001b[1;32m    221\u001b[0m \u001b[43m            \u001b[49m\u001b[43mcurve_type\u001b[49m\u001b[43m,\u001b[49m\n\u001b[1;32m    222\u001b[0m \u001b[43m            \u001b[49m\u001b[43mcolors\u001b[49m\u001b[43m,\u001b[49m\n\u001b[1;32m    223\u001b[0m \u001b[43m            \u001b[49m\u001b[43mrug_text\u001b[49m\u001b[43m,\u001b[49m\n\u001b[1;32m    224\u001b[0m \u001b[43m            \u001b[49m\u001b[43mshow_hist\u001b[49m\u001b[43m,\u001b[49m\n\u001b[1;32m    225\u001b[0m \u001b[43m            \u001b[49m\u001b[43mshow_curve\u001b[49m\u001b[43m,\u001b[49m\n\u001b[0;32m--> 226\u001b[0m \u001b[43m        \u001b[49m\u001b[43m)\u001b[49m\u001b[38;5;241;43m.\u001b[39;49m\u001b[43mmake_kde\u001b[49m\u001b[43m(\u001b[49m\u001b[43m)\u001b[49m\n\u001b[1;32m    228\u001b[0m     data\u001b[38;5;241m.\u001b[39mappend(curve)\n\u001b[1;32m    230\u001b[0m \u001b[38;5;28;01mif\u001b[39;00m show_rug:\n",
      "File \u001b[0;32m~/miniconda3/envs/NOREC/lib/python3.10/site-packages/plotly/figure_factory/_distplot.py:361\u001b[0m, in \u001b[0;36m_Distplot.make_kde\u001b[0;34m(self)\u001b[0m\n\u001b[1;32m    356\u001b[0m \u001b[38;5;28;01mfor\u001b[39;00m index \u001b[38;5;129;01min\u001b[39;00m \u001b[38;5;28mrange\u001b[39m(\u001b[38;5;28mself\u001b[39m\u001b[38;5;241m.\u001b[39mtrace_number):\n\u001b[1;32m    357\u001b[0m     \u001b[38;5;28mself\u001b[39m\u001b[38;5;241m.\u001b[39mcurve_x[index] \u001b[38;5;241m=\u001b[39m [\n\u001b[1;32m    358\u001b[0m         \u001b[38;5;28mself\u001b[39m\u001b[38;5;241m.\u001b[39mstart[index] \u001b[38;5;241m+\u001b[39m x \u001b[38;5;241m*\u001b[39m (\u001b[38;5;28mself\u001b[39m\u001b[38;5;241m.\u001b[39mend[index] \u001b[38;5;241m-\u001b[39m \u001b[38;5;28mself\u001b[39m\u001b[38;5;241m.\u001b[39mstart[index]) \u001b[38;5;241m/\u001b[39m \u001b[38;5;241m500\u001b[39m\n\u001b[1;32m    359\u001b[0m         \u001b[38;5;28;01mfor\u001b[39;00m x \u001b[38;5;129;01min\u001b[39;00m \u001b[38;5;28mrange\u001b[39m(\u001b[38;5;241m500\u001b[39m)\n\u001b[1;32m    360\u001b[0m     ]\n\u001b[0;32m--> 361\u001b[0m     \u001b[38;5;28mself\u001b[39m\u001b[38;5;241m.\u001b[39mcurve_y[index] \u001b[38;5;241m=\u001b[39m \u001b[43mscipy_stats\u001b[49m\u001b[38;5;241;43m.\u001b[39;49m\u001b[43mgaussian_kde\u001b[49m\u001b[43m(\u001b[49m\u001b[38;5;28;43mself\u001b[39;49m\u001b[38;5;241;43m.\u001b[39;49m\u001b[43mhist_data\u001b[49m\u001b[43m[\u001b[49m\u001b[43mindex\u001b[49m\u001b[43m]\u001b[49m\u001b[43m)\u001b[49m(\n\u001b[1;32m    362\u001b[0m         \u001b[38;5;28mself\u001b[39m\u001b[38;5;241m.\u001b[39mcurve_x[index]\n\u001b[1;32m    363\u001b[0m     )\n\u001b[1;32m    365\u001b[0m     \u001b[38;5;28;01mif\u001b[39;00m \u001b[38;5;28mself\u001b[39m\u001b[38;5;241m.\u001b[39mhistnorm \u001b[38;5;241m==\u001b[39m ALTERNATIVE_HISTNORM:\n\u001b[1;32m    366\u001b[0m         \u001b[38;5;28mself\u001b[39m\u001b[38;5;241m.\u001b[39mcurve_y[index] \u001b[38;5;241m*\u001b[39m\u001b[38;5;241m=\u001b[39m \u001b[38;5;28mself\u001b[39m\u001b[38;5;241m.\u001b[39mbin_size[index]\n",
      "File \u001b[0;32m~/miniconda3/envs/NOREC/lib/python3.10/site-packages/scipy/stats/_kde.py:232\u001b[0m, in \u001b[0;36mgaussian_kde.__init__\u001b[0;34m(self, dataset, bw_method, weights)\u001b[0m\n\u001b[1;32m    224\u001b[0m \u001b[38;5;28;01mexcept\u001b[39;00m linalg\u001b[38;5;241m.\u001b[39mLinAlgError \u001b[38;5;28;01mas\u001b[39;00m e:\n\u001b[1;32m    225\u001b[0m     msg \u001b[38;5;241m=\u001b[39m (\u001b[38;5;124m\"\u001b[39m\u001b[38;5;124mThe data appears to lie in a lower-dimensional subspace \u001b[39m\u001b[38;5;124m\"\u001b[39m\n\u001b[1;32m    226\u001b[0m            \u001b[38;5;124m\"\u001b[39m\u001b[38;5;124mof the space in which it is expressed. This has resulted \u001b[39m\u001b[38;5;124m\"\u001b[39m\n\u001b[1;32m    227\u001b[0m            \u001b[38;5;124m\"\u001b[39m\u001b[38;5;124min a singular data covariance matrix, which cannot be \u001b[39m\u001b[38;5;124m\"\u001b[39m\n\u001b[0;32m   (...)\u001b[0m\n\u001b[1;32m    230\u001b[0m            \u001b[38;5;124m\"\u001b[39m\u001b[38;5;124manalysis / dimensionality reduction and using \u001b[39m\u001b[38;5;124m\"\u001b[39m\n\u001b[1;32m    231\u001b[0m            \u001b[38;5;124m\"\u001b[39m\u001b[38;5;124m`gaussian_kde` with the transformed data.\u001b[39m\u001b[38;5;124m\"\u001b[39m)\n\u001b[0;32m--> 232\u001b[0m     \u001b[38;5;28;01mraise\u001b[39;00m linalg\u001b[38;5;241m.\u001b[39mLinAlgError(msg) \u001b[38;5;28;01mfrom\u001b[39;00m\u001b[38;5;250m \u001b[39m\u001b[38;5;21;01me\u001b[39;00m\n",
      "\u001b[0;31mLinAlgError\u001b[0m: The data appears to lie in a lower-dimensional subspace of the space in which it is expressed. This has resulted in a singular data covariance matrix, which cannot be treated using the algorithms implemented in `gaussian_kde`. Consider performing principle component analysis / dimensionality reduction and using `gaussian_kde` with the transformed data."
     ]
    }
   ],
   "source": [
    "import plotly.figure_factory as ff\n",
    "fig = ff.create_distplot(d2, ['erased','recovered'], colors=['#333F44', '#37AA9C'], bin_size=0.05, show_rug=True)\n",
    "fig.update_layout(\n",
    "    title_text=f\"Recovery of reference strands for candidates after checksum\",\n",
    "    plot_bgcolor='white',\n",
    "    )\n",
    "# fig.update_layout(\n",
    "#     margin=dict(l=20, r=20, t=20, b=20),\n",
    "#     xaxis=dict(title=dict(text=r\"Number of oligos received\")),\n",
    "#     yaxis=dict(title=dict(text=r\"Chunk Index\")),\n",
    "#     plot_bgcolor='white',\n",
    "#     font_family=\"Arial\",\n",
    "#     font_color=\"black\",\n",
    "#     font_size=16,)\n",
    "fig.update_xaxes(\n",
    "# range=[0, 1],\n",
    "mirror=True,\n",
    "ticks='outside',\n",
    "showline=True,\n",
    "linecolor='black',\n",
    "gridcolor='lightgrey'\n",
    ")\n",
    "fig.update_yaxes(\n",
    "    mirror=True,\n",
    "    ticks='outside',\n",
    "    showline=True,\n",
    "    linecolor='black',\n",
    "    gridcolor='lightgrey',\n",
    ")\n",
    "fig.show()"
   ]
  },
  {
   "cell_type": "code",
   "execution_count": 17,
   "metadata": {},
   "outputs": [],
   "source": [
    "import plotly.graph_objs as go\n",
    "import pandas as pd\n",
    "import plotly.express as px\n",
    "import plotly.io as pio\n",
    "\n",
    "pio.write_image(fig, \"/Users/i/Desktop/recovery.png\", scale=3, width=1080, height=720)"
   ]
  },
  {
   "cell_type": "code",
   "execution_count": null,
   "metadata": {},
   "outputs": [],
   "source": []
  }
 ],
 "metadata": {
  "kernelspec": {
   "display_name": "NOREC",
   "language": "python",
   "name": "python3"
  },
  "language_info": {
   "codemirror_mode": {
    "name": "ipython",
    "version": 3
   },
   "file_extension": ".py",
   "mimetype": "text/x-python",
   "name": "python",
   "nbconvert_exporter": "python",
   "pygments_lexer": "ipython3",
   "version": "3.10.16"
  }
 },
 "nbformat": 4,
 "nbformat_minor": 2
}
